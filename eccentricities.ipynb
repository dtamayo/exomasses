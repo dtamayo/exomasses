{
 "cells": [
  {
   "cell_type": "code",
   "execution_count": 1,
   "metadata": {},
   "outputs": [
    {
     "name": "stderr",
     "output_type": "stream",
     "text": [
      "/Users/dtamayo/miniconda3/envs/p3/lib/python3.7/site-packages/IPython/core/interactiveshell.py:2785: DtypeWarning: Columns (5) have mixed types. Specify dtype option on import or set low_memory=False.\n",
      "  interactivity=interactivity, compiler=compiler, result=result)\n"
     ]
    },
    {
     "data": {
      "text/plain": [
       "(26268, 296)"
      ]
     },
     "execution_count": 1,
     "metadata": {},
     "output_type": "execute_result"
    }
   ],
   "source": [
    "import matplotlib.pyplot as plt\n",
    "import numpy as np\n",
    "import pandas as pd\n",
    "import sys\n",
    "sys.path.append('../forecaster')\n",
    "import mr_forecast as mr\n",
    "\n",
    "%matplotlib inline\n",
    "\n",
    "df = pd.read_csv('exoarchive.csv')\n",
    "df.shape"
   ]
  },
  {
   "cell_type": "code",
   "execution_count": 3,
   "metadata": {},
   "outputs": [
    {
     "data": {
      "text/html": [
       "<div>\n",
       "<style scoped>\n",
       "    .dataframe tbody tr th:only-of-type {\n",
       "        vertical-align: middle;\n",
       "    }\n",
       "\n",
       "    .dataframe tbody tr th {\n",
       "        vertical-align: top;\n",
       "    }\n",
       "\n",
       "    .dataframe thead th {\n",
       "        text-align: right;\n",
       "    }\n",
       "</style>\n",
       "<table border=\"1\" class=\"dataframe\">\n",
       "  <thead>\n",
       "    <tr style=\"text-align: right;\">\n",
       "      <th></th>\n",
       "      <th>rowid</th>\n",
       "      <th>pl_name</th>\n",
       "      <th>hostname</th>\n",
       "      <th>pl_letter</th>\n",
       "      <th>hd_name</th>\n",
       "      <th>hip_name</th>\n",
       "      <th>tic_id</th>\n",
       "      <th>default_flag</th>\n",
       "      <th>sy_snum</th>\n",
       "      <th>sy_pnum</th>\n",
       "      <th>...</th>\n",
       "      <th>sy_kepmagerr1</th>\n",
       "      <th>sy_kepmagerr2</th>\n",
       "      <th>rowupdate</th>\n",
       "      <th>pl_pubdate</th>\n",
       "      <th>releasedate</th>\n",
       "      <th>pl_nnotes</th>\n",
       "      <th>st_nphot</th>\n",
       "      <th>st_nrvc</th>\n",
       "      <th>st_ntranspec</th>\n",
       "      <th>st_nspec</th>\n",
       "    </tr>\n",
       "  </thead>\n",
       "  <tbody>\n",
       "    <tr>\n",
       "      <th>0</th>\n",
       "      <td>1</td>\n",
       "      <td>11 Com b</td>\n",
       "      <td>11 Com</td>\n",
       "      <td>b</td>\n",
       "      <td>NaN</td>\n",
       "      <td>HIP 60202 b</td>\n",
       "      <td>TIC 72437047 b</td>\n",
       "      <td>1</td>\n",
       "      <td>2</td>\n",
       "      <td>1</td>\n",
       "      <td>...</td>\n",
       "      <td>NaN</td>\n",
       "      <td>NaN</td>\n",
       "      <td>2014-05-14</td>\n",
       "      <td>2008-01</td>\n",
       "      <td>2014-05-14</td>\n",
       "      <td>2</td>\n",
       "      <td>0</td>\n",
       "      <td>2</td>\n",
       "      <td>0</td>\n",
       "      <td>0</td>\n",
       "    </tr>\n",
       "    <tr>\n",
       "      <th>1</th>\n",
       "      <td>2</td>\n",
       "      <td>11 Com b</td>\n",
       "      <td>11 Com</td>\n",
       "      <td>b</td>\n",
       "      <td>NaN</td>\n",
       "      <td>HIP 60202 b</td>\n",
       "      <td>TIC 72437047 b</td>\n",
       "      <td>0</td>\n",
       "      <td>2</td>\n",
       "      <td>1</td>\n",
       "      <td>...</td>\n",
       "      <td>NaN</td>\n",
       "      <td>NaN</td>\n",
       "      <td>2014-07-23</td>\n",
       "      <td>2011-08</td>\n",
       "      <td>2014-07-23</td>\n",
       "      <td>2</td>\n",
       "      <td>0</td>\n",
       "      <td>2</td>\n",
       "      <td>0</td>\n",
       "      <td>0</td>\n",
       "    </tr>\n",
       "    <tr>\n",
       "      <th>2</th>\n",
       "      <td>3</td>\n",
       "      <td>11 UMi b</td>\n",
       "      <td>11 UMi</td>\n",
       "      <td>b</td>\n",
       "      <td>NaN</td>\n",
       "      <td>HIP 74793 b</td>\n",
       "      <td>TIC 230061010 b</td>\n",
       "      <td>0</td>\n",
       "      <td>1</td>\n",
       "      <td>1</td>\n",
       "      <td>...</td>\n",
       "      <td>NaN</td>\n",
       "      <td>NaN</td>\n",
       "      <td>2018-04-25</td>\n",
       "      <td>2009-10</td>\n",
       "      <td>2018-04-25</td>\n",
       "      <td>0</td>\n",
       "      <td>0</td>\n",
       "      <td>1</td>\n",
       "      <td>0</td>\n",
       "      <td>0</td>\n",
       "    </tr>\n",
       "    <tr>\n",
       "      <th>3</th>\n",
       "      <td>4</td>\n",
       "      <td>11 UMi b</td>\n",
       "      <td>11 UMi</td>\n",
       "      <td>b</td>\n",
       "      <td>NaN</td>\n",
       "      <td>HIP 74793 b</td>\n",
       "      <td>TIC 230061010 b</td>\n",
       "      <td>1</td>\n",
       "      <td>1</td>\n",
       "      <td>1</td>\n",
       "      <td>...</td>\n",
       "      <td>NaN</td>\n",
       "      <td>NaN</td>\n",
       "      <td>2018-09-04</td>\n",
       "      <td>2017-03</td>\n",
       "      <td>2018-09-04</td>\n",
       "      <td>0</td>\n",
       "      <td>0</td>\n",
       "      <td>1</td>\n",
       "      <td>0</td>\n",
       "      <td>0</td>\n",
       "    </tr>\n",
       "    <tr>\n",
       "      <th>4</th>\n",
       "      <td>5</td>\n",
       "      <td>11 UMi b</td>\n",
       "      <td>11 UMi</td>\n",
       "      <td>b</td>\n",
       "      <td>NaN</td>\n",
       "      <td>HIP 74793 b</td>\n",
       "      <td>TIC 230061010 b</td>\n",
       "      <td>0</td>\n",
       "      <td>1</td>\n",
       "      <td>1</td>\n",
       "      <td>...</td>\n",
       "      <td>NaN</td>\n",
       "      <td>NaN</td>\n",
       "      <td>2018-04-25</td>\n",
       "      <td>2011-08</td>\n",
       "      <td>2018-04-25</td>\n",
       "      <td>0</td>\n",
       "      <td>0</td>\n",
       "      <td>1</td>\n",
       "      <td>0</td>\n",
       "      <td>0</td>\n",
       "    </tr>\n",
       "  </tbody>\n",
       "</table>\n",
       "<p>5 rows × 296 columns</p>\n",
       "</div>"
      ],
      "text/plain": [
       "   rowid   pl_name hostname pl_letter  hd_name     hip_name           tic_id  \\\n",
       "0      1  11 Com b   11 Com         b      NaN  HIP 60202 b   TIC 72437047 b   \n",
       "1      2  11 Com b   11 Com         b      NaN  HIP 60202 b   TIC 72437047 b   \n",
       "2      3  11 UMi b   11 UMi         b      NaN  HIP 74793 b  TIC 230061010 b   \n",
       "3      4  11 UMi b   11 UMi         b      NaN  HIP 74793 b  TIC 230061010 b   \n",
       "4      5  11 UMi b   11 UMi         b      NaN  HIP 74793 b  TIC 230061010 b   \n",
       "\n",
       "   default_flag  sy_snum  sy_pnum    ...     sy_kepmagerr1 sy_kepmagerr2  \\\n",
       "0             1        2        1    ...               NaN           NaN   \n",
       "1             0        2        1    ...               NaN           NaN   \n",
       "2             0        1        1    ...               NaN           NaN   \n",
       "3             1        1        1    ...               NaN           NaN   \n",
       "4             0        1        1    ...               NaN           NaN   \n",
       "\n",
       "    rowupdate pl_pubdate releasedate pl_nnotes st_nphot st_nrvc st_ntranspec  \\\n",
       "0  2014-05-14    2008-01  2014-05-14         2        0       2            0   \n",
       "1  2014-07-23    2011-08  2014-07-23         2        0       2            0   \n",
       "2  2018-04-25    2009-10  2018-04-25         0        0       1            0   \n",
       "3  2018-09-04    2017-03  2018-09-04         0        0       1            0   \n",
       "4  2018-04-25    2011-08  2018-04-25         0        0       1            0   \n",
       "\n",
       "   st_nspec  \n",
       "0         0  \n",
       "1         0  \n",
       "2         0  \n",
       "3         0  \n",
       "4         0  \n",
       "\n",
       "[5 rows x 296 columns]"
      ]
     },
     "execution_count": 3,
     "metadata": {},
     "output_type": "execute_result"
    }
   ],
   "source": [
    "df.head()"
   ]
  },
  {
   "cell_type": "code",
   "execution_count": 13,
   "metadata": {},
   "outputs": [
    {
     "data": {
      "text/html": [
       "<div>\n",
       "<style scoped>\n",
       "    .dataframe tbody tr th:only-of-type {\n",
       "        vertical-align: middle;\n",
       "    }\n",
       "\n",
       "    .dataframe tbody tr th {\n",
       "        vertical-align: top;\n",
       "    }\n",
       "\n",
       "    .dataframe thead th {\n",
       "        text-align: right;\n",
       "    }\n",
       "</style>\n",
       "<table border=\"1\" class=\"dataframe\">\n",
       "  <thead>\n",
       "    <tr style=\"text-align: right;\">\n",
       "      <th></th>\n",
       "      <th>pl_rade</th>\n",
       "      <th>pl_radeerr1</th>\n",
       "      <th>pl_radeerr2</th>\n",
       "      <th>pl_refname</th>\n",
       "    </tr>\n",
       "  </thead>\n",
       "  <tbody>\n",
       "    <tr>\n",
       "      <th>13365</th>\n",
       "      <td>2.280</td>\n",
       "      <td>0.070</td>\n",
       "      <td>-0.070</td>\n",
       "      <td>&lt;a refstr=Q1_Q16_KOI_TABLE href=https://exopla...</td>\n",
       "    </tr>\n",
       "    <tr>\n",
       "      <th>13366</th>\n",
       "      <td>2.175</td>\n",
       "      <td>0.111</td>\n",
       "      <td>-0.099</td>\n",
       "      <td>&lt;a refstr=BERGER_ET_AL__2018 href=https://ui.a...</td>\n",
       "    </tr>\n",
       "    <tr>\n",
       "      <th>13367</th>\n",
       "      <td>2.200</td>\n",
       "      <td>0.070</td>\n",
       "      <td>-0.070</td>\n",
       "      <td>&lt;a refstr=HADDEN_ET_AL__2014 href=https://ui.a...</td>\n",
       "    </tr>\n",
       "    <tr>\n",
       "      <th>13368</th>\n",
       "      <td>2.810</td>\n",
       "      <td>0.720</td>\n",
       "      <td>-0.720</td>\n",
       "      <td>&lt;a refstr=Q1_Q8_KOI_TABLE href=https://exoplan...</td>\n",
       "    </tr>\n",
       "    <tr>\n",
       "      <th>13369</th>\n",
       "      <td>NaN</td>\n",
       "      <td>NaN</td>\n",
       "      <td>NaN</td>\n",
       "      <td>&lt;a refstr=HOLCZER_ET_AL__2016 href=https://ui....</td>\n",
       "    </tr>\n",
       "    <tr>\n",
       "      <th>13370</th>\n",
       "      <td>2.170</td>\n",
       "      <td>0.130</td>\n",
       "      <td>-0.090</td>\n",
       "      <td>&lt;a refstr=Q1_Q17_DR25_KOI_TABLE href=https://e...</td>\n",
       "    </tr>\n",
       "    <tr>\n",
       "      <th>13371</th>\n",
       "      <td>2.235</td>\n",
       "      <td>0.088</td>\n",
       "      <td>-0.088</td>\n",
       "      <td>&lt;a refstr=VAN_EYLEN___ALBRECHT_2015 href=https...</td>\n",
       "    </tr>\n",
       "    <tr>\n",
       "      <th>13372</th>\n",
       "      <td>2.280</td>\n",
       "      <td>0.070</td>\n",
       "      <td>-0.070</td>\n",
       "      <td>&lt;a refstr=Q1_Q12_KOI_TABLE href=https://exopla...</td>\n",
       "    </tr>\n",
       "    <tr>\n",
       "      <th>13373</th>\n",
       "      <td>2.280</td>\n",
       "      <td>0.070</td>\n",
       "      <td>-0.070</td>\n",
       "      <td>&lt;a refstr=Q1_Q17_DR24_KOI_TABLE href=https://e...</td>\n",
       "    </tr>\n",
       "    <tr>\n",
       "      <th>13374</th>\n",
       "      <td>NaN</td>\n",
       "      <td>NaN</td>\n",
       "      <td>NaN</td>\n",
       "      <td>&lt;a refstr=GAJDO_SCARON__ET_AL__2019 href=https...</td>\n",
       "    </tr>\n",
       "    <tr>\n",
       "      <th>13375</th>\n",
       "      <td>2.400</td>\n",
       "      <td>0.090</td>\n",
       "      <td>-0.090</td>\n",
       "      <td>&lt;a refstr=MORTON_ET_AL__2016 href=https://ui.a...</td>\n",
       "    </tr>\n",
       "    <tr>\n",
       "      <th>13376</th>\n",
       "      <td>2.200</td>\n",
       "      <td>0.090</td>\n",
       "      <td>-0.090</td>\n",
       "      <td>&lt;a refstr=ROWE_ET_AL__2014 href=https://ui.ads...</td>\n",
       "    </tr>\n",
       "  </tbody>\n",
       "</table>\n",
       "</div>"
      ],
      "text/plain": [
       "       pl_rade  pl_radeerr1  pl_radeerr2  \\\n",
       "13365    2.280        0.070       -0.070   \n",
       "13366    2.175        0.111       -0.099   \n",
       "13367    2.200        0.070       -0.070   \n",
       "13368    2.810        0.720       -0.720   \n",
       "13369      NaN          NaN          NaN   \n",
       "13370    2.170        0.130       -0.090   \n",
       "13371    2.235        0.088       -0.088   \n",
       "13372    2.280        0.070       -0.070   \n",
       "13373    2.280        0.070       -0.070   \n",
       "13374      NaN          NaN          NaN   \n",
       "13375    2.400        0.090       -0.090   \n",
       "13376    2.200        0.090       -0.090   \n",
       "\n",
       "                                              pl_refname  \n",
       "13365  <a refstr=Q1_Q16_KOI_TABLE href=https://exopla...  \n",
       "13366  <a refstr=BERGER_ET_AL__2018 href=https://ui.a...  \n",
       "13367  <a refstr=HADDEN_ET_AL__2014 href=https://ui.a...  \n",
       "13368  <a refstr=Q1_Q8_KOI_TABLE href=https://exoplan...  \n",
       "13369  <a refstr=HOLCZER_ET_AL__2016 href=https://ui....  \n",
       "13370  <a refstr=Q1_Q17_DR25_KOI_TABLE href=https://e...  \n",
       "13371  <a refstr=VAN_EYLEN___ALBRECHT_2015 href=https...  \n",
       "13372  <a refstr=Q1_Q12_KOI_TABLE href=https://exopla...  \n",
       "13373  <a refstr=Q1_Q17_DR24_KOI_TABLE href=https://e...  \n",
       "13374  <a refstr=GAJDO_SCARON__ET_AL__2019 href=https...  \n",
       "13375  <a refstr=MORTON_ET_AL__2016 href=https://ui.a...  \n",
       "13376  <a refstr=ROWE_ET_AL__2014 href=https://ui.ads...  "
      ]
     },
     "execution_count": 13,
     "metadata": {},
     "output_type": "execute_result"
    }
   ],
   "source": [
    "df[df['pl_name']=='Kepler-23 d'][['pl_rade', 'pl_radeerr1', 'pl_radeerr2', 'pl_refname']]"
   ]
  },
  {
   "cell_type": "code",
   "execution_count": 14,
   "metadata": {},
   "outputs": [
    {
     "data": {
      "text/plain": [
       "(6460, 296)"
      ]
     },
     "execution_count": 14,
     "metadata": {},
     "output_type": "execute_result"
    }
   ],
   "source": [
    "Nplanetmin = 3\n",
    "df = df[df['sy_pnum']>=Nplanetmin]\n",
    "df.shape"
   ]
  },
  {
   "cell_type": "code",
   "execution_count": 3,
   "metadata": {},
   "outputs": [],
   "source": [
    "def singlerowwithradius(df, name):\n",
    "    copies = df[df['pl_name']==name]\n",
    "    # take row with min error on radius\n",
    "    raderrs = copies['pl_radeerr1'][copies['pl_radeerr1'] > 0]\n",
    "    if raderrs.shape[0] > 0: # a row with nonzero errors exists\n",
    "        row = copies[copies['pl_radeerr1'] == raderrs.min()].iloc[0]\n",
    "        row['my_rade'] = row['pl_rade']\n",
    "        row['my_rade_ref'] = row['pl_refname']\n",
    "    else:\n",
    "        masserrs = copies['pl_masseerr1'][copies['pl_masseerr1'] > 0]\n",
    "        if masserrs.shape[0] > 0: # a row with nonzero errors exists\n",
    "            row = copies[copies['pl_masseerr1'] == masserrs.min()].iloc[0]\n",
    "            row['my_masse'] = row['pl_masse']\n",
    "            row['my_masse_ref'] = row['pl_refname']\n",
    "        else:\n",
    "            msinierrs = copies['pl_msinieerr1'][copies['pl_msinieerr1'] > 0]\n",
    "            if msinierrs.shape[0] > 0: # a row with nonzero errors exists\n",
    "                row = copies[copies['pl_msinieerr1'] == msinierrs.min()].iloc[0]\n",
    "                row['my_msinie'] = row['pl_msinie']\n",
    "                row['my_msinie_ref'] = row['pl_refname']\n",
    "                row['my_masse'] = row['my_msinie']/0.866 # divide msini by median sini = 0.866 for isotropic distribution\n",
    "            else:\n",
    "                print(name, 'No errors reported on radius, mass or msini')\n",
    "                return None\n",
    "    \n",
    "    try:\n",
    "        row['my_rade']\n",
    "    except:\n",
    "        row['my_rade'] = np.median(mr.Mpost2R([row['my_masse']]*100, unit='Earth')) # median of 100 samples from forecaster\n",
    "    try:\n",
    "        row['my_masse']\n",
    "    except:\n",
    "        row['my_masse'] = np.median(mr.Rpost2M([row['my_rade']]*100, unit='Earth')) # median of 100 samples from forecaster\n",
    "        \n",
    "    eccerrs = copies['pl_orbeccenerr1'][copies['pl_orbeccenerr1'] > 0]\n",
    "    if eccerrs.shape[0] > 0: # a row with nonzero errors exists\n",
    "        row_mineccerr = copies[copies['pl_orbeccenerr1'] == eccerrs.min()].iloc[0]\n",
    "        row['my_ecc'] = row_mineccerr['pl_orbeccen']\n",
    "        row['my_eccerr1'] = row_mineccerr['pl_orbeccenerr1']\n",
    "        row['my_ecc_refname'] = row_mineccerr['pl_refname']\n",
    "    else:\n",
    "        pass\n",
    "    \n",
    "    perrs = copies['pl_orbpererr1'][copies['pl_orbpererr1'] > 0]\n",
    "    if perrs.shape[0] > 0: # a row with nonzero errors exists\n",
    "        row_minperr = copies[copies['pl_orbpererr1'] == perrs.min()].iloc[0]\n",
    "        row['my_orbper'] = row_minperr['pl_orbper']\n",
    "        row['my_orbper_refname'] = row_minperr['pl_refname']\n",
    "    else:\n",
    "        pass\n",
    "    \n",
    "    stmasserrs = copies['st_masserr1'][copies['st_masserr1'] > 0]\n",
    "    if stmasserrs.shape[0] > 0: # a row with nonzero errors exists\n",
    "        row_minstmasserr = copies[copies['st_masserr1'] == stmasserrs.min()].iloc[0]\n",
    "        row['my_stmass'] = row_minstmasserr['st_mass']\n",
    "        row['my_stmass_refname'] = row_minstmasserr['st_refname']\n",
    "    else:\n",
    "        print(name, 'No stellar mass')\n",
    "        return None\n",
    "    \n",
    "    return row"
   ]
  },
  {
   "cell_type": "code",
   "execution_count": 4,
   "metadata": {},
   "outputs": [
    {
     "name": "stdout",
     "output_type": "stream",
     "text": [
      "GJ 163 b No stellar mass\n",
      "GJ 163 c No stellar mass\n",
      "GJ 163 d No stellar mass\n",
      "GJ 180 b No stellar mass\n",
      "GJ 180 c No stellar mass\n",
      "GJ 180 d No stellar mass\n",
      "GJ 3138 b No stellar mass\n",
      "GJ 3138 c No stellar mass\n",
      "GJ 3138 d No stellar mass\n",
      "GJ 3293 b No stellar mass\n",
      "GJ 3293 c No stellar mass\n",
      "GJ 3293 d No stellar mass\n",
      "GJ 3293 e No stellar mass\n",
      "GJ 433 c No stellar mass\n",
      "GJ 433 d No stellar mass\n",
      "GJ 676 A c No stellar mass\n",
      "HD 133131 A b No stellar mass\n",
      "HD 133131 A c No stellar mass\n",
      "HD 133131 B b No stellar mass\n",
      "HD 136352 b No stellar mass\n",
      "HD 136352 c No stellar mass\n",
      "HD 136352 d No stellar mass\n",
      "HD 160691 d No errors reported on radius, mass or msini\n",
      "HD 160691 e No errors reported on radius, mass or msini\n",
      "HD 181433 b No errors reported on radius, mass or msini\n",
      "HD 181433 c No errors reported on radius, mass or msini\n",
      "HD 181433 d No errors reported on radius, mass or msini\n",
      "HD 20781 b No stellar mass\n",
      "HD 20781 c No stellar mass\n",
      "HD 20781 d No stellar mass\n",
      "HD 20781 e No stellar mass\n",
      "HD 27894 b No stellar mass\n",
      "HD 27894 c No stellar mass\n",
      "HD 27894 d No stellar mass\n",
      "HD 31527 b No stellar mass\n",
      "HD 31527 c No stellar mass\n",
      "HD 31527 d No stellar mass\n",
      "HD 69830 b No errors reported on radius, mass or msini\n",
      "HD 69830 c No errors reported on radius, mass or msini\n",
      "HD 69830 d No errors reported on radius, mass or msini\n",
      "KIC 10001893 b No errors reported on radius, mass or msini\n",
      "KIC 10001893 c No errors reported on radius, mass or msini\n",
      "KIC 10001893 d No errors reported on radius, mass or msini\n",
      "Kepler-150 f No stellar mass\n",
      "Kepler-56 d No stellar mass\n",
      "PSR B1257+12 b No stellar mass\n",
      "PSR B1257+12 c No stellar mass\n",
      "PSR B1257+12 d No stellar mass\n",
      "Wolf 1061 b No stellar mass\n",
      "Wolf 1061 c No stellar mass\n",
      "Wolf 1061 d No stellar mass\n",
      "CPU times: user 1min 51s, sys: 400 ms, total: 1min 51s\n",
      "Wall time: 1min 51s\n"
     ]
    }
   ],
   "source": [
    "%%time\n",
    "dfunique = pd.DataFrame()\n",
    "for name in df['pl_name'].unique():\n",
    "    dfunique=dfunique.append(singlerowwithradius(df, name))\n",
    "# Not all entries have smax, and makes sure period and stmass are consistent\n",
    "dfunique['my_orbsmax'] = dfunique['my_stmass']**(1/3.)*(dfunique['my_orbper']/365)**(2/3.)"
   ]
  },
  {
   "cell_type": "code",
   "execution_count": 5,
   "metadata": {},
   "outputs": [
    {
     "data": {
      "text/plain": [
       "0"
      ]
     },
     "execution_count": 5,
     "metadata": {},
     "output_type": "execute_result"
    }
   ],
   "source": [
    "dfunique['my_orbper'].isnull().sum()"
   ]
  },
  {
   "cell_type": "code",
   "execution_count": 6,
   "metadata": {},
   "outputs": [
    {
     "data": {
      "text/html": [
       "<div>\n",
       "<style scoped>\n",
       "    .dataframe tbody tr th:only-of-type {\n",
       "        vertical-align: middle;\n",
       "    }\n",
       "\n",
       "    .dataframe tbody tr th {\n",
       "        vertical-align: top;\n",
       "    }\n",
       "\n",
       "    .dataframe thead th {\n",
       "        text-align: right;\n",
       "    }\n",
       "</style>\n",
       "<table border=\"1\" class=\"dataframe\">\n",
       "  <thead>\n",
       "    <tr style=\"text-align: right;\">\n",
       "      <th></th>\n",
       "      <th>pl_orbsmax</th>\n",
       "      <th>my_orbsmax</th>\n",
       "    </tr>\n",
       "  </thead>\n",
       "  <tbody>\n",
       "    <tr>\n",
       "      <th>43</th>\n",
       "      <td>2.100000</td>\n",
       "      <td>2.105616</td>\n",
       "    </tr>\n",
       "    <tr>\n",
       "      <th>46</th>\n",
       "      <td>3.600000</td>\n",
       "      <td>3.569657</td>\n",
       "    </tr>\n",
       "    <tr>\n",
       "      <th>47</th>\n",
       "      <td>11.600000</td>\n",
       "      <td>11.597564</td>\n",
       "    </tr>\n",
       "    <tr>\n",
       "      <th>55</th>\n",
       "      <td>0.115227</td>\n",
       "      <td>0.115246</td>\n",
       "    </tr>\n",
       "    <tr>\n",
       "      <th>67</th>\n",
       "      <td>0.241376</td>\n",
       "      <td>0.241266</td>\n",
       "    </tr>\n",
       "  </tbody>\n",
       "</table>\n",
       "</div>"
      ],
      "text/plain": [
       "    pl_orbsmax  my_orbsmax\n",
       "43    2.100000    2.105616\n",
       "46    3.600000    3.569657\n",
       "47   11.600000   11.597564\n",
       "55    0.115227    0.115246\n",
       "67    0.241376    0.241266"
      ]
     },
     "execution_count": 6,
     "metadata": {},
     "output_type": "execute_result"
    }
   ],
   "source": [
    "dfunique[['pl_orbsmax', 'my_orbsmax']].head()"
   ]
  },
  {
   "cell_type": "code",
   "execution_count": 7,
   "metadata": {},
   "outputs": [
    {
     "data": {
      "text/plain": [
       "<matplotlib.axes._subplots.AxesSubplot at 0x7fde512d5940>"
      ]
     },
     "execution_count": 7,
     "metadata": {},
     "output_type": "execute_result"
    },
    {
     "name": "stderr",
     "output_type": "stream",
     "text": [
      "findfont: Font family ['serif'] not found. Falling back to DejaVu Sans.\n"
     ]
    },
    {
     "data": {
      "image/png": "[encoded data removed]",
      "text/plain": [
       "<Figure size 432x288 with 1 Axes>"
      ]
     },
     "metadata": {
      "needs_background": "light"
     },
     "output_type": "display_data"
    }
   ],
   "source": [
    "dfunique['my_rade'].hist()"
   ]
  },
  {
   "cell_type": "code",
   "execution_count": 8,
   "metadata": {},
   "outputs": [
    {
     "data": {
      "text/plain": [
       "0.8434343434343434"
      ]
     },
     "execution_count": 8,
     "metadata": {},
     "output_type": "execute_result"
    }
   ],
   "source": [
    "dfunique[dfunique['my_rade']<4].shape[0]/dfunique.shape[0]"
   ]
  },
  {
   "cell_type": "code",
   "execution_count": 9,
   "metadata": {},
   "outputs": [
    {
     "data": {
      "text/plain": [
       "226"
      ]
     },
     "execution_count": 9,
     "metadata": {},
     "output_type": "execute_result"
    }
   ],
   "source": [
    "# lost 12 systems to no stellar mass and 4 to no rad, pl mass or msini (< 10%)\n",
    "Nsys = len(dfunique['hostname'].unique())\n",
    "Nsys"
   ]
  },
  {
   "cell_type": "code",
   "execution_count": 10,
   "metadata": {},
   "outputs": [
    {
     "data": {
      "text/plain": [
       "792"
      ]
     },
     "execution_count": 10,
     "metadata": {},
     "output_type": "execute_result"
    }
   ],
   "source": [
    "Nplanet = dfunique.shape[0]\n",
    "Nplanet"
   ]
  },
  {
   "cell_type": "code",
   "execution_count": 11,
   "metadata": {},
   "outputs": [
    {
     "name": "stdout",
     "output_type": "stream",
     "text": [
      "CPU times: user 32.4 s, sys: 205 ms, total: 32.7 s\n",
      "Wall time: 32.7 s\n"
     ]
    }
   ],
   "source": [
    "%%time\n",
    "pratiothresh = 2.0\n",
    "Mearth = 3.e-6 # solar masses\n",
    "exclude = ['K2-148'] # orb periods don't match between different papers, names mixed up?\n",
    "minPs = []\n",
    "final = pd.DataFrame()\n",
    "for ID in dfunique['hostname'].unique():\n",
    "    s = dfunique[dfunique['hostname'] == ID].sort_values('my_orbper')\n",
    "    Np = s.shape[0]\n",
    "    if Np < Nplanetmin:\n",
    "        continue\n",
    "    if ID in exclude:\n",
    "        continue\n",
    "        \n",
    "    Ncompactpairs = 0\n",
    "    for i in range(Np-1):\n",
    "        pratio = s.iloc[i+1]['my_orbper']/s.iloc[i]['my_orbper']\n",
    "        if pratio < pratiothresh:\n",
    "            Ncompactpairs += 1\n",
    "    compact = True if Ncompactpairs >= 2 else False # DEFINED COMPACT AS HAVING AT LEAST A TRIO WITH PRATIOS < pratiothresh\n",
    "    if compact:\n",
    "        minPs.append(s.iloc[0]['my_orbper'])\n",
    "    \n",
    "    for i, (ID, row) in enumerate(s.iterrows()):\n",
    "        row['my_compact'] = compact\n",
    "        row['my_Np'] = Np\n",
    "        if i > 0:\n",
    "            RHi = s.iloc[i-1]['my_orbsmax']*((s.iloc[i-1]['my_masse'] + s.iloc[i]['my_masse'])*Mearth/3./s.iloc[i]['my_stmass'])**(1/3.)\n",
    "            row['Delta_i'] = (s.iloc[i]['my_orbsmax']-s.iloc[i-1]['my_orbsmax'])/RHi\n",
    "            row['Pratio_i'] = s.iloc[i]['my_orbper']/s.iloc[i-1]['my_orbper']\n",
    "            row['ecross_i'] = (s.iloc[i]['my_orbsmax']-s.iloc[i-1]['my_orbsmax'])/s.iloc[i]['my_orbsmax']\n",
    "        else:\n",
    "            row['Delta_i'] =  np.nan\n",
    "            row['Pratio_i'] = np.nan\n",
    "            row['ecross_i'] = np.nan\n",
    "        if i < Np-1:\n",
    "            RHo = s.iloc[i]['my_orbsmax']*((s.iloc[i]['my_masse'] + s.iloc[i+1]['my_masse'])*Mearth/3./s.iloc[i]['my_stmass'])**(1/3.)\n",
    "            row['Delta_o'] = (s.iloc[i+1]['my_orbsmax']-s.iloc[i]['my_orbsmax'])/RHo\n",
    "            row['Pratio_o'] = s.iloc[i+1]['my_orbper']/s.iloc[i]['my_orbper']\n",
    "            row['ecross_o'] = (s.iloc[i+1]['my_orbsmax']-s.iloc[i]['my_orbsmax'])/s.iloc[i]['my_orbsmax']\n",
    "        else:\n",
    "            row['Delta_o'] = np.nan\n",
    "            row['Pratio_o'] =  np.nan\n",
    "            row['ecross_o'] = np.nan\n",
    "\n",
    "        row['Delta_min'] = np.nanmin([row['Delta_i'], row['Delta_o']])\n",
    "        row['Pratio_min'] = np.nanmin([row['Pratio_i'], row['Pratio_o']])\n",
    "        row['ecross_min'] = np.nanmin([row['ecross_i'], row['ecross_o']])\n",
    "        final = final.append(row)"
   ]
  },
  {
   "cell_type": "code",
   "execution_count": 12,
   "metadata": {},
   "outputs": [
    {
     "data": {
      "text/plain": [
       "(array([44., 22.,  6.,  0.,  0.,  0.,  1.,  0.,  0.,  2.]),\n",
       " array([ 0.658524 ,  5.5101716, 10.3618192, 15.2134668, 20.0651144,\n",
       "        24.916762 , 29.7684096, 34.6200572, 39.4717048, 44.3233524,\n",
       "        49.175    ]),\n",
       " <a list of 10 Patch objects>)"
      ]
     },
     "execution_count": 12,
     "metadata": {},
     "output_type": "execute_result"
    },
    {
     "data": {
      "image/png": "[encoded data removed]",
      "text/plain": [
       "<Figure size 432x288 with 1 Axes>"
      ]
     },
     "metadata": {
      "needs_background": "light"
     },
     "output_type": "display_data"
    }
   ],
   "source": [
    "minPs = np.array(minPs)\n",
    "fig, ax= plt.subplots()\n",
    "ax.hist(minPs[minPs<400])"
   ]
  },
  {
   "cell_type": "code",
   "execution_count": 13,
   "metadata": {},
   "outputs": [
    {
     "data": {
      "text/plain": [
       "219"
      ]
     },
     "execution_count": 13,
     "metadata": {},
     "output_type": "execute_result"
    }
   ],
   "source": [
    "# lost 6 more that dropped to < 3 planets with required parameters\n",
    "Nsys = len(final['hostname'].unique())\n",
    "Nsys"
   ]
  },
  {
   "cell_type": "code",
   "execution_count": 15,
   "metadata": {},
   "outputs": [
    {
     "data": {
      "text/html": [
       "<div>\n",
       "<style scoped>\n",
       "    .dataframe tbody tr th:only-of-type {\n",
       "        vertical-align: middle;\n",
       "    }\n",
       "\n",
       "    .dataframe tbody tr th {\n",
       "        vertical-align: top;\n",
       "    }\n",
       "\n",
       "    .dataframe thead th {\n",
       "        text-align: right;\n",
       "    }\n",
       "</style>\n",
       "<table border=\"1\" class=\"dataframe\">\n",
       "  <thead>\n",
       "    <tr style=\"text-align: right;\">\n",
       "      <th></th>\n",
       "      <th>Delta_i</th>\n",
       "      <th>Delta_o</th>\n",
       "      <th>Delta_min</th>\n",
       "    </tr>\n",
       "  </thead>\n",
       "  <tbody>\n",
       "    <tr>\n",
       "      <th>13343</th>\n",
       "      <td>NaN</td>\n",
       "      <td>13.470833</td>\n",
       "      <td>13.470833</td>\n",
       "    </tr>\n",
       "    <tr>\n",
       "      <th>13357</th>\n",
       "      <td>13.470833</td>\n",
       "      <td>10.816109</td>\n",
       "      <td>10.816109</td>\n",
       "    </tr>\n",
       "    <tr>\n",
       "      <th>13365</th>\n",
       "      <td>10.816109</td>\n",
       "      <td>NaN</td>\n",
       "      <td>10.816109</td>\n",
       "    </tr>\n",
       "  </tbody>\n",
       "</table>\n",
       "</div>"
      ],
      "text/plain": [
       "         Delta_i    Delta_o  Delta_min\n",
       "13343        NaN  13.470833  13.470833\n",
       "13357  13.470833  10.816109  10.816109\n",
       "13365  10.816109        NaN  10.816109"
      ]
     },
     "execution_count": 15,
     "metadata": {},
     "output_type": "execute_result"
    }
   ],
   "source": [
    "k23 = final[final['hostname']  == 'Kepler-23']\n",
    "k23[['Delta_i', 'Delta_o', 'Delta_min']]"
   ]
  },
  {
   "cell_type": "code",
   "execution_count": 13,
   "metadata": {},
   "outputs": [
    {
     "data": {
      "text/html": [
       "<div>\n",
       "<style scoped>\n",
       "    .dataframe tbody tr th:only-of-type {\n",
       "        vertical-align: middle;\n",
       "    }\n",
       "\n",
       "    .dataframe tbody tr th {\n",
       "        vertical-align: top;\n",
       "    }\n",
       "\n",
       "    .dataframe thead th {\n",
       "        text-align: right;\n",
       "    }\n",
       "</style>\n",
       "<table border=\"1\" class=\"dataframe\">\n",
       "  <thead>\n",
       "    <tr style=\"text-align: right;\">\n",
       "      <th></th>\n",
       "      <th>Delta_i</th>\n",
       "      <th>Delta_o</th>\n",
       "      <th>Delta_min</th>\n",
       "    </tr>\n",
       "  </thead>\n",
       "  <tbody>\n",
       "    <tr>\n",
       "      <th>2298</th>\n",
       "      <td>NaN</td>\n",
       "      <td>20.134187</td>\n",
       "      <td>20.134187</td>\n",
       "    </tr>\n",
       "    <tr>\n",
       "      <th>2299</th>\n",
       "      <td>20.134187</td>\n",
       "      <td>25.310422</td>\n",
       "      <td>20.134187</td>\n",
       "    </tr>\n",
       "    <tr>\n",
       "      <th>2301</th>\n",
       "      <td>25.310422</td>\n",
       "      <td>NaN</td>\n",
       "      <td>25.310422</td>\n",
       "    </tr>\n",
       "  </tbody>\n",
       "</table>\n",
       "</div>"
      ],
      "text/plain": [
       "        Delta_i    Delta_o  Delta_min\n",
       "2298        NaN  20.134187  20.134187\n",
       "2299  20.134187  25.310422  20.134187\n",
       "2301  25.310422        NaN  25.310422"
      ]
     },
     "execution_count": 13,
     "metadata": {},
     "output_type": "execute_result"
    }
   ],
   "source": [
    "hr858 = final[final['hostname']  == 'HR 858']\n",
    "hr858[['Delta_i', 'Delta_o', 'Delta_min']]"
   ]
  },
  {
   "cell_type": "markdown",
   "metadata": {},
   "source": [
    "Zhou 2007"
   ]
  },
  {
   "cell_type": "code",
   "execution_count": 14,
   "metadata": {},
   "outputs": [
    {
     "data": {
      "text/plain": [
       "8.963029901448186"
      ]
     },
     "execution_count": 14,
     "metadata": {},
     "output_type": "execute_result"
    }
   ],
   "source": [
    "e=0.02\n",
    "ec=0.18\n",
    "A = -2 + e/ec - 0.27*np.log10(3e-6)\n",
    "B = (18.7+1.1*np.log10(3e-6))-(16.8+1.2*np.log10(3e-6))*e/ec\n",
    "A+B*np.log10(15/2.3)"
   ]
  },
  {
   "cell_type": "code",
   "execution_count": 15,
   "metadata": {},
   "outputs": [
    {
     "data": {
      "text/html": [
       "<div>\n",
       "<style scoped>\n",
       "    .dataframe tbody tr th:only-of-type {\n",
       "        vertical-align: middle;\n",
       "    }\n",
       "\n",
       "    .dataframe tbody tr th {\n",
       "        vertical-align: top;\n",
       "    }\n",
       "\n",
       "    .dataframe thead th {\n",
       "        text-align: right;\n",
       "    }\n",
       "</style>\n",
       "<table border=\"1\" class=\"dataframe\">\n",
       "  <thead>\n",
       "    <tr style=\"text-align: right;\">\n",
       "      <th></th>\n",
       "      <th>Delta_i</th>\n",
       "      <th>Delta_o</th>\n",
       "      <th>Delta_min</th>\n",
       "      <th>my_rade</th>\n",
       "    </tr>\n",
       "  </thead>\n",
       "  <tbody>\n",
       "    <tr>\n",
       "      <th>18438</th>\n",
       "      <td>NaN</td>\n",
       "      <td>15.850080</td>\n",
       "      <td>15.850080</td>\n",
       "      <td>1.088</td>\n",
       "    </tr>\n",
       "    <tr>\n",
       "      <th>18451</th>\n",
       "      <td>15.850080</td>\n",
       "      <td>17.430506</td>\n",
       "      <td>15.850080</td>\n",
       "      <td>0.720</td>\n",
       "    </tr>\n",
       "    <tr>\n",
       "      <th>18460</th>\n",
       "      <td>17.430506</td>\n",
       "      <td>NaN</td>\n",
       "      <td>17.430506</td>\n",
       "      <td>1.307</td>\n",
       "    </tr>\n",
       "  </tbody>\n",
       "</table>\n",
       "</div>"
      ],
      "text/plain": [
       "         Delta_i    Delta_o  Delta_min  my_rade\n",
       "18438        NaN  15.850080  15.850080    1.088\n",
       "18451  15.850080  17.430506  15.850080    0.720\n",
       "18460  17.430506        NaN  17.430506    1.307"
      ]
     },
     "execution_count": 15,
     "metadata": {},
     "output_type": "execute_result"
    }
   ],
   "source": [
    "kep431 = final[final['hostname']  == 'Kepler-431']\n",
    "kep431[['Delta_i', 'Delta_o', 'Delta_min', 'my_rade']]"
   ]
  },
  {
   "cell_type": "code",
   "execution_count": 16,
   "metadata": {},
   "outputs": [
    {
     "data": {
      "text/plain": [
       "305.0"
      ]
     },
     "execution_count": 16,
     "metadata": {},
     "output_type": "execute_result"
    }
   ],
   "source": [
    "final['my_compact'].sum()"
   ]
  },
  {
   "cell_type": "code",
   "execution_count": 17,
   "metadata": {},
   "outputs": [
    {
     "data": {
      "text/plain": [
       "0.391025641025641"
      ]
     },
     "execution_count": 17,
     "metadata": {},
     "output_type": "execute_result"
    }
   ],
   "source": [
    "data = final[final['my_compact']==1]\n",
    "data.shape[0]/final.shape[0]"
   ]
  },
  {
   "cell_type": "markdown",
   "metadata": {},
   "source": [
    "* 45% of planets with above cuts are in systems with at least one compact trio (pratios < 2.05)\n",
    "* Only 26% of planets are in systems where all adjacent pairs have pratios < 2.05"
   ]
  },
  {
   "cell_type": "code",
   "execution_count": 18,
   "metadata": {},
   "outputs": [
    {
     "data": {
      "text/plain": [
       "0.8918032786885246"
      ]
     },
     "execution_count": 18,
     "metadata": {},
     "output_type": "execute_result"
    }
   ],
   "source": [
    "data[data['my_rade'] < 4].shape[0]/data.shape[0]"
   ]
  },
  {
   "cell_type": "code",
   "execution_count": 17,
   "metadata": {},
   "outputs": [],
   "source": [
    "noeccmask = data['my_ecc'].isnull()\n",
    "eccmask = ~noeccmask"
   ]
  },
  {
   "cell_type": "code",
   "execution_count": 18,
   "metadata": {},
   "outputs": [
    {
     "data": {
      "text/plain": [
       "260"
      ]
     },
     "execution_count": 18,
     "metadata": {},
     "output_type": "execute_result"
    }
   ],
   "source": [
    "noeccmask.sum()"
   ]
  },
  {
   "cell_type": "code",
   "execution_count": 19,
   "metadata": {},
   "outputs": [
    {
     "data": {
      "text/plain": [
       "93"
      ]
     },
     "execution_count": 19,
     "metadata": {},
     "output_type": "execute_result"
    }
   ],
   "source": [
    "eccmask.sum()"
   ]
  },
  {
   "cell_type": "code",
   "execution_count": 20,
   "metadata": {},
   "outputs": [],
   "source": [
    "noeccmask = (data['my_ecc'].isnull()) | (data['my_ecc'] + data['my_eccerr1'] > data['ecross_min'])\n",
    "eccmask = ~noeccmask"
   ]
  },
  {
   "cell_type": "code",
   "execution_count": 21,
   "metadata": {},
   "outputs": [
    {
     "data": {
      "text/plain": [
       "280"
      ]
     },
     "execution_count": 21,
     "metadata": {},
     "output_type": "execute_result"
    }
   ],
   "source": [
    "noeccmask.sum()"
   ]
  },
  {
   "cell_type": "code",
   "execution_count": 22,
   "metadata": {},
   "outputs": [
    {
     "data": {
      "text/plain": [
       "73"
      ]
     },
     "execution_count": 22,
     "metadata": {},
     "output_type": "execute_result"
    }
   ],
   "source": [
    "eccmask.sum()"
   ]
  },
  {
   "cell_type": "code",
   "execution_count": 23,
   "metadata": {},
   "outputs": [
    {
     "data": {
      "text/plain": [
       "<a refstr=VAN_EYLEN___ALBRECHT_2015 href=https://ui.adsabs.harvard.edu/abs/2015ApJ...808..126V/abstract target=ref>Van Eylen & Albrecht 2015</a>                    13\n",
       "<a refstr=VOGT_ET_AL__2017 href=https://ui.adsabs.harvard.edu/abs/2017AJ....154..181V/abstract target=ref>Vogt et al. 2017</a>                                       6\n",
       "<a refstr=BORSATO_ET_AL__2014 href=https://ui.adsabs.harvard.edu/abs/2014A&A...571A..38B/abstract target=ref>Borsato et al. 2014</a>                                 5\n",
       "<a refstr=JONTOF_HUTTER_ET_AL__2014 href=https://ui.adsabs.harvard.edu/abs/2014ApJ...785...15J/abstract target=ref>Jontof-Hutter et al. 2014</a>                     4\n",
       "<a refstr=MILLS_ET_AL__2016 href=https://ui.adsabs.harvard.edu/abs/2016Natur.533..509M/abstract target=ref>Mills et al. 2016</a>                                     4\n",
       "<a refstr=MANN_ET_AL__2017 href=https://ui.adsabs.harvard.edu/abs/2017AJ....153..267M/abstract target=ref>Mann et al. 2017</a>                                       3\n",
       "<a refstr=FREUDENTHAL_ET_AL__2019 href=https://ui.adsabs.harvard.edu/abs/2019arXiv190706534F/abstract target=ref>Freudenthal et al. 2019</a>                         3\n",
       "<a refstr=GILLON_ET_AL__2017 href=https://ui.adsabs.harvard.edu/abs/2017NatAs...1E..56G/abstract target=ref>Gillon et al. 2017</a>                                   3\n",
       "<a refstr=BUCHHAVE_ET_AL__2016 href=https://ui.adsabs.harvard.edu/abs/2016AJ....152..160B/abstract target=ref>Buchhave et al. 2016</a>                               3\n",
       "<a refstr=TORRES_ET_AL__2015 href=https://ui.adsabs.harvard.edu/abs/2015ApJ...800...99T/abstract target=ref>Torres et al. 2015</a>                                   3\n",
       "<a refstr=ANGLADA_ESCUDE_ET_AL__2013 href=https://ui.adsabs.harvard.edu/abs/2013A%26A...556A.126A/abstract target=ref> Anglada-Escude et al. 2013 </a>               3\n",
       "<a refstr=ALMENARA_ET_AL__2018 href=https://ui.adsabs.harvard.edu/abs/2018MNRAS.478..460A/abstract target=ref>Almenara et al. 2018</a>                               3\n",
       "<a refstr=RODRIGUEZ_ET_AL__2018 href=https://ui.adsabs.harvard.edu/abs/2018arXiv180608368R/abstract target=ref>Rodriguez et al. 2018</a>                             3\n",
       "<a refstr=MASUDA_2014 href=https://ui.adsabs.harvard.edu/abs/2014ApJ...783...53M/abstract target=ref> Masuda 2014 </a>                                               3\n",
       "<a refstr=KOSTOV_ET_AL__2019 href=https://ui.adsabs.harvard.edu/abs/2019arXiv190308017K/abstract target=ref>Kostov et al. 2019</a>                                   2\n",
       "<a refstr=CORREIA_ET_AL__2010 href=https://ui.adsabs.harvard.edu/abs/2010A%26A...511A..21C/abstract target=ref> Correia et al. 2010 </a>                             2\n",
       "<a refstr=RIVERA_ET_AL__2010 href=https://ui.adsabs.harvard.edu/abs/2010ApJ...719..890R/abstract target=ref> Rivera et al. 2010 </a>                                 2\n",
       "<a refstr=MOTALEBI_ET_AL__2015 href=https://ui.adsabs.harvard.edu/abs/2015A&A...584A..72M/abstract target=ref>Motalebi et al. 2015</a>                               1\n",
       "<a refstr=GRAVITY_COLLABORATION_ET_AL__2019 href=https://ui.adsabs.harvard.edu/abs/2019A&A...623L..11G/abstract target=ref>Gravity Collaboration et al. 2019</a>     1\n",
       "<a refstr=DRESSING_ET_AL__2017 href=https://ui.adsabs.harvard.edu/abs/2017arXiv170307416D/abstract target=ref>Dressing et al. 2017</a>                               1\n",
       "<a refstr=LISSAUER_ET_AL__2013 href=https://ui.adsabs.harvard.edu/abs/2013ApJ...770..131L/abstract target=ref> Lissauer et al. 2013 </a>                             1\n",
       "<a refstr=ANGLADA_ESCUDE_ET_AL__2012 href=https://ui.adsabs.harvard.edu/abs/2012ApJ...751L..16A/abstract target=ref> Anglada-Escud&eacute; et al. 2012 </a>          1\n",
       "<a refstr=FEROZ__AMP__HOBSON_2014 href=https://ui.adsabs.harvard.edu/abs/2014MNRAS.437.3540F/abstract target=ref>Feroz &amp; Hobson 2014</a>                         1\n",
       "<a refstr=VOGT_ET_AL__2015 href=https://ui.adsabs.harvard.edu/abs/2015ApJ...814...12V/abstract target=ref>Vogt et al. 2015</a>                                       1\n",
       "<a refstr=DAVID_ET_AL__2019 href=https://ui.adsabs.harvard.edu/abs/2019arXiv190209670D/abstract target=ref>David et al. 2019</a>                                     1\n",
       "Name: my_ecc_refname, dtype: int64"
      ]
     },
     "execution_count": 23,
     "metadata": {},
     "output_type": "execute_result"
    }
   ],
   "source": [
    "refs = data[eccmask]['my_ecc_refname'].value_counts()\n",
    "refs"
   ]
  },
  {
   "cell_type": "code",
   "execution_count": 24,
   "metadata": {},
   "outputs": [
    {
     "name": "stderr",
     "output_type": "stream",
     "text": [
      "/Users/dtamayo/miniconda3/envs/p3/lib/python3.7/site-packages/ipykernel_launcher.py:1: SettingWithCopyWarning: \n",
      "A value is trying to be set on a copy of a slice from a DataFrame.\n",
      "Try using .loc[row_indexer,col_indexer] = value instead\n",
      "\n",
      "See the caveats in the documentation: http://pandas.pydata.org/pandas-docs/stable/indexing.html#indexing-view-versus-copy\n",
      "  \"\"\"Entry point for launching an IPython kernel.\n",
      "/Users/dtamayo/miniconda3/envs/p3/lib/python3.7/site-packages/ipykernel_launcher.py:2: SettingWithCopyWarning: \n",
      "A value is trying to be set on a copy of a slice from a DataFrame.\n",
      "Try using .loc[row_indexer,col_indexer] = value instead\n",
      "\n",
      "See the caveats in the documentation: http://pandas.pydata.org/pandas-docs/stable/indexing.html#indexing-view-versus-copy\n",
      "  \n",
      "/Users/dtamayo/miniconda3/envs/p3/lib/python3.7/site-packages/ipykernel_launcher.py:3: SettingWithCopyWarning: \n",
      "A value is trying to be set on a copy of a slice from a DataFrame.\n",
      "Try using .loc[row_indexer,col_indexer] = value instead\n",
      "\n",
      "See the caveats in the documentation: http://pandas.pydata.org/pandas-docs/stable/indexing.html#indexing-view-versus-copy\n",
      "  This is separate from the ipykernel package so we can avoid doing imports until\n",
      "/Users/dtamayo/miniconda3/envs/p3/lib/python3.7/site-packages/ipykernel_launcher.py:4: SettingWithCopyWarning: \n",
      "A value is trying to be set on a copy of a slice from a DataFrame.\n",
      "Try using .loc[row_indexer,col_indexer] = value instead\n",
      "\n",
      "See the caveats in the documentation: http://pandas.pydata.org/pandas-docs/stable/indexing.html#indexing-view-versus-copy\n",
      "  after removing the cwd from sys.path.\n"
     ]
    }
   ],
   "source": [
    "data['my_ttv_flag'] = 0\n",
    "data['my_td_flag'] = 0\n",
    "data['my_rv_flag'] = 0\n",
    "data['my_astro_flag'] = 0"
   ]
  },
  {
   "cell_type": "code",
   "execution_count": 27,
   "metadata": {},
   "outputs": [
    {
     "name": "stdout",
     "output_type": "stream",
     "text": [
      "<a refstr=VAN_EYLEN___ALBRECHT_2015 href=https://ui.adsabs.harvard.edu/abs/2015ApJ...808..126V/abstract target=ref>Van Eylen & Albrecht 2015</a>\n"
     ]
    },
    {
     "name": "stderr",
     "output_type": "stream",
     "text": [
      "/Users/dtamayo/miniconda3/envs/p3/lib/python3.7/site-packages/pandas/core/indexing.py:543: SettingWithCopyWarning: \n",
      "A value is trying to be set on a copy of a slice from a DataFrame.\n",
      "Try using .loc[row_indexer,col_indexer] = value instead\n",
      "\n",
      "See the caveats in the documentation: http://pandas.pydata.org/pandas-docs/stable/indexing.html#indexing-view-versus-copy\n",
      "  self.obj[item] = s\n"
     ]
    }
   ],
   "source": [
    "ref = '<a refstr=VAN_EYLEN___ALBRECHT_2015 href=https://ui.adsabs.harvard.edu/abs/2015ApJ...808..126V/abstract target=ref>Van Eylen & Albrecht 2015</a>'\n",
    "print(ref)\n",
    "data.loc[eccmask & (data[eccmask]['my_ecc_refname']==ref), 'my_td_flag'] = 1"
   ]
  },
  {
   "cell_type": "code",
   "execution_count": 25,
   "metadata": {},
   "outputs": [
    {
     "name": "stdout",
     "output_type": "stream",
     "text": [
      "<a refstr=VOGT_ET_AL__2017 href=https://ui.adsabs.harvard.edu/abs/2017AJ....154..181V/abstract target=ref>Vogt et al. 2017</a>\n"
     ]
    },
    {
     "name": "stderr",
     "output_type": "stream",
     "text": [
      "/Users/dtamayo/miniconda3/envs/p3/lib/python3.7/site-packages/pandas/core/indexing.py:543: SettingWithCopyWarning: \n",
      "A value is trying to be set on a copy of a slice from a DataFrame.\n",
      "Try using .loc[row_indexer,col_indexer] = value instead\n",
      "\n",
      "See the caveats in the documentation: http://pandas.pydata.org/pandas-docs/stable/indexing.html#indexing-view-versus-copy\n",
      "  self.obj[item] = s\n"
     ]
    }
   ],
   "source": [
    "ref = '<a refstr=VOGT_ET_AL__2017 href=https://ui.adsabs.harvard.edu/abs/2017AJ....154..181V/abstract target=ref>Vogt et al. 2017</a>'\n",
    "print(ref)\n",
    "data.loc[eccmask & (data[eccmask]['my_ecc_refname']==ref), 'my_rv_flag'] = 1"
   ]
  },
  {
   "cell_type": "code",
   "execution_count": 26,
   "metadata": {},
   "outputs": [
    {
     "name": "stdout",
     "output_type": "stream",
     "text": [
      "<a refstr=BORSATO_ET_AL__2014 href=https://ui.adsabs.harvard.edu/abs/2014A&A...571A..38B/abstract target=ref>Borsato et al. 2014</a>\n"
     ]
    },
    {
     "name": "stderr",
     "output_type": "stream",
     "text": [
      "/Users/dtamayo/miniconda3/envs/p3/lib/python3.7/site-packages/pandas/core/indexing.py:543: SettingWithCopyWarning: \n",
      "A value is trying to be set on a copy of a slice from a DataFrame.\n",
      "Try using .loc[row_indexer,col_indexer] = value instead\n",
      "\n",
      "See the caveats in the documentation: http://pandas.pydata.org/pandas-docs/stable/indexing.html#indexing-view-versus-copy\n",
      "  self.obj[item] = s\n"
     ]
    }
   ],
   "source": [
    "ref = '<a refstr=BORSATO_ET_AL__2014 href=https://ui.adsabs.harvard.edu/abs/2014A&A...571A..38B/abstract target=ref>Borsato et al. 2014</a>'\n",
    "print(ref)\n",
    "data.loc[eccmask & (data[eccmask]['my_ecc_refname']==ref), 'my_ttv_flag'] = 1 # photodynamics"
   ]
  },
  {
   "cell_type": "code",
   "execution_count": 28,
   "metadata": {},
   "outputs": [
    {
     "name": "stdout",
     "output_type": "stream",
     "text": [
      "<a refstr=MILLS_ET_AL__2016 href=https://ui.adsabs.harvard.edu/abs/2016Natur.533..509M/abstract target=ref>Mills et al. 2016</a>\n"
     ]
    },
    {
     "name": "stderr",
     "output_type": "stream",
     "text": [
      "/Users/dtamayo/miniconda3/envs/p3/lib/python3.7/site-packages/pandas/core/indexing.py:543: SettingWithCopyWarning: \n",
      "A value is trying to be set on a copy of a slice from a DataFrame.\n",
      "Try using .loc[row_indexer,col_indexer] = value instead\n",
      "\n",
      "See the caveats in the documentation: http://pandas.pydata.org/pandas-docs/stable/indexing.html#indexing-view-versus-copy\n",
      "  self.obj[item] = s\n"
     ]
    }
   ],
   "source": [
    "ref = '<a refstr=MILLS_ET_AL__2016 href=https://ui.adsabs.harvard.edu/abs/2016Natur.533..509M/abstract target=ref>Mills et al. 2016</a>'\n",
    "print(ref)\n",
    "data.loc[eccmask & (data[eccmask]['my_ecc_refname']==ref), 'my_ttv_flag'] = 1 # photodynamics"
   ]
  },
  {
   "cell_type": "code",
   "execution_count": 29,
   "metadata": {},
   "outputs": [
    {
     "name": "stdout",
     "output_type": "stream",
     "text": [
      "<a refstr=JONTOF_HUTTER_ET_AL__2014 href=https://ui.adsabs.harvard.edu/abs/2014ApJ...785...15J/abstract target=ref>Jontof-Hutter et al. 2014</a>\n"
     ]
    },
    {
     "name": "stderr",
     "output_type": "stream",
     "text": [
      "/Users/dtamayo/miniconda3/envs/p3/lib/python3.7/site-packages/pandas/core/indexing.py:543: SettingWithCopyWarning: \n",
      "A value is trying to be set on a copy of a slice from a DataFrame.\n",
      "Try using .loc[row_indexer,col_indexer] = value instead\n",
      "\n",
      "See the caveats in the documentation: http://pandas.pydata.org/pandas-docs/stable/indexing.html#indexing-view-versus-copy\n",
      "  self.obj[item] = s\n"
     ]
    }
   ],
   "source": [
    "ref = '<a refstr=JONTOF_HUTTER_ET_AL__2014 href=https://ui.adsabs.harvard.edu/abs/2014ApJ...785...15J/abstract target=ref>Jontof-Hutter et al. 2014</a>'\n",
    "print(ref)\n",
    "data.loc[eccmask & (data[eccmask]['my_ecc_refname']==ref), 'my_ttv_flag'] = 1"
   ]
  },
  {
   "cell_type": "code",
   "execution_count": 30,
   "metadata": {},
   "outputs": [
    {
     "name": "stdout",
     "output_type": "stream",
     "text": [
      "<a refstr=RODRIGUEZ_ET_AL__2018 href=https://ui.adsabs.harvard.edu/abs/2018arXiv180608368R/abstract target=ref>Rodriguez et al. 2018</a>\n"
     ]
    },
    {
     "name": "stderr",
     "output_type": "stream",
     "text": [
      "/Users/dtamayo/miniconda3/envs/p3/lib/python3.7/site-packages/pandas/core/indexing.py:543: SettingWithCopyWarning: \n",
      "A value is trying to be set on a copy of a slice from a DataFrame.\n",
      "Try using .loc[row_indexer,col_indexer] = value instead\n",
      "\n",
      "See the caveats in the documentation: http://pandas.pydata.org/pandas-docs/stable/indexing.html#indexing-view-versus-copy\n",
      "  self.obj[item] = s\n"
     ]
    }
   ],
   "source": [
    "ref = '<a refstr=RODRIGUEZ_ET_AL__2018 href=https://ui.adsabs.harvard.edu/abs/2018arXiv180608368R/abstract target=ref>Rodriguez et al. 2018</a>'\n",
    "print(ref)\n",
    "data.loc[eccmask & (data[eccmask]['my_ecc_refname']==ref), 'my_ttv_flag'] = 1 # photo. Only measure chopping signal, no super period"
   ]
  },
  {
   "cell_type": "code",
   "execution_count": 31,
   "metadata": {},
   "outputs": [
    {
     "name": "stdout",
     "output_type": "stream",
     "text": [
      "<a refstr=TORRES_ET_AL__2015 href=https://ui.adsabs.harvard.edu/abs/2015ApJ...800...99T/abstract target=ref>Torres et al. 2015</a>\n"
     ]
    },
    {
     "name": "stderr",
     "output_type": "stream",
     "text": [
      "/Users/dtamayo/miniconda3/envs/p3/lib/python3.7/site-packages/pandas/core/indexing.py:543: SettingWithCopyWarning: \n",
      "A value is trying to be set on a copy of a slice from a DataFrame.\n",
      "Try using .loc[row_indexer,col_indexer] = value instead\n",
      "\n",
      "See the caveats in the documentation: http://pandas.pydata.org/pandas-docs/stable/indexing.html#indexing-view-versus-copy\n",
      "  self.obj[item] = s\n"
     ]
    }
   ],
   "source": [
    "ref = '<a refstr=TORRES_ET_AL__2015 href=https://ui.adsabs.harvard.edu/abs/2015ApJ...800...99T/abstract target=ref>Torres et al. 2015</a>'\n",
    "print(ref)\n",
    "data.loc[eccmask & (data[eccmask]['my_ecc_refname']==ref), 'my_ttv_flag'] = 1 # emin from Kipping 14 rather than full posterior like van Eylen"
   ]
  },
  {
   "cell_type": "code",
   "execution_count": 32,
   "metadata": {},
   "outputs": [
    {
     "name": "stdout",
     "output_type": "stream",
     "text": [
      "<a refstr=GILLON_ET_AL__2017 href=https://ui.adsabs.harvard.edu/abs/2017NatAs...1E..56G/abstract target=ref>Gillon et al. 2017</a>\n"
     ]
    },
    {
     "name": "stderr",
     "output_type": "stream",
     "text": [
      "/Users/dtamayo/miniconda3/envs/p3/lib/python3.7/site-packages/pandas/core/indexing.py:543: SettingWithCopyWarning: \n",
      "A value is trying to be set on a copy of a slice from a DataFrame.\n",
      "Try using .loc[row_indexer,col_indexer] = value instead\n",
      "\n",
      "See the caveats in the documentation: http://pandas.pydata.org/pandas-docs/stable/indexing.html#indexing-view-versus-copy\n",
      "  self.obj[item] = s\n"
     ]
    }
   ],
   "source": [
    "ref = '<a refstr=GILLON_ET_AL__2017 href=https://ui.adsabs.harvard.edu/abs/2017NatAs...1E..56G/abstract target=ref>Gillon et al. 2017</a>'\n",
    "print(ref)\n",
    "data.loc[eccmask & (data[eccmask]['my_ecc_refname']==ref), 'my_rv_flag'] = 1 # Also transits of inner two planets (b and c)...probably RVs more important?"
   ]
  },
  {
   "cell_type": "code",
   "execution_count": 37,
   "metadata": {},
   "outputs": [
    {
     "name": "stdout",
     "output_type": "stream",
     "text": [
      "<a refstr=MANN_ET_AL__2017 href=https://ui.adsabs.harvard.edu/abs/2017AJ....153..267M/abstract target=ref>Mann et al. 2017</a>\n"
     ]
    },
    {
     "name": "stderr",
     "output_type": "stream",
     "text": [
      "/Users/dtamayo/miniconda3/envs/p3/lib/python3.7/site-packages/pandas/core/indexing.py:543: SettingWithCopyWarning: \n",
      "A value is trying to be set on a copy of a slice from a DataFrame.\n",
      "Try using .loc[row_indexer,col_indexer] = value instead\n",
      "\n",
      "See the caveats in the documentation: http://pandas.pydata.org/pandas-docs/stable/indexing.html#indexing-view-versus-copy\n",
      "  self.obj[item] = s\n"
     ]
    }
   ],
   "source": [
    "ref = '<a refstr=MANN_ET_AL__2017 href=https://ui.adsabs.harvard.edu/abs/2017AJ....153..267M/abstract target=ref>Mann et al. 2017</a>'\n",
    "print(ref)\n",
    "data.loc[eccmask & (data[eccmask]['my_ecc_refname']==ref), 'my_td_flag'] = 1 # no significant ttvs"
   ]
  },
  {
   "cell_type": "code",
   "execution_count": 36,
   "metadata": {},
   "outputs": [
    {
     "name": "stdout",
     "output_type": "stream",
     "text": [
      "<a refstr=ALMENARA_ET_AL__2018 href=https://ui.adsabs.harvard.edu/abs/2018MNRAS.478..460A/abstract target=ref>Almenara et al. 2018</a>\n"
     ]
    },
    {
     "name": "stderr",
     "output_type": "stream",
     "text": [
      "/Users/dtamayo/miniconda3/envs/p3/lib/python3.7/site-packages/pandas/core/indexing.py:543: SettingWithCopyWarning: \n",
      "A value is trying to be set on a copy of a slice from a DataFrame.\n",
      "Try using .loc[row_indexer,col_indexer] = value instead\n",
      "\n",
      "See the caveats in the documentation: http://pandas.pydata.org/pandas-docs/stable/indexing.html#indexing-view-versus-copy\n",
      "  self.obj[item] = s\n"
     ]
    }
   ],
   "source": [
    "ref = '<a refstr=ALMENARA_ET_AL__2018 href=https://ui.adsabs.harvard.edu/abs/2018MNRAS.478..460A/abstract target=ref>Almenara et al. 2018</a>'\n",
    "print(ref)\n",
    "data.loc[eccmask & (data[eccmask]['my_ecc_refname']==ref), 'my_ttv_flag'] = 1 "
   ]
  },
  {
   "cell_type": "code",
   "execution_count": 33,
   "metadata": {},
   "outputs": [
    {
     "name": "stdout",
     "output_type": "stream",
     "text": [
      "<a refstr=BUCHHAVE_ET_AL__2016 href=https://ui.adsabs.harvard.edu/abs/2016AJ....152..160B/abstract target=ref>Buchhave et al. 2016</a>\n"
     ]
    },
    {
     "name": "stderr",
     "output_type": "stream",
     "text": [
      "/Users/dtamayo/miniconda3/envs/p3/lib/python3.7/site-packages/pandas/core/indexing.py:543: SettingWithCopyWarning: \n",
      "A value is trying to be set on a copy of a slice from a DataFrame.\n",
      "Try using .loc[row_indexer,col_indexer] = value instead\n",
      "\n",
      "See the caveats in the documentation: http://pandas.pydata.org/pandas-docs/stable/indexing.html#indexing-view-versus-copy\n",
      "  self.obj[item] = s\n"
     ]
    }
   ],
   "source": [
    "ref = '<a refstr=BUCHHAVE_ET_AL__2016 href=https://ui.adsabs.harvard.edu/abs/2016AJ....152..160B/abstract target=ref>Buchhave et al. 2016</a>'\n",
    "print(ref)\n",
    "data.loc[eccmask & (data[eccmask]['my_ecc_refname']==ref), 'my_rv_flag'] = 1 # also tried to set stability constraints with Nbody"
   ]
  },
  {
   "cell_type": "code",
   "execution_count": 34,
   "metadata": {},
   "outputs": [
    {
     "name": "stdout",
     "output_type": "stream",
     "text": [
      "<a refstr=ANGLADA_ESCUDE_ET_AL__2013 href=https://ui.adsabs.harvard.edu/abs/2013A%26A...556A.126A/abstract target=ref> Anglada-Escude et al. 2013 </a>\n"
     ]
    },
    {
     "name": "stderr",
     "output_type": "stream",
     "text": [
      "/Users/dtamayo/miniconda3/envs/p3/lib/python3.7/site-packages/pandas/core/indexing.py:543: SettingWithCopyWarning: \n",
      "A value is trying to be set on a copy of a slice from a DataFrame.\n",
      "Try using .loc[row_indexer,col_indexer] = value instead\n",
      "\n",
      "See the caveats in the documentation: http://pandas.pydata.org/pandas-docs/stable/indexing.html#indexing-view-versus-copy\n",
      "  self.obj[item] = s\n"
     ]
    }
   ],
   "source": [
    "ref = '<a refstr=ANGLADA_ESCUDE_ET_AL__2013 href=https://ui.adsabs.harvard.edu/abs/2013A%26A...556A.126A/abstract target=ref> Anglada-Escude et al. 2013 </a>'\n",
    "print(ref)\n",
    "data.loc[eccmask & (data[eccmask]['my_ecc_refname']==ref), 'my_rv_flag'] = 1 # 6 planet rv system. Also ran Nbody. Feroz below claims 2 planets."
   ]
  },
  {
   "cell_type": "code",
   "execution_count": 38,
   "metadata": {},
   "outputs": [
    {
     "name": "stdout",
     "output_type": "stream",
     "text": [
      "<a refstr=MASUDA_2014 href=https://ui.adsabs.harvard.edu/abs/2014ApJ...783...53M/abstract target=ref> Masuda 2014 </a>\n"
     ]
    },
    {
     "name": "stderr",
     "output_type": "stream",
     "text": [
      "/Users/dtamayo/miniconda3/envs/p3/lib/python3.7/site-packages/pandas/core/indexing.py:543: SettingWithCopyWarning: \n",
      "A value is trying to be set on a copy of a slice from a DataFrame.\n",
      "Try using .loc[row_indexer,col_indexer] = value instead\n",
      "\n",
      "See the caveats in the documentation: http://pandas.pydata.org/pandas-docs/stable/indexing.html#indexing-view-versus-copy\n",
      "  self.obj[item] = s\n"
     ]
    }
   ],
   "source": [
    "ref = '<a refstr=MASUDA_2014 href=https://ui.adsabs.harvard.edu/abs/2014ApJ...783...53M/abstract target=ref> Masuda 2014 </a>'\n",
    "print(ref)\n",
    "data.loc[eccmask & (data[eccmask]['my_ecc_refname']==ref), 'my_ttv_flag'] = 1 # photo"
   ]
  },
  {
   "cell_type": "code",
   "execution_count": 39,
   "metadata": {},
   "outputs": [
    {
     "name": "stdout",
     "output_type": "stream",
     "text": [
      "<a refstr=FREUDENTHAL_ET_AL__2019 href=https://ui.adsabs.harvard.edu/abs/2019arXiv190706534F/abstract target=ref>Freudenthal et al. 2019</a>\n"
     ]
    },
    {
     "name": "stderr",
     "output_type": "stream",
     "text": [
      "/Users/dtamayo/miniconda3/envs/p3/lib/python3.7/site-packages/pandas/core/indexing.py:543: SettingWithCopyWarning: \n",
      "A value is trying to be set on a copy of a slice from a DataFrame.\n",
      "Try using .loc[row_indexer,col_indexer] = value instead\n",
      "\n",
      "See the caveats in the documentation: http://pandas.pydata.org/pandas-docs/stable/indexing.html#indexing-view-versus-copy\n",
      "  self.obj[item] = s\n"
     ]
    }
   ],
   "source": [
    "ref = '<a refstr=FREUDENTHAL_ET_AL__2019 href=https://ui.adsabs.harvard.edu/abs/2019arXiv190706534F/abstract target=ref>Freudenthal et al. 2019</a>'\n",
    "print(ref)\n",
    "data.loc[eccmask & (data[eccmask]['my_ecc_refname']==ref), 'my_ttv_flag'] = 1 # photo, but measures super period and strong chopping signal (but chopping only constrains mass)"
   ]
  },
  {
   "cell_type": "code",
   "execution_count": 40,
   "metadata": {},
   "outputs": [
    {
     "name": "stdout",
     "output_type": "stream",
     "text": [
      "<a refstr=CORREIA_ET_AL__2010 href=https://ui.adsabs.harvard.edu/abs/2010A%26A...511A..21C/abstract target=ref> Correia et al. 2010 </a>\n"
     ]
    },
    {
     "name": "stderr",
     "output_type": "stream",
     "text": [
      "/Users/dtamayo/miniconda3/envs/p3/lib/python3.7/site-packages/pandas/core/indexing.py:543: SettingWithCopyWarning: \n",
      "A value is trying to be set on a copy of a slice from a DataFrame.\n",
      "Try using .loc[row_indexer,col_indexer] = value instead\n",
      "\n",
      "See the caveats in the documentation: http://pandas.pydata.org/pandas-docs/stable/indexing.html#indexing-view-versus-copy\n",
      "  self.obj[item] = s\n"
     ]
    }
   ],
   "source": [
    "ref = '<a refstr=CORREIA_ET_AL__2010 href=https://ui.adsabs.harvard.edu/abs/2010A%26A...511A..21C/abstract target=ref> Correia et al. 2010 </a>'\n",
    "print(ref)\n",
    "data.loc[eccmask & (data[eccmask]['my_ecc_refname']==ref), 'my_rv_flag'] = 1"
   ]
  },
  {
   "cell_type": "code",
   "execution_count": 42,
   "metadata": {},
   "outputs": [
    {
     "name": "stdout",
     "output_type": "stream",
     "text": [
      "<a refstr=RIVERA_ET_AL__2010 href=https://ui.adsabs.harvard.edu/abs/2010ApJ...719..890R/abstract target=ref> Rivera et al. 2010 </a>\n"
     ]
    },
    {
     "name": "stderr",
     "output_type": "stream",
     "text": [
      "/Users/dtamayo/miniconda3/envs/p3/lib/python3.7/site-packages/pandas/core/indexing.py:543: SettingWithCopyWarning: \n",
      "A value is trying to be set on a copy of a slice from a DataFrame.\n",
      "Try using .loc[row_indexer,col_indexer] = value instead\n",
      "\n",
      "See the caveats in the documentation: http://pandas.pydata.org/pandas-docs/stable/indexing.html#indexing-view-versus-copy\n",
      "  self.obj[item] = s\n"
     ]
    }
   ],
   "source": [
    "ref = '<a refstr=RIVERA_ET_AL__2010 href=https://ui.adsabs.harvard.edu/abs/2010ApJ...719..890R/abstract target=ref> Rivera et al. 2010 </a>'\n",
    "print(ref)\n",
    "data.loc[eccmask & (data[eccmask]['my_ecc_refname']==ref), 'my_rv_flag'] = 1"
   ]
  },
  {
   "cell_type": "code",
   "execution_count": 43,
   "metadata": {},
   "outputs": [
    {
     "name": "stdout",
     "output_type": "stream",
     "text": [
      "<a refstr=KOSTOV_ET_AL__2019 href=https://ui.adsabs.harvard.edu/abs/2019arXiv190308017K/abstract target=ref>Kostov et al. 2019</a>\n"
     ]
    },
    {
     "name": "stderr",
     "output_type": "stream",
     "text": [
      "/Users/dtamayo/miniconda3/envs/p3/lib/python3.7/site-packages/pandas/core/indexing.py:543: SettingWithCopyWarning: \n",
      "A value is trying to be set on a copy of a slice from a DataFrame.\n",
      "Try using .loc[row_indexer,col_indexer] = value instead\n",
      "\n",
      "See the caveats in the documentation: http://pandas.pydata.org/pandas-docs/stable/indexing.html#indexing-view-versus-copy\n",
      "  self.obj[item] = s\n"
     ]
    }
   ],
   "source": [
    "ref = '<a refstr=KOSTOV_ET_AL__2019 href=https://ui.adsabs.harvard.edu/abs/2019arXiv190308017K/abstract target=ref>Kostov et al. 2019</a>'\n",
    "print(ref)\n",
    "data.loc[eccmask & (data[eccmask]['my_ecc_refname']==ref), 'my_td_flag'] = 1 # TESS"
   ]
  },
  {
   "cell_type": "code",
   "execution_count": 48,
   "metadata": {},
   "outputs": [
    {
     "name": "stdout",
     "output_type": "stream",
     "text": [
      "<a refstr=MOTALEBI_ET_AL__2015 href=https://ui.adsabs.harvard.edu/abs/2015A&A...584A..72M/abstract target=ref>Motalebi et al. 2015</a>\n"
     ]
    },
    {
     "name": "stderr",
     "output_type": "stream",
     "text": [
      "/Users/dtamayo/miniconda3/envs/p3/lib/python3.7/site-packages/pandas/core/indexing.py:543: SettingWithCopyWarning: \n",
      "A value is trying to be set on a copy of a slice from a DataFrame.\n",
      "Try using .loc[row_indexer,col_indexer] = value instead\n",
      "\n",
      "See the caveats in the documentation: http://pandas.pydata.org/pandas-docs/stable/indexing.html#indexing-view-versus-copy\n",
      "  self.obj[item] = s\n"
     ]
    }
   ],
   "source": [
    "ref = '<a refstr=MOTALEBI_ET_AL__2015 href=https://ui.adsabs.harvard.edu/abs/2015A&A...584A..72M/abstract target=ref>Motalebi et al. 2015</a>'\n",
    "print(ref)\n",
    "data.loc[eccmask & (data[eccmask]['my_ecc_refname']==ref), 'my_rv_flag'] = 1 # inner planet transits, tons of RV 4 Mearth"
   ]
  },
  {
   "cell_type": "code",
   "execution_count": 44,
   "metadata": {},
   "outputs": [
    {
     "name": "stdout",
     "output_type": "stream",
     "text": [
      "<a refstr=DRESSING_ET_AL__2017 href=https://ui.adsabs.harvard.edu/abs/2017arXiv170307416D/abstract target=ref>Dressing et al. 2017</a>\n"
     ]
    },
    {
     "name": "stderr",
     "output_type": "stream",
     "text": [
      "/Users/dtamayo/miniconda3/envs/p3/lib/python3.7/site-packages/pandas/core/indexing.py:543: SettingWithCopyWarning: \n",
      "A value is trying to be set on a copy of a slice from a DataFrame.\n",
      "Try using .loc[row_indexer,col_indexer] = value instead\n",
      "\n",
      "See the caveats in the documentation: http://pandas.pydata.org/pandas-docs/stable/indexing.html#indexing-view-versus-copy\n",
      "  self.obj[item] = s\n"
     ]
    }
   ],
   "source": [
    "ref = '<a refstr=DRESSING_ET_AL__2017 href=https://ui.adsabs.harvard.edu/abs/2017arXiv170307416D/abstract target=ref>Dressing et al. 2017</a>'\n",
    "print(ref)\n",
    "data.loc[eccmask & (data[eccmask]['my_ecc_refname']==ref), 'my_td_flag'] = 1 # Not much detail. All 4 planets have same e"
   ]
  },
  {
   "cell_type": "code",
   "execution_count": 50,
   "metadata": {},
   "outputs": [
    {
     "name": "stdout",
     "output_type": "stream",
     "text": [
      "<a refstr=GRAVITY_COLLABORATION_ET_AL__2019 href=https://ui.adsabs.harvard.edu/abs/2019A&A...623L..11G/abstract target=ref>Gravity Collaboration et al. 2019</a>\n"
     ]
    },
    {
     "name": "stderr",
     "output_type": "stream",
     "text": [
      "/Users/dtamayo/miniconda3/envs/p3/lib/python3.7/site-packages/pandas/core/indexing.py:543: SettingWithCopyWarning: \n",
      "A value is trying to be set on a copy of a slice from a DataFrame.\n",
      "Try using .loc[row_indexer,col_indexer] = value instead\n",
      "\n",
      "See the caveats in the documentation: http://pandas.pydata.org/pandas-docs/stable/indexing.html#indexing-view-versus-copy\n",
      "  self.obj[item] = s\n"
     ]
    }
   ],
   "source": [
    "ref = '<a refstr=GRAVITY_COLLABORATION_ET_AL__2019 href=https://ui.adsabs.harvard.edu/abs/2019A&A...623L..11G/abstract target=ref>Gravity Collaboration et al. 2019</a>'\n",
    "print(ref)\n",
    "data.loc[eccmask & (data[eccmask]['my_ecc_refname']==ref), 'my_astro_flag'] = 1 # astrometry orbitize"
   ]
  },
  {
   "cell_type": "code",
   "execution_count": 45,
   "metadata": {},
   "outputs": [
    {
     "name": "stdout",
     "output_type": "stream",
     "text": [
      "<a refstr=FEROZ__AMP__HOBSON_2014 href=https://ui.adsabs.harvard.edu/abs/2014MNRAS.437.3540F/abstract target=ref>Feroz &amp; Hobson 2014</a>\n"
     ]
    },
    {
     "name": "stderr",
     "output_type": "stream",
     "text": [
      "/Users/dtamayo/miniconda3/envs/p3/lib/python3.7/site-packages/pandas/core/indexing.py:543: SettingWithCopyWarning: \n",
      "A value is trying to be set on a copy of a slice from a DataFrame.\n",
      "Try using .loc[row_indexer,col_indexer] = value instead\n",
      "\n",
      "See the caveats in the documentation: http://pandas.pydata.org/pandas-docs/stable/indexing.html#indexing-view-versus-copy\n",
      "  self.obj[item] = s\n"
     ]
    }
   ],
   "source": [
    "ref = '<a refstr=FEROZ__AMP__HOBSON_2014 href=https://ui.adsabs.harvard.edu/abs/2014MNRAS.437.3540F/abstract target=ref>Feroz &amp; Hobson 2014</a>'\n",
    "print(ref)\n",
    "data.loc[eccmask & (data[eccmask]['my_ecc_refname']==ref), 'my_rv_flag'] = 1 # claims only 2 planets instead of 6 in anglada-escude"
   ]
  },
  {
   "cell_type": "code",
   "execution_count": 46,
   "metadata": {},
   "outputs": [
    {
     "name": "stdout",
     "output_type": "stream",
     "text": [
      "<a refstr=ANGLADA_ESCUDE_ET_AL__2012 href=https://ui.adsabs.harvard.edu/abs/2012ApJ...751L..16A/abstract target=ref> Anglada-Escud&eacute; et al. 2012 </a>\n"
     ]
    },
    {
     "name": "stderr",
     "output_type": "stream",
     "text": [
      "/Users/dtamayo/miniconda3/envs/p3/lib/python3.7/site-packages/pandas/core/indexing.py:543: SettingWithCopyWarning: \n",
      "A value is trying to be set on a copy of a slice from a DataFrame.\n",
      "Try using .loc[row_indexer,col_indexer] = value instead\n",
      "\n",
      "See the caveats in the documentation: http://pandas.pydata.org/pandas-docs/stable/indexing.html#indexing-view-versus-copy\n",
      "  self.obj[item] = s\n"
     ]
    }
   ],
   "source": [
    "ref = '<a refstr=ANGLADA_ESCUDE_ET_AL__2012 href=https://ui.adsabs.harvard.edu/abs/2012ApJ...751L..16A/abstract target=ref> Anglada-Escud&eacute; et al. 2012 </a>'\n",
    "print(ref)\n",
    "data.loc[eccmask & (data[eccmask]['my_ecc_refname']==ref), 'my_rv_flag'] = 1 # 6 planet rv system. Also ran Nbody. Feroz above claims 2 planets."
   ]
  },
  {
   "cell_type": "code",
   "execution_count": 51,
   "metadata": {},
   "outputs": [
    {
     "name": "stdout",
     "output_type": "stream",
     "text": [
      "<a refstr=DAVID_ET_AL__2019 href=https://ui.adsabs.harvard.edu/abs/2019arXiv190209670D/abstract target=ref>David et al. 2019</a>\n"
     ]
    },
    {
     "name": "stderr",
     "output_type": "stream",
     "text": [
      "/Users/dtamayo/miniconda3/envs/p3/lib/python3.7/site-packages/pandas/core/indexing.py:543: SettingWithCopyWarning: \n",
      "A value is trying to be set on a copy of a slice from a DataFrame.\n",
      "Try using .loc[row_indexer,col_indexer] = value instead\n",
      "\n",
      "See the caveats in the documentation: http://pandas.pydata.org/pandas-docs/stable/indexing.html#indexing-view-versus-copy\n",
      "  self.obj[item] = s\n"
     ]
    }
   ],
   "source": [
    "ref = '<a refstr=DAVID_ET_AL__2019 href=https://ui.adsabs.harvard.edu/abs/2019arXiv190209670D/abstract target=ref>David et al. 2019</a>'\n",
    "print(ref)\n",
    "data.loc[eccmask & (data[eccmask]['my_ecc_refname']==ref), 'my_td_flag'] = 1"
   ]
  },
  {
   "cell_type": "code",
   "execution_count": 54,
   "metadata": {},
   "outputs": [
    {
     "name": "stdout",
     "output_type": "stream",
     "text": [
      "<a refstr=VOGT_ET_AL__2015 href=https://ui.adsabs.harvard.edu/abs/2015ApJ...814...12V/abstract target=ref>Vogt et al. 2015</a>\n"
     ]
    },
    {
     "name": "stderr",
     "output_type": "stream",
     "text": [
      "/Users/dtamayo/miniconda3/envs/p3/lib/python3.7/site-packages/pandas/core/indexing.py:543: SettingWithCopyWarning: \n",
      "A value is trying to be set on a copy of a slice from a DataFrame.\n",
      "Try using .loc[row_indexer,col_indexer] = value instead\n",
      "\n",
      "See the caveats in the documentation: http://pandas.pydata.org/pandas-docs/stable/indexing.html#indexing-view-versus-copy\n",
      "  self.obj[item] = s\n"
     ]
    }
   ],
   "source": [
    "ref = '<a refstr=VOGT_ET_AL__2015 href=https://ui.adsabs.harvard.edu/abs/2015ApJ...814...12V/abstract target=ref>Vogt et al. 2015</a>'\n",
    "print(ref)\n",
    "data.loc[eccmask & (data[eccmask]['my_ecc_refname']==ref), 'my_rv_flag'] = 1 # 6 planet RV system  (only 1 met criteria)"
   ]
  },
  {
   "cell_type": "code",
   "execution_count": 55,
   "metadata": {},
   "outputs": [
    {
     "name": "stdout",
     "output_type": "stream",
     "text": [
      "<a refstr=LISSAUER_ET_AL__2013 href=https://ui.adsabs.harvard.edu/abs/2013ApJ...770..131L/abstract target=ref> Lissauer et al. 2013 </a>\n"
     ]
    },
    {
     "name": "stderr",
     "output_type": "stream",
     "text": [
      "/Users/dtamayo/miniconda3/envs/p3/lib/python3.7/site-packages/pandas/core/indexing.py:543: SettingWithCopyWarning: \n",
      "A value is trying to be set on a copy of a slice from a DataFrame.\n",
      "Try using .loc[row_indexer,col_indexer] = value instead\n",
      "\n",
      "See the caveats in the documentation: http://pandas.pydata.org/pandas-docs/stable/indexing.html#indexing-view-versus-copy\n",
      "  self.obj[item] = s\n"
     ]
    }
   ],
   "source": [
    "ref = '<a refstr=LISSAUER_ET_AL__2013 href=https://ui.adsabs.harvard.edu/abs/2013ApJ...770..131L/abstract target=ref> Lissauer et al. 2013 </a>'\n",
    "print(ref)\n",
    "data.loc[eccmask & (data[eccmask]['my_ecc_refname']==ref), 'my_ttv_flag'] = 1"
   ]
  },
  {
   "cell_type": "markdown",
   "metadata": {},
   "source": [
    "Hadden & Lithwick 2017 did a bunch of TTV systems, but only constrained Z (not individual eccenetricities), so those didn't show up in exoarchive. Flag manually"
   ]
  },
  {
   "cell_type": "code",
   "execution_count": 67,
   "metadata": {},
   "outputs": [
    {
     "data": {
      "text/html": [
       "<div>\n",
       "<style scoped>\n",
       "    .dataframe tbody tr th:only-of-type {\n",
       "        vertical-align: middle;\n",
       "    }\n",
       "\n",
       "    .dataframe tbody tr th {\n",
       "        vertical-align: top;\n",
       "    }\n",
       "\n",
       "    .dataframe thead th {\n",
       "        text-align: right;\n",
       "    }\n",
       "</style>\n",
       "<table border=\"1\" class=\"dataframe\">\n",
       "  <thead>\n",
       "    <tr style=\"text-align: right;\">\n",
       "      <th></th>\n",
       "      <th>Res</th>\n",
       "      <th>Delta</th>\n",
       "      <th>Zd</th>\n",
       "      <th>E_Zd</th>\n",
       "      <th>e_Zd</th>\n",
       "      <th>Zproj-d</th>\n",
       "      <th>E_Zproj-d</th>\n",
       "      <th>e_Zproj-d</th>\n",
       "      <th>Zh</th>\n",
       "      <th>E_Zh</th>\n",
       "      <th>e_Zh</th>\n",
       "      <th>Zproj-h</th>\n",
       "      <th>E_Zproj-h</th>\n",
       "      <th>e_Zproj-h</th>\n",
       "      <th>KepID</th>\n",
       "      <th>j</th>\n",
       "      <th>k</th>\n",
       "      <th>n_planets</th>\n",
       "    </tr>\n",
       "    <tr>\n",
       "      <th>Pair</th>\n",
       "      <th></th>\n",
       "      <th></th>\n",
       "      <th></th>\n",
       "      <th></th>\n",
       "      <th></th>\n",
       "      <th></th>\n",
       "      <th></th>\n",
       "      <th></th>\n",
       "      <th></th>\n",
       "      <th></th>\n",
       "      <th></th>\n",
       "      <th></th>\n",
       "      <th></th>\n",
       "      <th></th>\n",
       "      <th></th>\n",
       "      <th></th>\n",
       "      <th></th>\n",
       "      <th></th>\n",
       "    </tr>\n",
       "  </thead>\n",
       "  <tbody>\n",
       "    <tr>\n",
       "      <th>Kepler-9 b/c</th>\n",
       "      <td>2:1</td>\n",
       "      <td>0.0126</td>\n",
       "      <td>0.083</td>\n",
       "      <td>0.001</td>\n",
       "      <td>0.001</td>\n",
       "      <td>0.083</td>\n",
       "      <td>0.001</td>\n",
       "      <td>0.001</td>\n",
       "      <td>0.083</td>\n",
       "      <td>0.001</td>\n",
       "      <td>0.001</td>\n",
       "      <td>0.083</td>\n",
       "      <td>0.001</td>\n",
       "      <td>0.001</td>\n",
       "      <td>9</td>\n",
       "      <td>2</td>\n",
       "      <td>1</td>\n",
       "      <td>1</td>\n",
       "    </tr>\n",
       "    <tr>\n",
       "      <th>Kepler-11 b/c</th>\n",
       "      <td>5:4</td>\n",
       "      <td>0.0113</td>\n",
       "      <td>0.028</td>\n",
       "      <td>0.010</td>\n",
       "      <td>0.006</td>\n",
       "      <td>0.028</td>\n",
       "      <td>0.010</td>\n",
       "      <td>0.006</td>\n",
       "      <td>0.010</td>\n",
       "      <td>0.004</td>\n",
       "      <td>0.008</td>\n",
       "      <td>0.010</td>\n",
       "      <td>0.004</td>\n",
       "      <td>0.008</td>\n",
       "      <td>11</td>\n",
       "      <td>5</td>\n",
       "      <td>1</td>\n",
       "      <td>4</td>\n",
       "    </tr>\n",
       "    <tr>\n",
       "      <th>Kepler-11 c/d</th>\n",
       "      <td>5:3</td>\n",
       "      <td>0.0451</td>\n",
       "      <td>0.013</td>\n",
       "      <td>0.009</td>\n",
       "      <td>0.015</td>\n",
       "      <td>0.001</td>\n",
       "      <td>0.008</td>\n",
       "      <td>0.023</td>\n",
       "      <td>0.001</td>\n",
       "      <td>0.001</td>\n",
       "      <td>0.008</td>\n",
       "      <td>0.000</td>\n",
       "      <td>0.002</td>\n",
       "      <td>0.009</td>\n",
       "      <td>11</td>\n",
       "      <td>5</td>\n",
       "      <td>2</td>\n",
       "      <td>4</td>\n",
       "    </tr>\n",
       "    <tr>\n",
       "      <th>Kepler-11 d/e</th>\n",
       "      <td>7:5</td>\n",
       "      <td>0.0074</td>\n",
       "      <td>0.009</td>\n",
       "      <td>0.001</td>\n",
       "      <td>0.001</td>\n",
       "      <td>0.009</td>\n",
       "      <td>0.002</td>\n",
       "      <td>0.001</td>\n",
       "      <td>0.009</td>\n",
       "      <td>0.001</td>\n",
       "      <td>0.001</td>\n",
       "      <td>0.009</td>\n",
       "      <td>0.001</td>\n",
       "      <td>0.002</td>\n",
       "      <td>11</td>\n",
       "      <td>7</td>\n",
       "      <td>2</td>\n",
       "      <td>4</td>\n",
       "    </tr>\n",
       "    <tr>\n",
       "      <th>Kepler-11 e/f</th>\n",
       "      <td>3:2</td>\n",
       "      <td>0.0272</td>\n",
       "      <td>0.018</td>\n",
       "      <td>0.004</td>\n",
       "      <td>0.005</td>\n",
       "      <td>0.018</td>\n",
       "      <td>0.004</td>\n",
       "      <td>0.006</td>\n",
       "      <td>0.016</td>\n",
       "      <td>0.004</td>\n",
       "      <td>0.005</td>\n",
       "      <td>0.016</td>\n",
       "      <td>0.004</td>\n",
       "      <td>0.004</td>\n",
       "      <td>11</td>\n",
       "      <td>3</td>\n",
       "      <td>1</td>\n",
       "      <td>4</td>\n",
       "    </tr>\n",
       "  </tbody>\n",
       "</table>\n",
       "</div>"
      ],
      "text/plain": [
       "               Res   Delta     Zd   E_Zd   e_Zd  Zproj-d  E_Zproj-d  \\\n",
       "Pair                                                                  \n",
       "Kepler-9 b/c   2:1  0.0126  0.083  0.001  0.001    0.083      0.001   \n",
       "Kepler-11 b/c  5:4  0.0113  0.028  0.010  0.006    0.028      0.010   \n",
       "Kepler-11 c/d  5:3  0.0451  0.013  0.009  0.015    0.001      0.008   \n",
       "Kepler-11 d/e  7:5  0.0074  0.009  0.001  0.001    0.009      0.002   \n",
       "Kepler-11 e/f  3:2  0.0272  0.018  0.004  0.005    0.018      0.004   \n",
       "\n",
       "               e_Zproj-d     Zh   E_Zh   e_Zh  Zproj-h  E_Zproj-h  e_Zproj-h  \\\n",
       "Pair                                                                           \n",
       "Kepler-9 b/c       0.001  0.083  0.001  0.001    0.083      0.001      0.001   \n",
       "Kepler-11 b/c      0.006  0.010  0.004  0.008    0.010      0.004      0.008   \n",
       "Kepler-11 c/d      0.023  0.001  0.001  0.008    0.000      0.002      0.009   \n",
       "Kepler-11 d/e      0.001  0.009  0.001  0.001    0.009      0.001      0.002   \n",
       "Kepler-11 e/f      0.006  0.016  0.004  0.005    0.016      0.004      0.004   \n",
       "\n",
       "               KepID  j  k  n_planets  \n",
       "Pair                                   \n",
       "Kepler-9 b/c       9  2  1          1  \n",
       "Kepler-11 b/c     11  5  1          4  \n",
       "Kepler-11 c/d     11  5  2          4  \n",
       "Kepler-11 d/e     11  7  2          4  \n",
       "Kepler-11 e/f     11  3  1          4  "
      ]
     },
     "execution_count": 67,
     "metadata": {},
     "output_type": "execute_result"
    }
   ],
   "source": [
    "hadden = pd.read_csv('Hadden17_table2.csv', index_col=0)\n",
    "hadden.head()"
   ]
  },
  {
   "cell_type": "markdown",
   "metadata": {},
   "source": [
    "All flagged systems above were only for ones where eccentricity was measured, so we can just mask the flagged ones by method, and we'll have all the measured eccentricities"
   ]
  },
  {
   "cell_type": "code",
   "execution_count": 68,
   "metadata": {},
   "outputs": [],
   "source": [
    "ttvmask = data['my_ttv_flag'] == 1\n",
    "tdmask = data['my_td_flag'] == 1\n",
    "rvmask = data['my_rv_flag'] == 1\n",
    "astromask = data['my_astro_flag'] == 1\n",
    "noeccmask = (data['my_ecc'].isnull()) | (data['my_ecc'] + data['my_eccerr1'] > data['ecross_min'])\n",
    "eccmask = ~noeccmask"
   ]
  },
  {
   "cell_type": "code",
   "execution_count": 69,
   "metadata": {},
   "outputs": [
    {
     "name": "stdout",
     "output_type": "stream",
     "text": [
      "29 20 23 1 280 353\n"
     ]
    }
   ],
   "source": [
    "print(ttvmask.sum(), tdmask.sum(), rvmask.sum(), astromask.sum(), noeccmask.sum(), data.shape[0])"
   ]
  },
  {
   "cell_type": "code",
   "execution_count": 70,
   "metadata": {},
   "outputs": [
    {
     "data": {
      "text/plain": [
       "73"
      ]
     },
     "execution_count": 70,
     "metadata": {},
     "output_type": "execute_result"
    }
   ],
   "source": [
    "ecc = ttvmask.sum()+ tdmask.sum()+ rvmask.sum()+ astromask.sum()\n",
    "ecc"
   ]
  },
  {
   "cell_type": "code",
   "execution_count": 71,
   "metadata": {},
   "outputs": [
    {
     "data": {
      "text/plain": [
       "353"
      ]
     },
     "execution_count": 71,
     "metadata": {},
     "output_type": "execute_result"
    }
   ],
   "source": [
    "ecc + noeccmask.sum()"
   ]
  },
  {
   "cell_type": "code",
   "execution_count": 77,
   "metadata": {},
   "outputs": [
    {
     "name": "stderr",
     "output_type": "stream",
     "text": [
      "/Users/dtamayo/miniconda3/envs/p3/lib/python3.7/site-packages/pandas/core/indexing.py:543: SettingWithCopyWarning: \n",
      "A value is trying to be set on a copy of a slice from a DataFrame.\n",
      "Try using .loc[row_indexer,col_indexer] = value instead\n",
      "\n",
      "See the caveats in the documentation: http://pandas.pydata.org/pandas-docs/stable/indexing.html#indexing-view-versus-copy\n",
      "  self.obj[item] = s\n"
     ]
    }
   ],
   "source": [
    "for i, row in hadden.iterrows():\n",
    "    sy = i.split()[0]\n",
    "    for let in i.split()[1].split('/'):\n",
    "        try:\n",
    "            data.loc[(data['hostname']==sy)&(data['pl_letter']==let), 'my_ttv_flag'] = 1\n",
    "        except:\n",
    "            pass"
   ]
  },
  {
   "cell_type": "code",
   "execution_count": 78,
   "metadata": {},
   "outputs": [],
   "source": [
    "ttvmask = data['my_ttv_flag'] == 1\n",
    "tdmask = (data['my_td_flag'] == 1) & (data['my_ttv_flag']==0) # Kep 127b and Kep 138b had td constraints but also in Hadden & Lithwick 17 (with tighter constraints)\n",
    "rvmask = (data['my_rv_flag'] == 1) & (data['my_ttv_flag']==0) # Kep 51 b had RV constraints but also in Hadden & Lithwick 17 (with tighter constraints)\n",
    "astromask = data['my_astro_flag'] == 1\n",
    "noeccmask = ((data['my_ecc'].isnull()) | (data['my_ecc'] + data['my_eccerr1'] > data['ecross_min'])) & (data['my_ttv_flag']==0)\n",
    "eccmask = ~noeccmask"
   ]
  },
  {
   "cell_type": "code",
   "execution_count": 79,
   "metadata": {},
   "outputs": [
    {
     "name": "stdout",
     "output_type": "stream",
     "text": [
      "81 18 23 1 230 353\n"
     ]
    }
   ],
   "source": [
    "print(ttvmask.sum(), tdmask.sum(), rvmask.sum(), astromask.sum(), noeccmask.sum(), data.shape[0])"
   ]
  },
  {
   "cell_type": "code",
   "execution_count": 80,
   "metadata": {},
   "outputs": [
    {
     "data": {
      "text/plain": [
       "123"
      ]
     },
     "execution_count": 80,
     "metadata": {},
     "output_type": "execute_result"
    }
   ],
   "source": [
    "ecc = ttvmask.sum()+ tdmask.sum()+ rvmask.sum()+ astromask.sum()\n",
    "ecc"
   ]
  },
  {
   "cell_type": "code",
   "execution_count": 81,
   "metadata": {},
   "outputs": [
    {
     "data": {
      "text/plain": [
       "353"
      ]
     },
     "execution_count": 81,
     "metadata": {},
     "output_type": "execute_result"
    }
   ],
   "source": [
    "ecc + noeccmask.sum()"
   ]
  },
  {
   "cell_type": "code",
   "execution_count": 82,
   "metadata": {},
   "outputs": [
    {
     "data": {
      "text/plain": [
       "array(['K2-266', 'Kepler-11', 'Kepler-114', 'Kepler-122', 'Kepler-127',\n",
       "       'Kepler-138', 'Kepler-176', 'Kepler-186', 'Kepler-223',\n",
       "       'Kepler-23', 'Kepler-24', 'Kepler-296', 'Kepler-305', 'Kepler-32',\n",
       "       'Kepler-33', 'Kepler-444', 'Kepler-49', 'Kepler-51', 'Kepler-54',\n",
       "       'Kepler-60', 'Kepler-79', 'Kepler-80', 'Kepler-81', 'Kepler-82',\n",
       "       'Kepler-84', 'Kepler-85'], dtype=object)"
      ]
     },
     "execution_count": 82,
     "metadata": {},
     "output_type": "execute_result"
    }
   ],
   "source": [
    "data[ttvmask]['hostname'].unique()"
   ]
  },
  {
   "cell_type": "code",
   "execution_count": 83,
   "metadata": {},
   "outputs": [
    {
     "data": {
      "text/plain": [
       "2317    0\n",
       "2311    0\n",
       "2306    0\n",
       "2303    0\n",
       "Name: my_ttv_flag, dtype: int64"
      ]
     },
     "execution_count": 83,
     "metadata": {},
     "output_type": "execute_result"
    }
   ],
   "source": [
    "data[data['hostname']=='HR 8799']['my_ttv_flag']"
   ]
  },
  {
   "cell_type": "code",
   "execution_count": 84,
   "metadata": {},
   "outputs": [
    {
     "data": {
      "text/plain": [
       "<BarContainer object of 19 artists>"
      ]
     },
     "execution_count": 84,
     "metadata": {},
     "output_type": "execute_result"
    },
    {
     "data": {
      "image/png": "[encoded data removed]",
      "text/plain": [
       "<Figure size 432x288 with 1 Axes>"
      ]
     },
     "metadata": {
      "needs_background": "light"
     },
     "output_type": "display_data"
    }
   ],
   "source": [
    "Nbins=20\n",
    "bins = np.linspace(0, 15, Nbins)\n",
    "f_ecc, edges = np.histogram(data[eccmask]['my_rade'], bins)\n",
    "f_noecc, edges = np.histogram(data[noeccmask]['my_rade'], bins)\n",
    "\n",
    "fig, ax = plt.subplots()\n",
    "ax.bar(edges[:-1], f_ecc, width=np.diff(edges), edgecolor=\"black\", align=\"edge\")\n",
    "ax.bar(edges[:-1], f_noecc, width=np.diff(edges), edgecolor=\"black\", align=\"edge\", bottom=f_ecc)"
   ]
  },
  {
   "cell_type": "code",
   "execution_count": 85,
   "metadata": {},
   "outputs": [
    {
     "data": {
      "text/plain": [
       "<BarContainer object of 19 artists>"
      ]
     },
     "execution_count": 85,
     "metadata": {},
     "output_type": "execute_result"
    },
    {
     "data": {
      "image/png": "[encoded data removed]",
      "text/plain": [
       "<Figure size 432x288 with 1 Axes>"
      ]
     },
     "metadata": {
      "needs_background": "light"
     },
     "output_type": "display_data"
    }
   ],
   "source": [
    "Nbins=20\n",
    "bins = np.linspace(0, 50, Nbins)\n",
    "f_ecc, edges = np.histogram(data[eccmask]['Delta_min'], bins)\n",
    "f_noecc, edges = np.histogram(data[noeccmask]['Delta_min'], bins)\n",
    "\n",
    "fig, ax = plt.subplots()\n",
    "ax.bar(edges[:-1], f_ecc, width=np.diff(edges), edgecolor=\"black\", align=\"edge\")\n",
    "ax.bar(edges[:-1], f_noecc, width=np.diff(edges), edgecolor=\"black\", align=\"edge\", bottom=f_ecc)"
   ]
  },
  {
   "cell_type": "code",
   "execution_count": 86,
   "metadata": {},
   "outputs": [],
   "source": [
    "def gradient_image(ax, extent, direction=0.3, cmap_range=(0, 1), **kwargs):\n",
    "    \"\"\"\n",
    "    Draw a gradient image based on a colormap.\n",
    "\n",
    "    Parameters\n",
    "    ----------\n",
    "    ax : Axes\n",
    "        The axes to draw on.\n",
    "    extent\n",
    "        The extent of the image as (xmin, xmax, ymin, ymax).\n",
    "        By default, this is in Axes coordinates but may be\n",
    "        changed using the *transform* kwarg.\n",
    "    direction : float\n",
    "        The direction of the gradient. This is a number in\n",
    "        range 0 (=vertical) to 1 (=horizontal).\n",
    "    cmap_range : float, float\n",
    "        The fraction (cmin, cmax) of the colormap that should be\n",
    "        used for the gradient, where the complete colormap is (0, 1).\n",
    "    **kwargs\n",
    "        Other parameters are passed on to `.Axes.imshow()`.\n",
    "        In particular useful is *cmap*.\n",
    "    \"\"\"\n",
    "    phi = direction * np.pi / 2\n",
    "    v = np.array([np.cos(phi), np.sin(phi)])\n",
    "    X = np.array([[v @ [1, 0], v @ [1, 1]],\n",
    "                  [v @ [0, 0], v @ [0, 1]]])\n",
    "    a, b = cmap_range\n",
    "    X = a + (b - a) / X.max() * X\n",
    "    im = ax.imshow(X, extent=extent, interpolation='bicubic',\n",
    "                   vmin=0, vmax=1, **kwargs)\n",
    "    return im"
   ]
  },
  {
   "cell_type": "code",
   "execution_count": 87,
   "metadata": {},
   "outputs": [
    {
     "name": "stderr",
     "output_type": "stream",
     "text": [
      "findfont: Font family ['serif'] not found. Falling back to DejaVu Sans.\n",
      "findfont: Font family ['serif'] not found. Falling back to DejaVu Sans.\n",
      "findfont: Font family ['serif'] not found. Falling back to DejaVu Sans.\n",
      "findfont: Font family ['serif'] not found. Falling back to DejaVu Sans.\n"
     ]
    },
    {
     "data": {
      "image/png": "[encoded data removed]",
      "text/plain": [
       "<Figure size 648x432 with 1 Axes>"
      ]
     },
     "metadata": {
      "needs_background": "light"
     },
     "output_type": "display_data"
    }
   ],
   "source": [
    "plt.style.use('paper')\n",
    "Nbins=20\n",
    "bins = np.linspace(0, 50, Nbins)\n",
    "f_ttv, edges = np.histogram(data[ttvmask]['Delta_min'], bins)\n",
    "f_td, edges = np.histogram(data[tdmask]['Delta_min'], bins)\n",
    "f_rv, edges = np.histogram(data[rvmask]['Delta_min'], bins)\n",
    "f_astro, edges = np.histogram(data[astromask]['Delta_min'], bins)\n",
    "f_noecc, edges = np.histogram(data[noeccmask]['Delta_min'], bins)\n",
    "\n",
    "fig, ax = plt.subplots(figsize=(9,6))\n",
    "\n",
    "ax.bar(edges[:-1], f_ttv, width=np.diff(edges), edgecolor=\"black\", align=\"edge\", label='Transit Timing Variations')\n",
    "ax.bar(edges[:-1], f_td, width=np.diff(edges), edgecolor=\"black\", align=\"edge\", bottom=f_ttv, label='Transit Durations')\n",
    "ax.bar(edges[:-1], f_rv, width=np.diff(edges), edgecolor=\"black\", align=\"edge\", bottom=f_ttv+f_td, label='Radial Velocities')\n",
    "ax.bar(edges[:-1], f_astro, width=np.diff(edges), edgecolor=\"black\", align=\"edge\", bottom=f_ttv+f_td+f_rv, label='Astrometry')\n",
    "ax.bar(edges[:-1], f_noecc, width=np.diff(edges), edgecolor=\"black\", align=\"edge\", facecolor='gray', bottom=f_ttv+f_td+f_rv+f_astro, label='None')\n",
    "ax.legend(fontsize=16)\n",
    "ax.set_xlabel('Dynamical Spacing (Hill radii)')\n",
    "ax.set_ylabel('Number of Planets')\n",
    "ax.set_title('Eccentricity Constraints in Compact 3+ Planet Systems', pad=15)\n",
    "ax.set_xlim([0,50])\n",
    "\n",
    "ax.arrow(18, 57, -15, 0, head_width=4, head_length=2, linewidth=4, color='k', length_includes_head=True)\n",
    "ax.text(1,60, 'Stronger Stability\\nConstraints', fontsize=22)\n",
    "im = gradient_image(ax, direction=1, extent=(0, 24, 0, 70), cmap=plt.cm.Oranges_r, cmap_range=(0., 1), aspect='auto')\n",
    "\n",
    "\n"
   ]
  },
  {
   "cell_type": "code",
   "execution_count": 142,
   "metadata": {},
   "outputs": [
    {
     "data": {
      "text/plain": [
       "5076     Kepler-107\n",
       "5113     Kepler-107\n",
       "5443      Kepler-11\n",
       "5457      Kepler-11\n",
       "5472      Kepler-11\n",
       "5486      Kepler-11\n",
       "5493      Kepler-11\n",
       "5506      Kepler-11\n",
       "7423     Kepler-127\n",
       "7432     Kepler-127\n",
       "8661     Kepler-138\n",
       "8673     Kepler-138\n",
       "8699     Kepler-138\n",
       "12098    Kepler-186\n",
       "12340    Kepler-197\n",
       "12353    Kepler-197\n",
       "12368    Kepler-197\n",
       "12443     Kepler-20\n",
       "12454     Kepler-20\n",
       "12487     Kepler-20\n",
       "13130    Kepler-223\n",
       "13147    Kepler-223\n",
       "13157    Kepler-223\n",
       "13159    Kepler-223\n",
       "15302    Kepler-296\n",
       "15323    Kepler-296\n",
       "16557    Kepler-338\n",
       "16534    Kepler-338\n",
       "16544    Kepler-338\n",
       "17290     Kepler-37\n",
       "18641    Kepler-445\n",
       "18653    Kepler-445\n",
       "18659    Kepler-445\n",
       "19367     Kepler-51\n",
       "19386     Kepler-51\n",
       "19391     Kepler-51\n",
       "22642     Kepler-79\n",
       "22650     Kepler-79\n",
       "22661     Kepler-79\n",
       "22675     Kepler-79\n",
       "23060     Kepler-82\n",
       "23069     Kepler-82\n",
       "23097     Kepler-82\n",
       "24163     Kepler-92\n",
       "24182     Kepler-92\n",
       "Name: hostname, dtype: object"
      ]
     },
     "execution_count": 142,
     "metadata": {},
     "output_type": "execute_result"
    }
   ],
   "source": [
    "data[eccmask][['Kepler' in name for name in data[eccmask]['hostname']]]['hostname']"
   ]
  },
  {
   "cell_type": "code",
   "execution_count": 24,
   "metadata": {},
   "outputs": [
    {
     "data": {
      "text/plain": [
       "<BarContainer object of 19 artists>"
      ]
     },
     "execution_count": 24,
     "metadata": {},
     "output_type": "execute_result"
    },
    {
     "data": {
      "image/png": "[encoded data removed]",
      "text/plain": [
       "<Figure size 432x288 with 1 Axes>"
      ]
     },
     "metadata": {
      "needs_background": "light"
     },
     "output_type": "display_data"
    }
   ],
   "source": [
    "Nbins=20\n",
    "bins = np.linspace(0, 50, Nbins)\n",
    "f_ttv, edges = np.histogram(data[ttvmask]['Delta_min'], bins)\n",
    "f_td, edges = np.histogram(data[tdmask]['Delta_min'], bins)\n",
    "f_rv, edges = np.histogram(data[rvmask]['Delta_min'], bins)\n",
    "f_astro, edges = np.histogram(data[astromask]['Delta_min'], bins)\n",
    "f_noecc, edges = np.histogram(data[noeccmask]['Delta_min'], bins)\n",
    "\n",
    "fig, ax = plt.subplots()\n",
    "ax.bar(edges[:-1], f_ttv, width=np.diff(edges), edgecolor=\"black\", align=\"edge\", legend='Transit Timing Variations')\n",
    "ax.bar(edges[:-1], f_td, width=np.diff(edges), edgecolor=\"black\", align=\"edge\", legend='Transit Durations')\n",
    "ax.bar(edges[:-1], f_rv, width=np.diff(edges), edgecolor=\"black\", align=\"edge\", legend='Radial Velocities')\n",
    "ax.bar(edges[:-1], f_astro, width=np.diff(edges), edgecolor=\"black\", align=\"edge\", legend='Astrometry')\n",
    "ax.bar(edges[:-1], f_noecc, width=np.diff(edges), edgecolor=\"black\", align=\"edge\", bottom=f_ecc)"
   ]
  },
  {
   "cell_type": "code",
   "execution_count": 25,
   "metadata": {},
   "outputs": [
    {
     "data": {
      "text/plain": [
       "(353, 321)"
      ]
     },
     "execution_count": 25,
     "metadata": {},
     "output_type": "execute_result"
    }
   ],
   "source": [
    "data.shape"
   ]
  },
  {
   "cell_type": "code",
   "execution_count": 26,
   "metadata": {},
   "outputs": [
    {
     "data": {
      "text/plain": [
       "<matplotlib.axes._subplots.AxesSubplot at 0x7fe5109c0908>"
      ]
     },
     "execution_count": 26,
     "metadata": {},
     "output_type": "execute_result"
    },
    {
     "data": {
      "image/png": "[encoded data removed]",
      "text/plain": [
       "<Figure size 432x288 with 1 Axes>"
      ]
     },
     "metadata": {
      "needs_background": "light"
     },
     "output_type": "display_data"
    }
   ],
   "source": [
    "data['my_rade'].hist()"
   ]
  },
  {
   "cell_type": "markdown",
   "metadata": {},
   "source": [
    "* Check Sam's paper"
   ]
  },
  {
   "cell_type": "code",
   "execution_count": 31,
   "metadata": {},
   "outputs": [
    {
     "data": {
      "text/plain": [
       "array(['GJ 667 C', 'GJ 876', 'HD 219134', 'HD 34445', 'HR 8799', 'K2-266',\n",
       "       'K2-72', 'Kepler-107', 'Kepler-11', 'Kepler-127', 'Kepler-138',\n",
       "       'Kepler-186', 'Kepler-197', 'Kepler-20', 'Kepler-223', 'Kepler-23',\n",
       "       'Kepler-296', 'Kepler-338', 'Kepler-37', 'Kepler-444',\n",
       "       'Kepler-445', 'Kepler-51', 'Kepler-79', 'Kepler-82', 'Kepler-92',\n",
       "       'L 98-59', 'V1298 Tau'], dtype=object)"
      ]
     },
     "execution_count": 31,
     "metadata": {},
     "output_type": "execute_result"
    }
   ],
   "source": [
    "data[eccmask]['hostname'].unique()"
   ]
  },
  {
   "cell_type": "code",
   "execution_count": 29,
   "metadata": {},
   "outputs": [],
   "source": [
    "data[eccmask][data[eccmask]['hostname']=='Kepler-79']['my_ttv_flag'] = 1"
   ]
  },
  {
   "cell_type": "code",
   "execution_count": 373,
   "metadata": {},
   "outputs": [
    {
     "data": {
      "text/plain": [
       "<matplotlib.axes._subplots.AxesSubplot at 0x7f8190bd0cc0>"
      ]
     },
     "execution_count": 373,
     "metadata": {},
     "output_type": "execute_result"
    },
    {
     "data": {
      "image/png": "[encoded data removed]",
      "text/plain": [
       "<Figure size 432x288 with 1 Axes>"
      ]
     },
     "metadata": {
      "needs_background": "light"
     },
     "output_type": "display_data"
    }
   ],
   "source": [
    "data[data['my_ecc_rvflag'] == 1]['my_ecc'].hist()"
   ]
  },
  {
   "cell_type": "code",
   "execution_count": 309,
   "metadata": {},
   "outputs": [
    {
     "data": {
      "text/plain": [
       "43           47 UMa b\n",
       "46           47 UMa c\n",
       "47           47 UMa d\n",
       "98           61 Vir b\n",
       "99           61 Vir c\n",
       "100          61 Vir d\n",
       "379          GJ 163 b\n",
       "380          GJ 163 c\n",
       "381          GJ 163 d\n",
       "384          GJ 180 b\n",
       "385          GJ 180 c\n",
       "386          GJ 180 d\n",
       "395         GJ 3138 b\n",
       "396         GJ 3138 c\n",
       "397         GJ 3138 d\n",
       "403         GJ 3293 b\n",
       "406         GJ 3293 c\n",
       "407         GJ 3293 d\n",
       "408         GJ 3293 e\n",
       "437          GJ 433 b\n",
       "438          GJ 433 c\n",
       "440          GJ 433 d\n",
       "464          GJ 581 b\n",
       "467          GJ 581 c\n",
       "471          GJ 581 e\n",
       "477        GJ 667 C b\n",
       "484        GJ 667 C c\n",
       "485        GJ 667 C e\n",
       "486        GJ 667 C f\n",
       "487        GJ 667 C g\n",
       "             ...     \n",
       "18302     Kepler-42 b\n",
       "18308     Kepler-42 c\n",
       "18317     Kepler-42 d\n",
       "18602    Kepler-444 b\n",
       "18605    Kepler-444 c\n",
       "18611    Kepler-444 d\n",
       "18627    Kepler-444 e\n",
       "18630    Kepler-444 f\n",
       "18659    Kepler-445 d\n",
       "18759    Kepler-450 d\n",
       "20067     Kepler-56 d\n",
       "21133     Kepler-65 b\n",
       "21473     Kepler-68 c\n",
       "25017       L 98-59 b\n",
       "25019       L 98-59 c\n",
       "26131     Wolf 1061 b\n",
       "26133     Wolf 1061 c\n",
       "26134     Wolf 1061 d\n",
       "26157        XO-2 S b\n",
       "26159        XO-2 S c\n",
       "26184        YZ Cet b\n",
       "26187        YZ Cet c\n",
       "26188        YZ Cet d\n",
       "26247       tau Cet e\n",
       "26248       tau Cet f\n",
       "26249       tau Cet g\n",
       "26250       tau Cet h\n",
       "26255       ups And b\n",
       "26260       ups And c\n",
       "26265       ups And d\n",
       "Name: pl_name, Length: 147, dtype: object"
      ]
     },
     "execution_count": 309,
     "metadata": {},
     "output_type": "execute_result"
    }
   ],
   "source": [
    "dfunique[eccmask & (dfunique['my_rade'] < 1.5)]['pl_name']"
   ]
  },
  {
   "cell_type": "code",
   "execution_count": 262,
   "metadata": {},
   "outputs": [
    {
     "name": "stdout",
     "output_type": "stream",
     "text": [
      "HD 160691 d failed\n",
      "HD 160691 e failed\n",
      "HD 181433 c failed\n",
      "HD 181433 d failed\n",
      "HD 69830 b failed\n",
      "HD 69830 c failed\n",
      "HD 69830 d failed\n",
      "CPU times: user 20 s, sys: 44.2 ms, total: 20 s\n",
      "Wall time: 20 s\n"
     ]
    }
   ],
   "source": [
    "%%time\n",
    "rvunique = pd.DataFrame()\n",
    "for name in rv['pl_name'].unique():\n",
    "    rvunique=rvunique.append(singlerowwithradius(rv, name))"
   ]
  },
  {
   "cell_type": "code",
   "execution_count": 256,
   "metadata": {},
   "outputs": [
    {
     "name": "stdout",
     "output_type": "stream",
     "text": [
      "CPU times: user 52.1 s, sys: 103 ms, total: 52.2 s\n",
      "Wall time: 52.3 s\n"
     ]
    }
   ],
   "source": [
    "%%time\n",
    "tranunique = pd.DataFrame()\n",
    "for name in tran['pl_name'].unique():\n",
    "    tranunique=tranunique.append(singlerowwithradius(tran, name))"
   ]
  },
  {
   "cell_type": "code",
   "execution_count": 257,
   "metadata": {},
   "outputs": [
    {
     "name": "stdout",
     "output_type": "stream",
     "text": [
      "CPU times: user 9.3 s, sys: 29.3 ms, total: 9.33 s\n",
      "Wall time: 9.35 s\n"
     ]
    }
   ],
   "source": [
    "%%time\n",
    "bothunique = pd.DataFrame()\n",
    "for name in both['pl_name'].unique():\n",
    "    bothunique=bothunique.append(singlerowwithradius(both, name))"
   ]
  },
  {
   "cell_type": "code",
   "execution_count": 258,
   "metadata": {},
   "outputs": [
    {
     "name": "stdout",
     "output_type": "stream",
     "text": [
      "578 144 102 824\n"
     ]
    }
   ],
   "source": [
    "Nrv =rvunique.shape[0]\n",
    "Ntran = tranunique.shape[0]\n",
    "Nboth = bothunique.shape[0]\n",
    "Nplanets = Nrv + Ntran + Nboth\n",
    "print(Ntran,Nrv,Nboth,Nplanets)"
   ]
  },
  {
   "cell_type": "code",
   "execution_count": 244,
   "metadata": {},
   "outputs": [
    {
     "data": {
      "text/plain": [
       "(144, 297)"
      ]
     },
     "execution_count": 244,
     "metadata": {},
     "output_type": "execute_result"
    }
   ],
   "source": [
    "rvunique.shape"
   ]
  },
  {
   "cell_type": "code",
   "execution_count": 246,
   "metadata": {},
   "outputs": [
    {
     "data": {
      "text/plain": [
       "151"
      ]
     },
     "execution_count": 246,
     "metadata": {},
     "output_type": "execute_result"
    }
   ],
   "source": [
    "len(rv['pl_name'].unique())"
   ]
  },
  {
   "cell_type": "code",
   "execution_count": 254,
   "metadata": {},
   "outputs": [
    {
     "data": {
      "text/plain": [
       "<matplotlib.axes._subplots.AxesSubplot at 0x7f8150d67f60>"
      ]
     },
     "execution_count": 254,
     "metadata": {},
     "output_type": "execute_result"
    },
    {
     "data": {
      "image/png": "[encoded data removed]",
      "text/plain": [
       "<Figure size 432x288 with 1 Axes>"
      ]
     },
     "metadata": {
      "needs_background": "light"
     },
     "output_type": "display_data"
    }
   ],
   "source": [
    "rvunique['my_rade'].hist()"
   ]
  },
  {
   "cell_type": "code",
   "execution_count": 241,
   "metadata": {},
   "outputs": [
    {
     "data": {
      "text/html": [
       "<div>\n",
       "<style scoped>\n",
       "    .dataframe tbody tr th:only-of-type {\n",
       "        vertical-align: middle;\n",
       "    }\n",
       "\n",
       "    .dataframe tbody tr th {\n",
       "        vertical-align: top;\n",
       "    }\n",
       "\n",
       "    .dataframe thead th {\n",
       "        text-align: right;\n",
       "    }\n",
       "</style>\n",
       "<table border=\"1\" class=\"dataframe\">\n",
       "  <thead>\n",
       "    <tr style=\"text-align: right;\">\n",
       "      <th></th>\n",
       "      <th>pl_rade</th>\n",
       "      <th>pl_radeerr1</th>\n",
       "      <th>pl_radeerr2</th>\n",
       "      <th>pl_masse</th>\n",
       "      <th>pl_masseerr1</th>\n",
       "      <th>pl_masseerr2</th>\n",
       "      <th>pl_msinie</th>\n",
       "      <th>pl_msinieerr1</th>\n",
       "      <th>pl_msinieerr2</th>\n",
       "    </tr>\n",
       "  </thead>\n",
       "  <tbody>\n",
       "    <tr>\n",
       "      <th>1342</th>\n",
       "      <td>NaN</td>\n",
       "      <td>NaN</td>\n",
       "      <td>NaN</td>\n",
       "      <td>NaN</td>\n",
       "      <td>NaN</td>\n",
       "      <td>NaN</td>\n",
       "      <td>10.5547</td>\n",
       "      <td>NaN</td>\n",
       "      <td>NaN</td>\n",
       "    </tr>\n",
       "    <tr>\n",
       "      <th>1343</th>\n",
       "      <td>NaN</td>\n",
       "      <td>NaN</td>\n",
       "      <td>NaN</td>\n",
       "      <td>NaN</td>\n",
       "      <td>NaN</td>\n",
       "      <td>NaN</td>\n",
       "      <td>14.0000</td>\n",
       "      <td>NaN</td>\n",
       "      <td>NaN</td>\n",
       "    </tr>\n",
       "    <tr>\n",
       "      <th>1344</th>\n",
       "      <td>NaN</td>\n",
       "      <td>NaN</td>\n",
       "      <td>NaN</td>\n",
       "      <td>NaN</td>\n",
       "      <td>NaN</td>\n",
       "      <td>NaN</td>\n",
       "      <td>10.1700</td>\n",
       "      <td>NaN</td>\n",
       "      <td>NaN</td>\n",
       "    </tr>\n",
       "  </tbody>\n",
       "</table>\n",
       "</div>"
      ],
      "text/plain": [
       "      pl_rade  pl_radeerr1  pl_radeerr2  pl_masse  pl_masseerr1  pl_masseerr2  \\\n",
       "1342      NaN          NaN          NaN       NaN           NaN           NaN   \n",
       "1343      NaN          NaN          NaN       NaN           NaN           NaN   \n",
       "1344      NaN          NaN          NaN       NaN           NaN           NaN   \n",
       "\n",
       "      pl_msinie  pl_msinieerr1  pl_msinieerr2  \n",
       "1342    10.5547            NaN            NaN  \n",
       "1343    14.0000            NaN            NaN  \n",
       "1344    10.1700            NaN            NaN  "
      ]
     },
     "execution_count": 241,
     "metadata": {},
     "output_type": "execute_result"
    }
   ],
   "source": [
    "name = 'HD 160691 d'\n",
    "copies = rv[rv['pl_name']==name]\n",
    "copies[['pl_rade', 'pl_radeerr1', 'pl_radeerr2', 'pl_masse', 'pl_masseerr1', 'pl_masseerr2','pl_msinie', 'pl_msinieerr1', 'pl_msinieerr2']]"
   ]
  },
  {
   "cell_type": "code",
   "execution_count": 216,
   "metadata": {},
   "outputs": [
    {
     "data": {
      "text/plain": [
       "55        263.9785\n",
       "63        266.9660\n",
       "64        254.2500\n",
       "67         54.4738\n",
       "70         56.6985\n",
       "77       1232.4930\n",
       "78       1226.7700\n",
       "93         47.0051\n",
       "94         44.8120\n",
       "514       845.3000\n",
       "515       839.0400\n",
       "517       804.0760\n",
       "519       723.2235\n",
       "522       226.9846\n",
       "523       273.3200\n",
       "524       266.2000\n",
       "526       251.0750\n",
       "528         6.8300\n",
       "531         7.5300\n",
       "532         7.4900\n",
       "533        14.6000\n",
       "534        16.5800\n",
       "1684       16.1700\n",
       "1686        7.3000\n",
       "12175      13.1000\n",
       "12176    1906.9000\n",
       "12177      22.5000\n",
       "13975      89.9000\n",
       "19018     657.0000\n",
       "21488     267.0000\n",
       "Name: pl_masse, dtype: float64"
      ]
     },
     "execution_count": 216,
     "metadata": {},
     "output_type": "execute_result"
    }
   ],
   "source": [
    "rv[rv['pl_msinie'].isnull()]['pl_masse']"
   ]
  },
  {
   "cell_type": "code",
   "execution_count": null,
   "metadata": {},
   "outputs": [],
   "source": [
    "%%time\n",
    "sample=rv\n",
    "rvunique = pd.DataFrame(columns = df.columns)\n",
    "for name in sample['pl_name'].unique():\n",
    "    copies = sample[sample['pl_name']==name]\n",
    "    try:\n",
    "        unique=unique.append(copies[copies['pl_radeerr1'] == copies['pl_radeerr1'].min()].iloc[0])\n",
    "    except:\n",
    "        ctr += 1"
   ]
  },
  {
   "cell_type": "code",
   "execution_count": 197,
   "metadata": {},
   "outputs": [
    {
     "data": {
      "text/plain": [
       "<matplotlib.axes._subplots.AxesSubplot at 0x7f818143e358>"
      ]
     },
     "execution_count": 197,
     "metadata": {},
     "output_type": "execute_result"
    },
    {
     "data": {
      "image/png": "[encoded data removed]",
      "text/plain": [
       "<Figure size 432x288 with 1 Axes>"
      ]
     },
     "metadata": {
      "needs_background": "light"
     },
     "output_type": "display_data"
    }
   ],
   "source": [
    "both['pl_rade'].hist()"
   ]
  },
  {
   "cell_type": "code",
   "execution_count": 198,
   "metadata": {},
   "outputs": [
    {
     "data": {
      "text/plain": [
       "150"
      ]
     },
     "execution_count": 198,
     "metadata": {},
     "output_type": "execute_result"
    }
   ],
   "source": [
    "both['pl_rade'].isnull().sum()"
   ]
  },
  {
   "cell_type": "code",
   "execution_count": 199,
   "metadata": {},
   "outputs": [
    {
     "data": {
      "text/plain": [
       "(937, 296)"
      ]
     },
     "execution_count": 199,
     "metadata": {},
     "output_type": "execute_result"
    }
   ],
   "source": [
    "both.shape"
   ]
  },
  {
   "cell_type": "code",
   "execution_count": null,
   "metadata": {},
   "outputs": [],
   "source": [
    "%%time\n",
    "unique = pd.DataFrame(columns = df.columns)\n",
    "ctr = 0\n",
    "for name in df['pl_name'].unique():\n",
    "    copies = df[df['pl_name']==name]\n",
    "    try:\n",
    "        unique=unique.append(copies[copies['pl_radeerr1'] == copies['pl_radeerr1'].min()].iloc[0])\n",
    "    except:\n",
    "        ctr += 1"
   ]
  },
  {
   "cell_type": "code",
   "execution_count": 159,
   "metadata": {},
   "outputs": [],
   "source": [
    "detection_flags = df.columns[[\"flag\" in col for col in df.columns]]"
   ]
  },
  {
   "cell_type": "code",
   "execution_count": 160,
   "metadata": {},
   "outputs": [
    {
     "data": {
      "text/html": [
       "<div>\n",
       "<style scoped>\n",
       "    .dataframe tbody tr th:only-of-type {\n",
       "        vertical-align: middle;\n",
       "    }\n",
       "\n",
       "    .dataframe tbody tr th {\n",
       "        vertical-align: top;\n",
       "    }\n",
       "\n",
       "    .dataframe thead th {\n",
       "        text-align: right;\n",
       "    }\n",
       "</style>\n",
       "<table border=\"1\" class=\"dataframe\">\n",
       "  <thead>\n",
       "    <tr style=\"text-align: right;\">\n",
       "      <th></th>\n",
       "      <th>default_flag</th>\n",
       "      <th>rv_flag</th>\n",
       "      <th>pul_flag</th>\n",
       "      <th>ptv_flag</th>\n",
       "      <th>tran_flag</th>\n",
       "      <th>ast_flag</th>\n",
       "      <th>obm_flag</th>\n",
       "      <th>micro_flag</th>\n",
       "      <th>etv_flag</th>\n",
       "      <th>ima_flag</th>\n",
       "      <th>dkin_flag</th>\n",
       "      <th>pl_controv_flag</th>\n",
       "      <th>ttv_flag</th>\n",
       "    </tr>\n",
       "  </thead>\n",
       "  <tbody>\n",
       "    <tr>\n",
       "      <th>1094</th>\n",
       "      <td>0</td>\n",
       "      <td>1</td>\n",
       "      <td>0</td>\n",
       "      <td>0</td>\n",
       "      <td>0</td>\n",
       "      <td>0</td>\n",
       "      <td>0</td>\n",
       "      <td>0</td>\n",
       "      <td>0</td>\n",
       "      <td>0</td>\n",
       "      <td>0</td>\n",
       "      <td>0</td>\n",
       "      <td>0</td>\n",
       "    </tr>\n",
       "    <tr>\n",
       "      <th>1684</th>\n",
       "      <td>1</td>\n",
       "      <td>1</td>\n",
       "      <td>0</td>\n",
       "      <td>0</td>\n",
       "      <td>0</td>\n",
       "      <td>0</td>\n",
       "      <td>0</td>\n",
       "      <td>0</td>\n",
       "      <td>0</td>\n",
       "      <td>0</td>\n",
       "      <td>0</td>\n",
       "      <td>0</td>\n",
       "      <td>0</td>\n",
       "    </tr>\n",
       "    <tr>\n",
       "      <th>1686</th>\n",
       "      <td>1</td>\n",
       "      <td>1</td>\n",
       "      <td>0</td>\n",
       "      <td>0</td>\n",
       "      <td>0</td>\n",
       "      <td>0</td>\n",
       "      <td>0</td>\n",
       "      <td>0</td>\n",
       "      <td>0</td>\n",
       "      <td>0</td>\n",
       "      <td>0</td>\n",
       "      <td>1</td>\n",
       "      <td>0</td>\n",
       "    </tr>\n",
       "    <tr>\n",
       "      <th>2004</th>\n",
       "      <td>0</td>\n",
       "      <td>1</td>\n",
       "      <td>0</td>\n",
       "      <td>0</td>\n",
       "      <td>0</td>\n",
       "      <td>0</td>\n",
       "      <td>0</td>\n",
       "      <td>0</td>\n",
       "      <td>0</td>\n",
       "      <td>0</td>\n",
       "      <td>0</td>\n",
       "      <td>0</td>\n",
       "      <td>0</td>\n",
       "    </tr>\n",
       "  </tbody>\n",
       "</table>\n",
       "</div>"
      ],
      "text/plain": [
       "      default_flag  rv_flag  pul_flag  ptv_flag  tran_flag  ast_flag  \\\n",
       "1094             0        1         0         0          0         0   \n",
       "1684             1        1         0         0          0         0   \n",
       "1686             1        1         0         0          0         0   \n",
       "2004             0        1         0         0          0         0   \n",
       "\n",
       "      obm_flag  micro_flag  etv_flag  ima_flag  dkin_flag  pl_controv_flag  \\\n",
       "1094         0           0         0         0          0                0   \n",
       "1684         0           0         0         0          0                0   \n",
       "1686         0           0         0         0          0                1   \n",
       "2004         0           0         0         0          0                0   \n",
       "\n",
       "      ttv_flag  \n",
       "1094         0  \n",
       "1684         0  \n",
       "1686         0  \n",
       "2004         0  "
      ]
     },
     "execution_count": 160,
     "metadata": {},
     "output_type": "execute_result"
    }
   ],
   "source": [
    "test = rv[(rv['tran_flag']==False)&(rv['ima_flag']==False)]\n",
    "test[~test['pl_rade'].isnull()][detection_flags]"
   ]
  },
  {
   "cell_type": "code",
   "execution_count": 100,
   "metadata": {},
   "outputs": [
    {
     "data": {
      "text/plain": [
       "4141"
      ]
     },
     "execution_count": 100,
     "metadata": {},
     "output_type": "execute_result"
    }
   ],
   "source": [
    "Nplanets = len(df['pl_name'].unique())\n",
    "Nplanets"
   ]
  },
  {
   "cell_type": "code",
   "execution_count": 133,
   "metadata": {},
   "outputs": [
    {
     "name": "stdout",
     "output_type": "stream",
     "text": [
      "CPU times: user 2min 21s, sys: 2.35 s, total: 2min 24s\n",
      "Wall time: 1min 50s\n"
     ]
    }
   ],
   "source": [
    "%%time\n",
    "unique = pd.DataFrame(columns = df.columns)\n",
    "ctr = 0\n",
    "for name in df['pl_name'].unique():\n",
    "    copies = df[df['pl_name']==name]\n",
    "    try:\n",
    "        unique=unique.append(copies[copies['pl_radeerr1'] == copies['pl_radeerr1'].min()].iloc[0])\n",
    "    except:\n",
    "        ctr += 1"
   ]
  },
  {
   "cell_type": "code",
   "execution_count": 134,
   "metadata": {},
   "outputs": [
    {
     "data": {
      "text/plain": [
       "(3195, 296)"
      ]
     },
     "execution_count": 134,
     "metadata": {},
     "output_type": "execute_result"
    }
   ],
   "source": [
    "unique.shape"
   ]
  },
  {
   "cell_type": "code",
   "execution_count": 101,
   "metadata": {},
   "outputs": [
    {
     "data": {
      "text/plain": [
       "1166"
      ]
     },
     "execution_count": 101,
     "metadata": {},
     "output_type": "execute_result"
    }
   ],
   "source": [
    "ecc = df[(df['pl_orbeccen'] > 0) & (~df['pl_orbeccenerr1'].isnull()) & (~df['pl_orbeccenerr2'].isnull())]\n",
    "len(ecc['pl_name'].unique())"
   ]
  },
  {
   "cell_type": "code",
   "execution_count": 119,
   "metadata": {},
   "outputs": [],
   "source": [
    "eccunique = pd.DataFrame(columns = df.columns)\n",
    "\n",
    "for name in ecc['pl_name'].unique():\n",
    "    copies = ecc[ecc['pl_name']==name]\n",
    "    eccunique=eccunique.append(copies[copies['pl_orbeccenerr1'] == copies['pl_orbeccenerr1'].min()].iloc[0])"
   ]
  },
  {
   "cell_type": "code",
   "execution_count": 120,
   "metadata": {},
   "outputs": [
    {
     "data": {
      "text/plain": [
       "(1166, 296)"
      ]
     },
     "execution_count": 120,
     "metadata": {},
     "output_type": "execute_result"
    }
   ],
   "source": [
    "eccunique.shape"
   ]
  },
  {
   "cell_type": "code",
   "execution_count": 122,
   "metadata": {},
   "outputs": [
    {
     "data": {
      "text/plain": [
       "<matplotlib.axes._subplots.AxesSubplot at 0x7f812803eb70>"
      ]
     },
     "execution_count": 122,
     "metadata": {},
     "output_type": "execute_result"
    },
    {
     "data": {
      "image/png": "[encoded data removed]",
      "text/plain": [
       "<Figure size 432x288 with 1 Axes>"
      ]
     },
     "metadata": {
      "needs_background": "light"
     },
     "output_type": "display_data"
    }
   ],
   "source": [
    "eccunique['sy_pnum'].hist(bins=30)"
   ]
  },
  {
   "cell_type": "code",
   "execution_count": 123,
   "metadata": {},
   "outputs": [
    {
     "data": {
      "text/plain": [
       "<matplotlib.axes._subplots.AxesSubplot at 0x7f8180e585c0>"
      ]
     },
     "execution_count": 123,
     "metadata": {},
     "output_type": "execute_result"
    },
    {
     "data": {
      "image/png": "[encoded data removed]",
      "text/plain": [
       "<Figure size 432x288 with 1 Axes>"
      ]
     },
     "metadata": {
      "needs_background": "light"
     },
     "output_type": "display_data"
    }
   ],
   "source": [
    "eccunique['pl_rade'].hist(bins=30)"
   ]
  },
  {
   "cell_type": "code",
   "execution_count": 124,
   "metadata": {},
   "outputs": [],
   "source": [
    "small =  eccunique[eccunique['pl_rade'] <4]"
   ]
  },
  {
   "cell_type": "code",
   "execution_count": 126,
   "metadata": {},
   "outputs": [
    {
     "data": {
      "text/plain": [
       "<matplotlib.axes._subplots.AxesSubplot at 0x7f81b12cd710>"
      ]
     },
     "execution_count": 126,
     "metadata": {},
     "output_type": "execute_result"
    },
    {
     "data": {
      "image/png": "[encoded data removed]",
      "text/plain": [
       "<Figure size 432x288 with 1 Axes>"
      ]
     },
     "metadata": {
      "needs_background": "light"
     },
     "output_type": "display_data"
    }
   ],
   "source": [
    "small['pl_orbeccen'].hist(bins=20)"
   ]
  },
  {
   "cell_type": "code",
   "execution_count": 131,
   "metadata": {},
   "outputs": [],
   "source": [
    "two = eccunique[eccunique['sy_pnum'] > 1]\n",
    "three = eccunique[eccunique['sy_pnum'] > 2]"
   ]
  },
  {
   "cell_type": "code",
   "execution_count": 129,
   "metadata": {},
   "outputs": [
    {
     "data": {
      "text/plain": [
       "<matplotlib.axes._subplots.AxesSubplot at 0x7f8141c803c8>"
      ]
     },
     "execution_count": 129,
     "metadata": {},
     "output_type": "execute_result"
    },
    {
     "data": {
      "image/png": "[encoded data removed]",
      "text/plain": [
       "<Figure size 432x288 with 1 Axes>"
      ]
     },
     "metadata": {
      "needs_background": "light"
     },
     "output_type": "display_data"
    }
   ],
   "source": [
    "two['pl_rade'].hist(bins=30)"
   ]
  },
  {
   "cell_type": "code",
   "execution_count": 132,
   "metadata": {},
   "outputs": [
    {
     "data": {
      "text/plain": [
       "<matplotlib.axes._subplots.AxesSubplot at 0x7f81280f5fd0>"
      ]
     },
     "execution_count": 132,
     "metadata": {},
     "output_type": "execute_result"
    },
    {
     "data": {
      "image/png": "[encoded data removed]",
      "text/plain": [
       "<Figure size 432x288 with 1 Axes>"
      ]
     },
     "metadata": {
      "needs_background": "light"
     },
     "output_type": "display_data"
    }
   ],
   "source": [
    "three['pl_rade'].hist(bins=30)"
   ]
  },
  {
   "cell_type": "code",
   "execution_count": 88,
   "metadata": {},
   "outputs": [
    {
     "data": {
      "text/html": [
       "<div>\n",
       "<style scoped>\n",
       "    .dataframe tbody tr th:only-of-type {\n",
       "        vertical-align: middle;\n",
       "    }\n",
       "\n",
       "    .dataframe tbody tr th {\n",
       "        vertical-align: top;\n",
       "    }\n",
       "\n",
       "    .dataframe thead th {\n",
       "        text-align: right;\n",
       "    }\n",
       "</style>\n",
       "<table border=\"1\" class=\"dataframe\">\n",
       "  <thead>\n",
       "    <tr style=\"text-align: right;\">\n",
       "      <th></th>\n",
       "      <th>pl_orbeccen</th>\n",
       "      <th>pl_orbeccenerr1</th>\n",
       "      <th>pl_orbeccenerr2</th>\n",
       "      <th>pl_refname</th>\n",
       "    </tr>\n",
       "  </thead>\n",
       "  <tbody>\n",
       "    <tr>\n",
       "      <th>441</th>\n",
       "      <td>NaN</td>\n",
       "      <td>NaN</td>\n",
       "      <td>NaN</td>\n",
       "      <td>&lt;a refstr=TORRES_ET_AL__2008 href=https://ui.a...</td>\n",
       "    </tr>\n",
       "    <tr>\n",
       "      <th>442</th>\n",
       "      <td>0.16160</td>\n",
       "      <td>0.00410</td>\n",
       "      <td>-0.00320</td>\n",
       "      <td>&lt;a refstr=LANOTTE_ET_AL__2014 href=https://ui....</td>\n",
       "    </tr>\n",
       "    <tr>\n",
       "      <th>443</th>\n",
       "      <td>0.15000</td>\n",
       "      <td>0.01200</td>\n",
       "      <td>-0.01200</td>\n",
       "      <td>&lt;a refstr=TURNER_ET_AL__2016 href=https://ui.a...</td>\n",
       "    </tr>\n",
       "    <tr>\n",
       "      <th>444</th>\n",
       "      <td>NaN</td>\n",
       "      <td>NaN</td>\n",
       "      <td>NaN</td>\n",
       "      <td>&lt;a refstr=CACERES_ET_AL__2009 href=https://ui....</td>\n",
       "    </tr>\n",
       "    <tr>\n",
       "      <th>445</th>\n",
       "      <td>NaN</td>\n",
       "      <td>NaN</td>\n",
       "      <td>NaN</td>\n",
       "      <td>&lt;a refstr=SOUTHWORTH_2010 href=https://ui.adsa...</td>\n",
       "    </tr>\n",
       "    <tr>\n",
       "      <th>446</th>\n",
       "      <td>0.14950</td>\n",
       "      <td>0.01600</td>\n",
       "      <td>-0.00970</td>\n",
       "      <td>&lt;a refstr=KNUTSON_ET_AL__2014 href=https://ui....</td>\n",
       "    </tr>\n",
       "    <tr>\n",
       "      <th>447</th>\n",
       "      <td>0.13827</td>\n",
       "      <td>0.00018</td>\n",
       "      <td>-0.00018</td>\n",
       "      <td>&lt;a refstr=MACIEJEWSKI_ET_AL__2014 href=https:/...</td>\n",
       "    </tr>\n",
       "    <tr>\n",
       "      <th>448</th>\n",
       "      <td>NaN</td>\n",
       "      <td>NaN</td>\n",
       "      <td>NaN</td>\n",
       "      <td>&lt;a refstr=SHPORER_ET_AL__2009 href=https://ui....</td>\n",
       "    </tr>\n",
       "    <tr>\n",
       "      <th>449</th>\n",
       "      <td>NaN</td>\n",
       "      <td>NaN</td>\n",
       "      <td>NaN</td>\n",
       "      <td>&lt;a refstr=BALUEV_ET_AL__2015 href=https://ui.a...</td>\n",
       "    </tr>\n",
       "    <tr>\n",
       "      <th>450</th>\n",
       "      <td>NaN</td>\n",
       "      <td>NaN</td>\n",
       "      <td>NaN</td>\n",
       "      <td>&lt;a refstr=PONT_ET_AL__2009 href=https://ui.ads...</td>\n",
       "    </tr>\n",
       "    <tr>\n",
       "      <th>451</th>\n",
       "      <td>NaN</td>\n",
       "      <td>NaN</td>\n",
       "      <td>NaN</td>\n",
       "      <td>&lt;a refstr=KNUTSON_ET_AL__2011 href=https://ui....</td>\n",
       "    </tr>\n",
       "    <tr>\n",
       "      <th>452</th>\n",
       "      <td>0.20000</td>\n",
       "      <td>NaN</td>\n",
       "      <td>NaN</td>\n",
       "      <td>&lt;a refstr=SALZ_ET_AL__2015 href=https://ui.ads...</td>\n",
       "    </tr>\n",
       "    <tr>\n",
       "      <th>453</th>\n",
       "      <td>0.14500</td>\n",
       "      <td>0.05200</td>\n",
       "      <td>-0.05200</td>\n",
       "      <td>&lt;a refstr=WRIGHT_ET_AL__2007 href=https://ui.a...</td>\n",
       "    </tr>\n",
       "    <tr>\n",
       "      <th>454</th>\n",
       "      <td>0.16000</td>\n",
       "      <td>0.01900</td>\n",
       "      <td>-0.01900</td>\n",
       "      <td>&lt;a refstr=MANESS_ET_AL__2007 href=https://ui.a...</td>\n",
       "    </tr>\n",
       "    <tr>\n",
       "      <th>455</th>\n",
       "      <td>0.12000</td>\n",
       "      <td>0.06000</td>\n",
       "      <td>-0.06000</td>\n",
       "      <td>&lt;a refstr=BUTLER_ET_AL__2004 href=https://ui.a...</td>\n",
       "    </tr>\n",
       "    <tr>\n",
       "      <th>456</th>\n",
       "      <td>0.20700</td>\n",
       "      <td>0.05200</td>\n",
       "      <td>-0.05200</td>\n",
       "      <td>&lt;a refstr=BUTLER_ET_AL__2006 href=https://ui.a...</td>\n",
       "    </tr>\n",
       "    <tr>\n",
       "      <th>457</th>\n",
       "      <td>0.15200</td>\n",
       "      <td>0.00900</td>\n",
       "      <td>-0.00800</td>\n",
       "      <td>&lt;a refstr=TRIFONOV_ET_AL__2017 href=https://ui...</td>\n",
       "    </tr>\n",
       "    <tr>\n",
       "      <th>458</th>\n",
       "      <td>0.16160</td>\n",
       "      <td>0.00400</td>\n",
       "      <td>-0.00400</td>\n",
       "      <td>&lt;a refstr=BOURRIER_ET_AL__2018 href=https://ui...</td>\n",
       "    </tr>\n",
       "  </tbody>\n",
       "</table>\n",
       "</div>"
      ],
      "text/plain": [
       "     pl_orbeccen  pl_orbeccenerr1  pl_orbeccenerr2  \\\n",
       "441          NaN              NaN              NaN   \n",
       "442      0.16160          0.00410         -0.00320   \n",
       "443      0.15000          0.01200         -0.01200   \n",
       "444          NaN              NaN              NaN   \n",
       "445          NaN              NaN              NaN   \n",
       "446      0.14950          0.01600         -0.00970   \n",
       "447      0.13827          0.00018         -0.00018   \n",
       "448          NaN              NaN              NaN   \n",
       "449          NaN              NaN              NaN   \n",
       "450          NaN              NaN              NaN   \n",
       "451          NaN              NaN              NaN   \n",
       "452      0.20000              NaN              NaN   \n",
       "453      0.14500          0.05200         -0.05200   \n",
       "454      0.16000          0.01900         -0.01900   \n",
       "455      0.12000          0.06000         -0.06000   \n",
       "456      0.20700          0.05200         -0.05200   \n",
       "457      0.15200          0.00900         -0.00800   \n",
       "458      0.16160          0.00400         -0.00400   \n",
       "\n",
       "                                            pl_refname  \n",
       "441  <a refstr=TORRES_ET_AL__2008 href=https://ui.a...  \n",
       "442  <a refstr=LANOTTE_ET_AL__2014 href=https://ui....  \n",
       "443  <a refstr=TURNER_ET_AL__2016 href=https://ui.a...  \n",
       "444  <a refstr=CACERES_ET_AL__2009 href=https://ui....  \n",
       "445  <a refstr=SOUTHWORTH_2010 href=https://ui.adsa...  \n",
       "446  <a refstr=KNUTSON_ET_AL__2014 href=https://ui....  \n",
       "447  <a refstr=MACIEJEWSKI_ET_AL__2014 href=https:/...  \n",
       "448  <a refstr=SHPORER_ET_AL__2009 href=https://ui....  \n",
       "449  <a refstr=BALUEV_ET_AL__2015 href=https://ui.a...  \n",
       "450  <a refstr=PONT_ET_AL__2009 href=https://ui.ads...  \n",
       "451  <a refstr=KNUTSON_ET_AL__2011 href=https://ui....  \n",
       "452  <a refstr=SALZ_ET_AL__2015 href=https://ui.ads...  \n",
       "453  <a refstr=WRIGHT_ET_AL__2007 href=https://ui.a...  \n",
       "454  <a refstr=MANESS_ET_AL__2007 href=https://ui.a...  \n",
       "455  <a refstr=BUTLER_ET_AL__2004 href=https://ui.a...  \n",
       "456  <a refstr=BUTLER_ET_AL__2006 href=https://ui.a...  \n",
       "457  <a refstr=TRIFONOV_ET_AL__2017 href=https://ui...  \n",
       "458  <a refstr=BOURRIER_ET_AL__2018 href=https://ui...  "
      ]
     },
     "execution_count": 88,
     "metadata": {},
     "output_type": "execute_result"
    }
   ],
   "source": [
    "df[df['pl_name']=='GJ 436 b'][['pl_orbeccen', 'pl_orbeccenerr1','pl_orbeccenerr2', 'pl_refname']]"
   ]
  },
  {
   "cell_type": "code",
   "execution_count": 94,
   "metadata": {},
   "outputs": [
    {
     "data": {
      "text/html": [
       "<div>\n",
       "<style scoped>\n",
       "    .dataframe tbody tr th:only-of-type {\n",
       "        vertical-align: middle;\n",
       "    }\n",
       "\n",
       "    .dataframe tbody tr th {\n",
       "        vertical-align: top;\n",
       "    }\n",
       "\n",
       "    .dataframe thead th {\n",
       "        text-align: right;\n",
       "    }\n",
       "</style>\n",
       "<table border=\"1\" class=\"dataframe\">\n",
       "  <thead>\n",
       "    <tr style=\"text-align: right;\">\n",
       "      <th></th>\n",
       "      <th>pl_orbeccen</th>\n",
       "      <th>pl_orbeccenerr1</th>\n",
       "      <th>pl_orbeccenerr2</th>\n",
       "      <th>pl_refname</th>\n",
       "    </tr>\n",
       "  </thead>\n",
       "  <tbody>\n",
       "    <tr>\n",
       "      <th>22633</th>\n",
       "      <td>NaN</td>\n",
       "      <td>NaN</td>\n",
       "      <td>NaN</td>\n",
       "      <td>&lt;a refstr=HOLCZER_ET_AL__2016 href=https://ui....</td>\n",
       "    </tr>\n",
       "    <tr>\n",
       "      <th>22634</th>\n",
       "      <td>NaN</td>\n",
       "      <td>NaN</td>\n",
       "      <td>NaN</td>\n",
       "      <td>&lt;a refstr=XIE_2013 href=https://ui.adsabs.harv...</td>\n",
       "    </tr>\n",
       "    <tr>\n",
       "      <th>22635</th>\n",
       "      <td>0.000</td>\n",
       "      <td>NaN</td>\n",
       "      <td>NaN</td>\n",
       "      <td>&lt;a refstr=Q1_Q17_DR24_KOI_TABLE href=https://e...</td>\n",
       "    </tr>\n",
       "    <tr>\n",
       "      <th>22636</th>\n",
       "      <td>NaN</td>\n",
       "      <td>NaN</td>\n",
       "      <td>NaN</td>\n",
       "      <td>&lt;a refstr=BERGER_ET_AL__2018 href=https://ui.a...</td>\n",
       "    </tr>\n",
       "    <tr>\n",
       "      <th>22637</th>\n",
       "      <td>0.000</td>\n",
       "      <td>NaN</td>\n",
       "      <td>NaN</td>\n",
       "      <td>&lt;a refstr=Q1_Q8_KOI_TABLE href=https://exoplan...</td>\n",
       "    </tr>\n",
       "    <tr>\n",
       "      <th>22638</th>\n",
       "      <td>0.000</td>\n",
       "      <td>NaN</td>\n",
       "      <td>NaN</td>\n",
       "      <td>&lt;a refstr=Q1_Q16_KOI_TABLE href=https://exopla...</td>\n",
       "    </tr>\n",
       "    <tr>\n",
       "      <th>22639</th>\n",
       "      <td>0.000</td>\n",
       "      <td>NaN</td>\n",
       "      <td>NaN</td>\n",
       "      <td>&lt;a refstr=Q1_Q17_DR25_KOI_TABLE href=https://e...</td>\n",
       "    </tr>\n",
       "    <tr>\n",
       "      <th>22640</th>\n",
       "      <td>NaN</td>\n",
       "      <td>NaN</td>\n",
       "      <td>NaN</td>\n",
       "      <td>&lt;a refstr=MORTON_ET_AL__2016 href=https://ui.a...</td>\n",
       "    </tr>\n",
       "    <tr>\n",
       "      <th>22641</th>\n",
       "      <td>NaN</td>\n",
       "      <td>NaN</td>\n",
       "      <td>NaN</td>\n",
       "      <td>&lt;a refstr=HADDEN_ET_AL__2014 href=https://ui.a...</td>\n",
       "    </tr>\n",
       "    <tr>\n",
       "      <th>22642</th>\n",
       "      <td>0.015</td>\n",
       "      <td>0.012</td>\n",
       "      <td>-0.006</td>\n",
       "      <td>&lt;a refstr=JONTOF_HUTTER_ET_AL__2014 href=https...</td>\n",
       "    </tr>\n",
       "    <tr>\n",
       "      <th>22643</th>\n",
       "      <td>0.000</td>\n",
       "      <td>NaN</td>\n",
       "      <td>NaN</td>\n",
       "      <td>&lt;a refstr=Q1_Q12_KOI_TABLE href=https://exopla...</td>\n",
       "    </tr>\n",
       "  </tbody>\n",
       "</table>\n",
       "</div>"
      ],
      "text/plain": [
       "       pl_orbeccen  pl_orbeccenerr1  pl_orbeccenerr2  \\\n",
       "22633          NaN              NaN              NaN   \n",
       "22634          NaN              NaN              NaN   \n",
       "22635        0.000              NaN              NaN   \n",
       "22636          NaN              NaN              NaN   \n",
       "22637        0.000              NaN              NaN   \n",
       "22638        0.000              NaN              NaN   \n",
       "22639        0.000              NaN              NaN   \n",
       "22640          NaN              NaN              NaN   \n",
       "22641          NaN              NaN              NaN   \n",
       "22642        0.015            0.012           -0.006   \n",
       "22643        0.000              NaN              NaN   \n",
       "\n",
       "                                              pl_refname  \n",
       "22633  <a refstr=HOLCZER_ET_AL__2016 href=https://ui....  \n",
       "22634  <a refstr=XIE_2013 href=https://ui.adsabs.harv...  \n",
       "22635  <a refstr=Q1_Q17_DR24_KOI_TABLE href=https://e...  \n",
       "22636  <a refstr=BERGER_ET_AL__2018 href=https://ui.a...  \n",
       "22637  <a refstr=Q1_Q8_KOI_TABLE href=https://exoplan...  \n",
       "22638  <a refstr=Q1_Q16_KOI_TABLE href=https://exopla...  \n",
       "22639  <a refstr=Q1_Q17_DR25_KOI_TABLE href=https://e...  \n",
       "22640  <a refstr=MORTON_ET_AL__2016 href=https://ui.a...  \n",
       "22641  <a refstr=HADDEN_ET_AL__2014 href=https://ui.a...  \n",
       "22642  <a refstr=JONTOF_HUTTER_ET_AL__2014 href=https...  \n",
       "22643  <a refstr=Q1_Q12_KOI_TABLE href=https://exopla...  "
      ]
     },
     "execution_count": 94,
     "metadata": {},
     "output_type": "execute_result"
    }
   ],
   "source": [
    "df[df['pl_name']=='Kepler-79 b'][['pl_orbeccen', 'pl_orbeccenerr1','pl_orbeccenerr2', 'pl_refname']]"
   ]
  },
  {
   "cell_type": "code",
   "execution_count": 4,
   "metadata": {},
   "outputs": [
    {
     "data": {
      "text/plain": [
       "4141"
      ]
     },
     "execution_count": 4,
     "metadata": {},
     "output_type": "execute_result"
    }
   ],
   "source": [
    "len(df['pl_name'].unique())"
   ]
  },
  {
   "cell_type": "code",
   "execution_count": 74,
   "metadata": {},
   "outputs": [],
   "source": [
    "three =  df[df['sy_pnum'] > 0]"
   ]
  },
  {
   "cell_type": "code",
   "execution_count": 75,
   "metadata": {},
   "outputs": [
    {
     "data": {
      "text/plain": [
       "3078"
      ]
     },
     "execution_count": 75,
     "metadata": {},
     "output_type": "execute_result"
    }
   ],
   "source": [
    "len(three['hostname'].unique())"
   ]
  },
  {
   "cell_type": "code",
   "execution_count": 76,
   "metadata": {},
   "outputs": [
    {
     "data": {
      "text/plain": [
       "4141"
      ]
     },
     "execution_count": 76,
     "metadata": {},
     "output_type": "execute_result"
    }
   ],
   "source": [
    "len(three['pl_name'].unique())"
   ]
  },
  {
   "cell_type": "code",
   "execution_count": 77,
   "metadata": {},
   "outputs": [],
   "source": [
    "ecc = three[three['pl_orbeccen'] > 0]"
   ]
  },
  {
   "cell_type": "code",
   "execution_count": 78,
   "metadata": {},
   "outputs": [],
   "source": [
    "smallecc= ecc[ecc['pl_rade'] < 20]"
   ]
  },
  {
   "cell_type": "code",
   "execution_count": 79,
   "metadata": {},
   "outputs": [
    {
     "data": {
      "text/plain": [
       "<matplotlib.axes._subplots.AxesSubplot at 0x7f81b121a898>"
      ]
     },
     "execution_count": 79,
     "metadata": {},
     "output_type": "execute_result"
    },
    {
     "data": {
      "image/png": "[encoded data removed]",
      "text/plain": [
       "<Figure size 432x288 with 1 Axes>"
      ]
     },
     "metadata": {
      "needs_background": "light"
     },
     "output_type": "display_data"
    }
   ],
   "source": [
    "smallecc['pl_rade'].hist()"
   ]
  },
  {
   "cell_type": "code",
   "execution_count": 69,
   "metadata": {},
   "outputs": [
    {
     "data": {
      "text/plain": [
       "9"
      ]
     },
     "execution_count": 69,
     "metadata": {},
     "output_type": "execute_result"
    }
   ],
   "source": [
    "len(smallecc['pl_refname'].unique())"
   ]
  },
  {
   "cell_type": "code",
   "execution_count": 41,
   "metadata": {},
   "outputs": [
    {
     "data": {
      "text/html": [
       "<div>\n",
       "<style scoped>\n",
       "    .dataframe tbody tr th:only-of-type {\n",
       "        vertical-align: middle;\n",
       "    }\n",
       "\n",
       "    .dataframe tbody tr th {\n",
       "        vertical-align: top;\n",
       "    }\n",
       "\n",
       "    .dataframe thead th {\n",
       "        text-align: right;\n",
       "    }\n",
       "</style>\n",
       "<table border=\"1\" class=\"dataframe\">\n",
       "  <thead>\n",
       "    <tr style=\"text-align: right;\">\n",
       "      <th></th>\n",
       "      <th>hostname</th>\n",
       "      <th>pl_name</th>\n",
       "      <th>pl_refname</th>\n",
       "    </tr>\n",
       "  </thead>\n",
       "  <tbody>\n",
       "    <tr>\n",
       "      <th>79</th>\n",
       "      <td>55 Cnc</td>\n",
       "      <td>55 Cnc e</td>\n",
       "      <td>&lt;a refstr=DEMORY_ET_AL__2011 href=https://ui.a...</td>\n",
       "    </tr>\n",
       "    <tr>\n",
       "      <th>201</th>\n",
       "      <td>CoRoT-22</td>\n",
       "      <td>CoRoT-22 b</td>\n",
       "      <td>&lt;a refstr=MOUTOU_ET_AL__2014 href=https://ui.a...</td>\n",
       "    </tr>\n",
       "    <tr>\n",
       "      <th>290</th>\n",
       "      <td>EPIC 211822797</td>\n",
       "      <td>EPIC 211822797 b</td>\n",
       "      <td>&lt;a refstr=MANN_ET_AL__2017 href=https://ui.ads...</td>\n",
       "    </tr>\n",
       "    <tr>\n",
       "      <th>291</th>\n",
       "      <td>EPIC 211822797</td>\n",
       "      <td>EPIC 211822797 b</td>\n",
       "      <td>&lt;a refstr=DRESSING_ET_AL__2017 href=https://ui...</td>\n",
       "    </tr>\n",
       "    <tr>\n",
       "      <th>313</th>\n",
       "      <td>EPIC 212737443</td>\n",
       "      <td>EPIC 212737443 b</td>\n",
       "      <td>&lt;a refstr=HERATH_ET_AL__2019 href=https://ui.a...</td>\n",
       "    </tr>\n",
       "    <tr>\n",
       "      <th>314</th>\n",
       "      <td>EPIC 212737443</td>\n",
       "      <td>EPIC 212737443 c</td>\n",
       "      <td>&lt;a refstr=HERATH_ET_AL__2019 href=https://ui.a...</td>\n",
       "    </tr>\n",
       "    <tr>\n",
       "      <th>328</th>\n",
       "      <td>EPIC 220674823</td>\n",
       "      <td>EPIC 220674823 c</td>\n",
       "      <td>&lt;a refstr=GUENTHER_ET_AL__2017 href=https://ui...</td>\n",
       "    </tr>\n",
       "    <tr>\n",
       "      <th>336</th>\n",
       "      <td>EPIC 249893012</td>\n",
       "      <td>EPIC 249893012 b</td>\n",
       "      <td>&lt;a refstr=HIDALGO_ET_AL__2020 href=https://ui....</td>\n",
       "    </tr>\n",
       "    <tr>\n",
       "      <th>337</th>\n",
       "      <td>EPIC 249893012</td>\n",
       "      <td>EPIC 249893012 c</td>\n",
       "      <td>&lt;a refstr=HIDALGO_ET_AL__2020 href=https://ui....</td>\n",
       "    </tr>\n",
       "    <tr>\n",
       "      <th>338</th>\n",
       "      <td>EPIC 249893012</td>\n",
       "      <td>EPIC 249893012 d</td>\n",
       "      <td>&lt;a refstr=HIDALGO_ET_AL__2020 href=https://ui....</td>\n",
       "    </tr>\n",
       "    <tr>\n",
       "      <th>359</th>\n",
       "      <td>GJ 1214</td>\n",
       "      <td>GJ 1214 b</td>\n",
       "      <td>&lt;a refstr=CHARBONNEAU_ET_AL__2009 href=https:/...</td>\n",
       "    </tr>\n",
       "    <tr>\n",
       "      <th>373</th>\n",
       "      <td>GJ 143</td>\n",
       "      <td>GJ 143 b</td>\n",
       "      <td>&lt;a refstr=DRAGOMIR_ET_AL__2018 href=https://ui...</td>\n",
       "    </tr>\n",
       "    <tr>\n",
       "      <th>415</th>\n",
       "      <td>GJ 3470</td>\n",
       "      <td>GJ 3470 b</td>\n",
       "      <td>&lt;a refstr=BIDDLE_ET_AL__2014 href=https://ui.a...</td>\n",
       "    </tr>\n",
       "    <tr>\n",
       "      <th>416</th>\n",
       "      <td>GJ 3470</td>\n",
       "      <td>GJ 3470 b</td>\n",
       "      <td>&lt;a refstr=BONFILS_ET_AL__2012 href=https://ui....</td>\n",
       "    </tr>\n",
       "    <tr>\n",
       "      <th>442</th>\n",
       "      <td>GJ 436</td>\n",
       "      <td>GJ 436 b</td>\n",
       "      <td>&lt;a refstr=LANOTTE_ET_AL__2014 href=https://ui....</td>\n",
       "    </tr>\n",
       "    <tr>\n",
       "      <th>443</th>\n",
       "      <td>GJ 436</td>\n",
       "      <td>GJ 436 b</td>\n",
       "      <td>&lt;a refstr=TURNER_ET_AL__2016 href=https://ui.a...</td>\n",
       "    </tr>\n",
       "    <tr>\n",
       "      <th>447</th>\n",
       "      <td>GJ 436</td>\n",
       "      <td>GJ 436 b</td>\n",
       "      <td>&lt;a refstr=MACIEJEWSKI_ET_AL__2014 href=https:/...</td>\n",
       "    </tr>\n",
       "    <tr>\n",
       "      <th>452</th>\n",
       "      <td>GJ 436</td>\n",
       "      <td>GJ 436 b</td>\n",
       "      <td>&lt;a refstr=SALZ_ET_AL__2015 href=https://ui.ads...</td>\n",
       "    </tr>\n",
       "    <tr>\n",
       "      <th>569</th>\n",
       "      <td>HAT-P-11</td>\n",
       "      <td>HAT-P-11 b</td>\n",
       "      <td>&lt;a refstr=STASSUN_ET_AL__2017 href=https://ui....</td>\n",
       "    </tr>\n",
       "    <tr>\n",
       "      <th>571</th>\n",
       "      <td>HAT-P-11</td>\n",
       "      <td>HAT-P-11 b</td>\n",
       "      <td>&lt;a refstr=YEE_ET_AL__2018 href=https://ui.adsa...</td>\n",
       "    </tr>\n",
       "    <tr>\n",
       "      <th>582</th>\n",
       "      <td>HAT-P-11</td>\n",
       "      <td>HAT-P-11 b</td>\n",
       "      <td>&lt;a refstr=BAKOS_ET_AL__2010 href=https://ui.ad...</td>\n",
       "    </tr>\n",
       "    <tr>\n",
       "      <th>1023</th>\n",
       "      <td>HD 106315</td>\n",
       "      <td>HD 106315 b</td>\n",
       "      <td>&lt;a refstr=RODRIGUEZ_ET_AL__2017 href=https://u...</td>\n",
       "    </tr>\n",
       "    <tr>\n",
       "      <th>1025</th>\n",
       "      <td>HD 106315</td>\n",
       "      <td>HD 106315 b</td>\n",
       "      <td>&lt;a refstr=BARROS_ET_AL__2017 href=https://ui.a...</td>\n",
       "    </tr>\n",
       "    <tr>\n",
       "      <th>1028</th>\n",
       "      <td>HD 106315</td>\n",
       "      <td>HD 106315 c</td>\n",
       "      <td>&lt;a refstr=BARROS_ET_AL__2017 href=https://ui.a...</td>\n",
       "    </tr>\n",
       "    <tr>\n",
       "      <th>1032</th>\n",
       "      <td>HD 106315</td>\n",
       "      <td>HD 106315 c</td>\n",
       "      <td>&lt;a refstr=RODRIGUEZ_ET_AL__2017 href=https://u...</td>\n",
       "    </tr>\n",
       "    <tr>\n",
       "      <th>1123</th>\n",
       "      <td>HD 119130</td>\n",
       "      <td>HD 119130 b</td>\n",
       "      <td>&lt;a refstr=LUQUE_ET_AL__2018 href=https://ui.ad...</td>\n",
       "    </tr>\n",
       "    <tr>\n",
       "      <th>1286</th>\n",
       "      <td>HD 15337</td>\n",
       "      <td>HD 15337 b</td>\n",
       "      <td>&lt;a refstr=GANDOLFI_ET_AL__2019 href=https://ui...</td>\n",
       "    </tr>\n",
       "    <tr>\n",
       "      <th>1287</th>\n",
       "      <td>HD 15337</td>\n",
       "      <td>HD 15337 b</td>\n",
       "      <td>&lt;a refstr=DUMUSQUE_ET_AL__2019 href=https://ui...</td>\n",
       "    </tr>\n",
       "    <tr>\n",
       "      <th>1289</th>\n",
       "      <td>HD 15337</td>\n",
       "      <td>HD 15337 c</td>\n",
       "      <td>&lt;a refstr=GANDOLFI_ET_AL__2019 href=https://ui...</td>\n",
       "    </tr>\n",
       "    <tr>\n",
       "      <th>1290</th>\n",
       "      <td>HD 15337</td>\n",
       "      <td>HD 15337 c</td>\n",
       "      <td>&lt;a refstr=DUMUSQUE_ET_AL__2019 href=https://ui...</td>\n",
       "    </tr>\n",
       "    <tr>\n",
       "      <th>...</th>\n",
       "      <td>...</td>\n",
       "      <td>...</td>\n",
       "      <td>...</td>\n",
       "    </tr>\n",
       "    <tr>\n",
       "      <th>22642</th>\n",
       "      <td>Kepler-79</td>\n",
       "      <td>Kepler-79 b</td>\n",
       "      <td>&lt;a refstr=JONTOF_HUTTER_ET_AL__2014 href=https...</td>\n",
       "    </tr>\n",
       "    <tr>\n",
       "      <th>22650</th>\n",
       "      <td>Kepler-79</td>\n",
       "      <td>Kepler-79 c</td>\n",
       "      <td>&lt;a refstr=JONTOF_HUTTER_ET_AL__2014 href=https...</td>\n",
       "    </tr>\n",
       "    <tr>\n",
       "      <th>22675</th>\n",
       "      <td>Kepler-79</td>\n",
       "      <td>Kepler-79 e</td>\n",
       "      <td>&lt;a refstr=JONTOF_HUTTER_ET_AL__2014 href=https...</td>\n",
       "    </tr>\n",
       "    <tr>\n",
       "      <th>23059</th>\n",
       "      <td>Kepler-82</td>\n",
       "      <td>Kepler-82 b</td>\n",
       "      <td>&lt;a refstr=FREUDENTHAL_ET_AL__2019 href=https:/...</td>\n",
       "    </tr>\n",
       "    <tr>\n",
       "      <th>24170</th>\n",
       "      <td>Kepler-92</td>\n",
       "      <td>Kepler-92 b</td>\n",
       "      <td>&lt;a refstr=VAN_EYLEN___ALBRECHT_2015 href=https...</td>\n",
       "    </tr>\n",
       "    <tr>\n",
       "      <th>24182</th>\n",
       "      <td>Kepler-92</td>\n",
       "      <td>Kepler-92 c</td>\n",
       "      <td>&lt;a refstr=VAN_EYLEN___ALBRECHT_2015 href=https...</td>\n",
       "    </tr>\n",
       "    <tr>\n",
       "      <th>24194</th>\n",
       "      <td>Kepler-92</td>\n",
       "      <td>Kepler-92 d</td>\n",
       "      <td>&lt;a refstr=VAN_EYLEN___ALBRECHT_2015 href=https...</td>\n",
       "    </tr>\n",
       "    <tr>\n",
       "      <th>25015</th>\n",
       "      <td>L 168-9</td>\n",
       "      <td>L 168-9 b</td>\n",
       "      <td>&lt;a refstr=ASTUDILLO_DEFRU_ET_AL__2020 href=htt...</td>\n",
       "    </tr>\n",
       "    <tr>\n",
       "      <th>25017</th>\n",
       "      <td>L 98-59</td>\n",
       "      <td>L 98-59 b</td>\n",
       "      <td>&lt;a refstr=KOSTOV_ET_AL__2019 href=https://ui.a...</td>\n",
       "    </tr>\n",
       "    <tr>\n",
       "      <th>25019</th>\n",
       "      <td>L 98-59</td>\n",
       "      <td>L 98-59 c</td>\n",
       "      <td>&lt;a refstr=KOSTOV_ET_AL__2019 href=https://ui.a...</td>\n",
       "    </tr>\n",
       "    <tr>\n",
       "      <th>25022</th>\n",
       "      <td>L 98-59</td>\n",
       "      <td>L 98-59 d</td>\n",
       "      <td>&lt;a refstr=KOSTOV_ET_AL__2019 href=https://ui.a...</td>\n",
       "    </tr>\n",
       "    <tr>\n",
       "      <th>25023</th>\n",
       "      <td>LHS 1140</td>\n",
       "      <td>LHS 1140 b</td>\n",
       "      <td>&lt;a refstr=MENT_ET_AL__2019 href=https://ui.ads...</td>\n",
       "    </tr>\n",
       "    <tr>\n",
       "      <th>25024</th>\n",
       "      <td>LHS 1140</td>\n",
       "      <td>LHS 1140 b</td>\n",
       "      <td>&lt;a refstr=DITTMANN_ET_AL__2017 href=https://ui...</td>\n",
       "    </tr>\n",
       "    <tr>\n",
       "      <th>25025</th>\n",
       "      <td>LHS 1140</td>\n",
       "      <td>LHS 1140 c</td>\n",
       "      <td>&lt;a refstr=MENT_ET_AL__2019 href=https://ui.ads...</td>\n",
       "    </tr>\n",
       "    <tr>\n",
       "      <th>25036</th>\n",
       "      <td>LTT 1445 A</td>\n",
       "      <td>LTT 1445 A b</td>\n",
       "      <td>&lt;a refstr=WINTERS_ET_AL__2019 href=https://ui....</td>\n",
       "    </tr>\n",
       "    <tr>\n",
       "      <th>25435</th>\n",
       "      <td>TOI-125</td>\n",
       "      <td>TOI-125 b</td>\n",
       "      <td>&lt;a refstr=QUINN_ET_AL__2019 href=https://ui.ad...</td>\n",
       "    </tr>\n",
       "    <tr>\n",
       "      <th>25436</th>\n",
       "      <td>TOI-125</td>\n",
       "      <td>TOI-125 b</td>\n",
       "      <td>&lt;a refstr=NIELSEN_ET_AL__2020 href=https://ui....</td>\n",
       "    </tr>\n",
       "    <tr>\n",
       "      <th>25438</th>\n",
       "      <td>TOI-125</td>\n",
       "      <td>TOI-125 c</td>\n",
       "      <td>&lt;a refstr=QUINN_ET_AL__2019 href=https://ui.ad...</td>\n",
       "    </tr>\n",
       "    <tr>\n",
       "      <th>25440</th>\n",
       "      <td>TOI-125</td>\n",
       "      <td>TOI-125 c</td>\n",
       "      <td>&lt;a refstr=NIELSEN_ET_AL__2020 href=https://ui....</td>\n",
       "    </tr>\n",
       "    <tr>\n",
       "      <th>25442</th>\n",
       "      <td>TOI-125</td>\n",
       "      <td>TOI-125 d</td>\n",
       "      <td>&lt;a refstr=NIELSEN_ET_AL__2020 href=https://ui....</td>\n",
       "    </tr>\n",
       "    <tr>\n",
       "      <th>25444</th>\n",
       "      <td>TOI-132</td>\n",
       "      <td>TOI-132 b</td>\n",
       "      <td>&lt;a refstr=D_IACUTE_AZ_ET_AL__2020 href=https:/...</td>\n",
       "    </tr>\n",
       "    <tr>\n",
       "      <th>25466</th>\n",
       "      <td>TRAPPIST-1</td>\n",
       "      <td>TRAPPIST-1 b</td>\n",
       "      <td>&lt;a refstr=GILLON_ET_AL__2017 href=https://ui.a...</td>\n",
       "    </tr>\n",
       "    <tr>\n",
       "      <th>25469</th>\n",
       "      <td>TRAPPIST-1</td>\n",
       "      <td>TRAPPIST-1 c</td>\n",
       "      <td>&lt;a refstr=GILLON_ET_AL__2017 href=https://ui.a...</td>\n",
       "    </tr>\n",
       "    <tr>\n",
       "      <th>25470</th>\n",
       "      <td>TRAPPIST-1</td>\n",
       "      <td>TRAPPIST-1 d</td>\n",
       "      <td>&lt;a refstr=GILLON_ET_AL__2017 href=https://ui.a...</td>\n",
       "    </tr>\n",
       "    <tr>\n",
       "      <th>25471</th>\n",
       "      <td>TRAPPIST-1</td>\n",
       "      <td>TRAPPIST-1 e</td>\n",
       "      <td>&lt;a refstr=GILLON_ET_AL__2017 href=https://ui.a...</td>\n",
       "    </tr>\n",
       "    <tr>\n",
       "      <th>25472</th>\n",
       "      <td>TRAPPIST-1</td>\n",
       "      <td>TRAPPIST-1 f</td>\n",
       "      <td>&lt;a refstr=GILLON_ET_AL__2017 href=https://ui.a...</td>\n",
       "    </tr>\n",
       "    <tr>\n",
       "      <th>25473</th>\n",
       "      <td>TRAPPIST-1</td>\n",
       "      <td>TRAPPIST-1 g</td>\n",
       "      <td>&lt;a refstr=GILLON_ET_AL__2017 href=https://ui.a...</td>\n",
       "    </tr>\n",
       "    <tr>\n",
       "      <th>25917</th>\n",
       "      <td>WASP-47</td>\n",
       "      <td>WASP-47 d</td>\n",
       "      <td>&lt;a refstr=VANDERBURG_ET_AL__2017 href=https://...</td>\n",
       "    </tr>\n",
       "    <tr>\n",
       "      <th>25918</th>\n",
       "      <td>WASP-47</td>\n",
       "      <td>WASP-47 d</td>\n",
       "      <td>&lt;a refstr=ALMENARA_ET_AL__2016 href=https://ui...</td>\n",
       "    </tr>\n",
       "    <tr>\n",
       "      <th>25928</th>\n",
       "      <td>WASP-47</td>\n",
       "      <td>WASP-47 e</td>\n",
       "      <td>&lt;a refstr=ALMENARA_ET_AL__2016 href=https://ui...</td>\n",
       "    </tr>\n",
       "  </tbody>\n",
       "</table>\n",
       "<p>284 rows × 3 columns</p>\n",
       "</div>"
      ],
      "text/plain": [
       "             hostname           pl_name  \\\n",
       "79             55 Cnc          55 Cnc e   \n",
       "201          CoRoT-22        CoRoT-22 b   \n",
       "290    EPIC 211822797  EPIC 211822797 b   \n",
       "291    EPIC 211822797  EPIC 211822797 b   \n",
       "313    EPIC 212737443  EPIC 212737443 b   \n",
       "314    EPIC 212737443  EPIC 212737443 c   \n",
       "328    EPIC 220674823  EPIC 220674823 c   \n",
       "336    EPIC 249893012  EPIC 249893012 b   \n",
       "337    EPIC 249893012  EPIC 249893012 c   \n",
       "338    EPIC 249893012  EPIC 249893012 d   \n",
       "359           GJ 1214         GJ 1214 b   \n",
       "373            GJ 143          GJ 143 b   \n",
       "415           GJ 3470         GJ 3470 b   \n",
       "416           GJ 3470         GJ 3470 b   \n",
       "442            GJ 436          GJ 436 b   \n",
       "443            GJ 436          GJ 436 b   \n",
       "447            GJ 436          GJ 436 b   \n",
       "452            GJ 436          GJ 436 b   \n",
       "569          HAT-P-11        HAT-P-11 b   \n",
       "571          HAT-P-11        HAT-P-11 b   \n",
       "582          HAT-P-11        HAT-P-11 b   \n",
       "1023        HD 106315       HD 106315 b   \n",
       "1025        HD 106315       HD 106315 b   \n",
       "1028        HD 106315       HD 106315 c   \n",
       "1032        HD 106315       HD 106315 c   \n",
       "1123        HD 119130       HD 119130 b   \n",
       "1286         HD 15337        HD 15337 b   \n",
       "1287         HD 15337        HD 15337 b   \n",
       "1289         HD 15337        HD 15337 c   \n",
       "1290         HD 15337        HD 15337 c   \n",
       "...               ...               ...   \n",
       "22642       Kepler-79       Kepler-79 b   \n",
       "22650       Kepler-79       Kepler-79 c   \n",
       "22675       Kepler-79       Kepler-79 e   \n",
       "23059       Kepler-82       Kepler-82 b   \n",
       "24170       Kepler-92       Kepler-92 b   \n",
       "24182       Kepler-92       Kepler-92 c   \n",
       "24194       Kepler-92       Kepler-92 d   \n",
       "25015         L 168-9         L 168-9 b   \n",
       "25017         L 98-59         L 98-59 b   \n",
       "25019         L 98-59         L 98-59 c   \n",
       "25022         L 98-59         L 98-59 d   \n",
       "25023        LHS 1140        LHS 1140 b   \n",
       "25024        LHS 1140        LHS 1140 b   \n",
       "25025        LHS 1140        LHS 1140 c   \n",
       "25036      LTT 1445 A      LTT 1445 A b   \n",
       "25435         TOI-125         TOI-125 b   \n",
       "25436         TOI-125         TOI-125 b   \n",
       "25438         TOI-125         TOI-125 c   \n",
       "25440         TOI-125         TOI-125 c   \n",
       "25442         TOI-125         TOI-125 d   \n",
       "25444         TOI-132         TOI-132 b   \n",
       "25466      TRAPPIST-1      TRAPPIST-1 b   \n",
       "25469      TRAPPIST-1      TRAPPIST-1 c   \n",
       "25470      TRAPPIST-1      TRAPPIST-1 d   \n",
       "25471      TRAPPIST-1      TRAPPIST-1 e   \n",
       "25472      TRAPPIST-1      TRAPPIST-1 f   \n",
       "25473      TRAPPIST-1      TRAPPIST-1 g   \n",
       "25917         WASP-47         WASP-47 d   \n",
       "25918         WASP-47         WASP-47 d   \n",
       "25928         WASP-47         WASP-47 e   \n",
       "\n",
       "                                              pl_refname  \n",
       "79     <a refstr=DEMORY_ET_AL__2011 href=https://ui.a...  \n",
       "201    <a refstr=MOUTOU_ET_AL__2014 href=https://ui.a...  \n",
       "290    <a refstr=MANN_ET_AL__2017 href=https://ui.ads...  \n",
       "291    <a refstr=DRESSING_ET_AL__2017 href=https://ui...  \n",
       "313    <a refstr=HERATH_ET_AL__2019 href=https://ui.a...  \n",
       "314    <a refstr=HERATH_ET_AL__2019 href=https://ui.a...  \n",
       "328    <a refstr=GUENTHER_ET_AL__2017 href=https://ui...  \n",
       "336    <a refstr=HIDALGO_ET_AL__2020 href=https://ui....  \n",
       "337    <a refstr=HIDALGO_ET_AL__2020 href=https://ui....  \n",
       "338    <a refstr=HIDALGO_ET_AL__2020 href=https://ui....  \n",
       "359    <a refstr=CHARBONNEAU_ET_AL__2009 href=https:/...  \n",
       "373    <a refstr=DRAGOMIR_ET_AL__2018 href=https://ui...  \n",
       "415    <a refstr=BIDDLE_ET_AL__2014 href=https://ui.a...  \n",
       "416    <a refstr=BONFILS_ET_AL__2012 href=https://ui....  \n",
       "442    <a refstr=LANOTTE_ET_AL__2014 href=https://ui....  \n",
       "443    <a refstr=TURNER_ET_AL__2016 href=https://ui.a...  \n",
       "447    <a refstr=MACIEJEWSKI_ET_AL__2014 href=https:/...  \n",
       "452    <a refstr=SALZ_ET_AL__2015 href=https://ui.ads...  \n",
       "569    <a refstr=STASSUN_ET_AL__2017 href=https://ui....  \n",
       "571    <a refstr=YEE_ET_AL__2018 href=https://ui.adsa...  \n",
       "582    <a refstr=BAKOS_ET_AL__2010 href=https://ui.ad...  \n",
       "1023   <a refstr=RODRIGUEZ_ET_AL__2017 href=https://u...  \n",
       "1025   <a refstr=BARROS_ET_AL__2017 href=https://ui.a...  \n",
       "1028   <a refstr=BARROS_ET_AL__2017 href=https://ui.a...  \n",
       "1032   <a refstr=RODRIGUEZ_ET_AL__2017 href=https://u...  \n",
       "1123   <a refstr=LUQUE_ET_AL__2018 href=https://ui.ad...  \n",
       "1286   <a refstr=GANDOLFI_ET_AL__2019 href=https://ui...  \n",
       "1287   <a refstr=DUMUSQUE_ET_AL__2019 href=https://ui...  \n",
       "1289   <a refstr=GANDOLFI_ET_AL__2019 href=https://ui...  \n",
       "1290   <a refstr=DUMUSQUE_ET_AL__2019 href=https://ui...  \n",
       "...                                                  ...  \n",
       "22642  <a refstr=JONTOF_HUTTER_ET_AL__2014 href=https...  \n",
       "22650  <a refstr=JONTOF_HUTTER_ET_AL__2014 href=https...  \n",
       "22675  <a refstr=JONTOF_HUTTER_ET_AL__2014 href=https...  \n",
       "23059  <a refstr=FREUDENTHAL_ET_AL__2019 href=https:/...  \n",
       "24170  <a refstr=VAN_EYLEN___ALBRECHT_2015 href=https...  \n",
       "24182  <a refstr=VAN_EYLEN___ALBRECHT_2015 href=https...  \n",
       "24194  <a refstr=VAN_EYLEN___ALBRECHT_2015 href=https...  \n",
       "25015  <a refstr=ASTUDILLO_DEFRU_ET_AL__2020 href=htt...  \n",
       "25017  <a refstr=KOSTOV_ET_AL__2019 href=https://ui.a...  \n",
       "25019  <a refstr=KOSTOV_ET_AL__2019 href=https://ui.a...  \n",
       "25022  <a refstr=KOSTOV_ET_AL__2019 href=https://ui.a...  \n",
       "25023  <a refstr=MENT_ET_AL__2019 href=https://ui.ads...  \n",
       "25024  <a refstr=DITTMANN_ET_AL__2017 href=https://ui...  \n",
       "25025  <a refstr=MENT_ET_AL__2019 href=https://ui.ads...  \n",
       "25036  <a refstr=WINTERS_ET_AL__2019 href=https://ui....  \n",
       "25435  <a refstr=QUINN_ET_AL__2019 href=https://ui.ad...  \n",
       "25436  <a refstr=NIELSEN_ET_AL__2020 href=https://ui....  \n",
       "25438  <a refstr=QUINN_ET_AL__2019 href=https://ui.ad...  \n",
       "25440  <a refstr=NIELSEN_ET_AL__2020 href=https://ui....  \n",
       "25442  <a refstr=NIELSEN_ET_AL__2020 href=https://ui....  \n",
       "25444  <a refstr=D_IACUTE_AZ_ET_AL__2020 href=https:/...  \n",
       "25466  <a refstr=GILLON_ET_AL__2017 href=https://ui.a...  \n",
       "25469  <a refstr=GILLON_ET_AL__2017 href=https://ui.a...  \n",
       "25470  <a refstr=GILLON_ET_AL__2017 href=https://ui.a...  \n",
       "25471  <a refstr=GILLON_ET_AL__2017 href=https://ui.a...  \n",
       "25472  <a refstr=GILLON_ET_AL__2017 href=https://ui.a...  \n",
       "25473  <a refstr=GILLON_ET_AL__2017 href=https://ui.a...  \n",
       "25917  <a refstr=VANDERBURG_ET_AL__2017 href=https://...  \n",
       "25918  <a refstr=ALMENARA_ET_AL__2016 href=https://ui...  \n",
       "25928  <a refstr=ALMENARA_ET_AL__2016 href=https://ui...  \n",
       "\n",
       "[284 rows x 3 columns]"
      ]
     },
     "execution_count": 41,
     "metadata": {},
     "output_type": "execute_result"
    }
   ],
   "source": [
    "smallecc[['hostname', 'pl_name', 'pl_refname']]"
   ]
  },
  {
   "cell_type": "code",
   "execution_count": 39,
   "metadata": {},
   "outputs": [
    {
     "data": {
      "text/html": [
       "<div>\n",
       "<style scoped>\n",
       "    .dataframe tbody tr th:only-of-type {\n",
       "        vertical-align: middle;\n",
       "    }\n",
       "\n",
       "    .dataframe tbody tr th {\n",
       "        vertical-align: top;\n",
       "    }\n",
       "\n",
       "    .dataframe thead th {\n",
       "        text-align: right;\n",
       "    }\n",
       "</style>\n",
       "<table border=\"1\" class=\"dataframe\">\n",
       "  <thead>\n",
       "    <tr style=\"text-align: right;\">\n",
       "      <th></th>\n",
       "      <th>rowid</th>\n",
       "      <th>pl_name</th>\n",
       "      <th>hostname</th>\n",
       "      <th>pl_letter</th>\n",
       "      <th>hd_name</th>\n",
       "      <th>hip_name</th>\n",
       "      <th>tic_id</th>\n",
       "      <th>default_flag</th>\n",
       "      <th>sy_snum</th>\n",
       "      <th>sy_pnum</th>\n",
       "      <th>...</th>\n",
       "      <th>sy_kepmagerr1</th>\n",
       "      <th>sy_kepmagerr2</th>\n",
       "      <th>rowupdate</th>\n",
       "      <th>pl_pubdate</th>\n",
       "      <th>releasedate</th>\n",
       "      <th>pl_nnotes</th>\n",
       "      <th>st_nphot</th>\n",
       "      <th>st_nrvc</th>\n",
       "      <th>st_ntranspec</th>\n",
       "      <th>st_nspec</th>\n",
       "    </tr>\n",
       "  </thead>\n",
       "  <tbody>\n",
       "    <tr>\n",
       "      <th>290</th>\n",
       "      <td>291</td>\n",
       "      <td>EPIC 211822797 b</td>\n",
       "      <td>EPIC 211822797</td>\n",
       "      <td>b</td>\n",
       "      <td>NaN</td>\n",
       "      <td>NaN</td>\n",
       "      <td>TIC 337632006 b</td>\n",
       "      <td>0</td>\n",
       "      <td>1</td>\n",
       "      <td>1</td>\n",
       "      <td>...</td>\n",
       "      <td>NaN</td>\n",
       "      <td>NaN</td>\n",
       "      <td>2017-12-12</td>\n",
       "      <td>2017-02</td>\n",
       "      <td>2017-12-12</td>\n",
       "      <td>1</td>\n",
       "      <td>0</td>\n",
       "      <td>0</td>\n",
       "      <td>0</td>\n",
       "      <td>0</td>\n",
       "    </tr>\n",
       "    <tr>\n",
       "      <th>291</th>\n",
       "      <td>292</td>\n",
       "      <td>EPIC 211822797 b</td>\n",
       "      <td>EPIC 211822797</td>\n",
       "      <td>b</td>\n",
       "      <td>NaN</td>\n",
       "      <td>NaN</td>\n",
       "      <td>TIC 337632006 b</td>\n",
       "      <td>1</td>\n",
       "      <td>1</td>\n",
       "      <td>1</td>\n",
       "      <td>...</td>\n",
       "      <td>NaN</td>\n",
       "      <td>NaN</td>\n",
       "      <td>2017-12-12</td>\n",
       "      <td>2017-03</td>\n",
       "      <td>2017-12-12</td>\n",
       "      <td>1</td>\n",
       "      <td>0</td>\n",
       "      <td>0</td>\n",
       "      <td>0</td>\n",
       "      <td>0</td>\n",
       "    </tr>\n",
       "  </tbody>\n",
       "</table>\n",
       "<p>2 rows × 296 columns</p>\n",
       "</div>"
      ],
      "text/plain": [
       "     rowid           pl_name        hostname pl_letter  hd_name hip_name  \\\n",
       "290    291  EPIC 211822797 b  EPIC 211822797         b      NaN      NaN   \n",
       "291    292  EPIC 211822797 b  EPIC 211822797         b      NaN      NaN   \n",
       "\n",
       "              tic_id  default_flag  sy_snum  sy_pnum    ...     sy_kepmagerr1  \\\n",
       "290  TIC 337632006 b             0        1        1    ...               NaN   \n",
       "291  TIC 337632006 b             1        1        1    ...               NaN   \n",
       "\n",
       "    sy_kepmagerr2   rowupdate pl_pubdate releasedate pl_nnotes st_nphot  \\\n",
       "290           NaN  2017-12-12    2017-02  2017-12-12         1        0   \n",
       "291           NaN  2017-12-12    2017-03  2017-12-12         1        0   \n",
       "\n",
       "    st_nrvc st_ntranspec  st_nspec  \n",
       "290       0            0         0  \n",
       "291       0            0         0  \n",
       "\n",
       "[2 rows x 296 columns]"
      ]
     },
     "execution_count": 39,
     "metadata": {},
     "output_type": "execute_result"
    }
   ],
   "source": [
    "smallecc[smallecc['hostname']=='EPIC 211822797']"
   ]
  },
  {
   "cell_type": "code",
   "execution_count": 37,
   "metadata": {},
   "outputs": [
    {
     "data": {
      "text/plain": [
       "138"
      ]
     },
     "execution_count": 37,
     "metadata": {},
     "output_type": "execute_result"
    }
   ],
   "source": [
    "len(smallecc['hostname'].unique())"
   ]
  },
  {
   "cell_type": "code",
   "execution_count": 33,
   "metadata": {},
   "outputs": [
    {
     "data": {
      "text/plain": [
       "34       0.26000\n",
       "79       0.06100\n",
       "152      0.03600\n",
       "154      0.07100\n",
       "156      0.52400\n",
       "157      0.53000\n",
       "160      0.36000\n",
       "163      0.07000\n",
       "165      0.05000\n",
       "169      0.06700\n",
       "171      0.03600\n",
       "173      0.33000\n",
       "174      0.37000\n",
       "175      0.08100\n",
       "180      0.08000\n",
       "181      0.02500\n",
       "183      0.05600\n",
       "184      0.04700\n",
       "185      0.02400\n",
       "186      0.01430\n",
       "193      0.57500\n",
       "196      0.56200\n",
       "200      0.39000\n",
       "201      0.07700\n",
       "202      0.16000\n",
       "203      0.16000\n",
       "208      0.22000\n",
       "209      0.41000\n",
       "211      0.03400\n",
       "212      0.06500\n",
       "          ...   \n",
       "26069    0.31000\n",
       "26072    0.30000\n",
       "26073    0.31000\n",
       "26077    0.02000\n",
       "26078    0.00200\n",
       "26079    0.07000\n",
       "26081    0.06600\n",
       "26085    0.12000\n",
       "26087    0.07700\n",
       "26097    0.13000\n",
       "26099    0.19280\n",
       "26100    0.19300\n",
       "26107    0.06400\n",
       "26109    0.13000\n",
       "26112    0.01800\n",
       "26115    0.11000\n",
       "26118    0.01900\n",
       "26121    0.07000\n",
       "26123    0.01000\n",
       "26127    0.10000\n",
       "26129    0.35000\n",
       "26138    0.01900\n",
       "26148    0.00600\n",
       "26153    0.00600\n",
       "26165    0.26000\n",
       "26167    0.27587\n",
       "26168    0.29000\n",
       "26170    0.00390\n",
       "26177    0.02100\n",
       "26183    0.03800\n",
       "Name: pl_orbeccen, Length: 900, dtype: float64"
      ]
     },
     "execution_count": 33,
     "metadata": {},
     "output_type": "execute_result"
    }
   ],
   "source": [
    "smallecc['pl_orbeccen']"
   ]
  },
  {
   "cell_type": "code",
   "execution_count": 4,
   "metadata": {},
   "outputs": [],
   "source": [
    "gold = df[(df['tran_flag']==1) & (df['pl_rade'] < 1.5) & (df['pl_radeerr1'] < 0.05*df['pl_rade']) & (df['sy_pnum'] > 1)]"
   ]
  },
  {
   "cell_type": "code",
   "execution_count": 5,
   "metadata": {},
   "outputs": [
    {
     "data": {
      "text/plain": [
       "array(['GJ 9827', 'K2-141', 'K2-229', 'K2-233', 'Kepler-10', 'Kepler-100',\n",
       "       'Kepler-102', 'Kepler-1047', 'Kepler-107', 'Kepler-114',\n",
       "       'Kepler-118', 'Kepler-124', 'Kepler-1254', 'Kepler-126',\n",
       "       'Kepler-127', 'Kepler-128', 'Kepler-130', 'Kepler-138',\n",
       "       'Kepler-1398', 'Kepler-141', 'Kepler-144', 'Kepler-1542',\n",
       "       'Kepler-167', 'Kepler-174', 'Kepler-181', 'Kepler-185',\n",
       "       'Kepler-186', 'Kepler-190', 'Kepler-197', 'Kepler-20',\n",
       "       'Kepler-205', 'Kepler-206', 'Kepler-211', 'Kepler-213',\n",
       "       'Kepler-215', 'Kepler-220', 'Kepler-225', 'Kepler-240',\n",
       "       'Kepler-249', 'Kepler-250', 'Kepler-26', 'Kepler-285',\n",
       "       'Kepler-292', 'Kepler-303', 'Kepler-316', 'Kepler-32',\n",
       "       'Kepler-326', 'Kepler-327', 'Kepler-330', 'Kepler-332',\n",
       "       'Kepler-333', 'Kepler-339', 'Kepler-342', 'Kepler-345',\n",
       "       'Kepler-36', 'Kepler-363', 'Kepler-367', 'Kepler-369', 'Kepler-37',\n",
       "       'Kepler-378', 'Kepler-381', 'Kepler-383', 'Kepler-390',\n",
       "       'Kepler-398', 'Kepler-402', 'Kepler-406', 'Kepler-407',\n",
       "       'Kepler-42', 'Kepler-431', 'Kepler-444', 'Kepler-450', 'Kepler-54',\n",
       "       'Kepler-62', 'Kepler-625', 'Kepler-65', 'Kepler-68', 'Kepler-732',\n",
       "       'Kepler-755', 'Kepler-80', 'Kepler-81', 'Kepler-93', 'Kepler-969',\n",
       "       'Kepler-97', 'LHS 1140', 'TRAPPIST-1'], dtype=object)"
      ]
     },
     "execution_count": 5,
     "metadata": {},
     "output_type": "execute_result"
    }
   ],
   "source": [
    "gold['hostname'].unique()"
   ]
  },
  {
   "cell_type": "code",
   "execution_count": 6,
   "metadata": {},
   "outputs": [],
   "source": [
    "golddf = pd.DataFrame(columns = df.columns)\n",
    "\n",
    "for ID in gold['hostname'].unique():\n",
    "    system = df[df['hostname'] == ID].sort_values('pl_orbper')\n",
    "    for name in system['pl_name'].unique():\n",
    "        copies = system[system['pl_name']==name]\n",
    "        try:\n",
    "            golddf=golddf.append(copies[copies['pl_radeerr1'] == copies['pl_radeerr1'].min()].iloc[0])\n",
    "        except:\n",
    "            pass # errors are NaN"
   ]
  },
  {
   "cell_type": "code",
   "execution_count": 7,
   "metadata": {},
   "outputs": [
    {
     "data": {
      "text/html": [
       "<div>\n",
       "<style scoped>\n",
       "    .dataframe tbody tr th:only-of-type {\n",
       "        vertical-align: middle;\n",
       "    }\n",
       "\n",
       "    .dataframe tbody tr th {\n",
       "        vertical-align: top;\n",
       "    }\n",
       "\n",
       "    .dataframe thead th {\n",
       "        text-align: right;\n",
       "    }\n",
       "</style>\n",
       "<table border=\"1\" class=\"dataframe\">\n",
       "  <thead>\n",
       "    <tr style=\"text-align: right;\">\n",
       "      <th></th>\n",
       "      <th>rowid</th>\n",
       "      <th>pl_name</th>\n",
       "      <th>hostname</th>\n",
       "      <th>pl_letter</th>\n",
       "      <th>hd_name</th>\n",
       "      <th>hip_name</th>\n",
       "      <th>tic_id</th>\n",
       "      <th>default_flag</th>\n",
       "      <th>sy_snum</th>\n",
       "      <th>sy_pnum</th>\n",
       "      <th>...</th>\n",
       "      <th>sy_kepmagerr1</th>\n",
       "      <th>sy_kepmagerr2</th>\n",
       "      <th>rowupdate</th>\n",
       "      <th>pl_pubdate</th>\n",
       "      <th>releasedate</th>\n",
       "      <th>pl_nnotes</th>\n",
       "      <th>st_nphot</th>\n",
       "      <th>st_nrvc</th>\n",
       "      <th>st_ntranspec</th>\n",
       "      <th>st_nspec</th>\n",
       "    </tr>\n",
       "  </thead>\n",
       "  <tbody>\n",
       "    <tr>\n",
       "      <th>537</th>\n",
       "      <td>538</td>\n",
       "      <td>GJ 9827 b</td>\n",
       "      <td>GJ 9827</td>\n",
       "      <td>b</td>\n",
       "      <td>NaN</td>\n",
       "      <td>HIP 115752 b</td>\n",
       "      <td>TIC 301289516 b</td>\n",
       "      <td>1</td>\n",
       "      <td>1</td>\n",
       "      <td>3</td>\n",
       "      <td>...</td>\n",
       "      <td>NaN</td>\n",
       "      <td>NaN</td>\n",
       "      <td>2019-08-23</td>\n",
       "      <td>2019-04</td>\n",
       "      <td>2019-08-23</td>\n",
       "      <td>2</td>\n",
       "      <td>0</td>\n",
       "      <td>0</td>\n",
       "      <td>0</td>\n",
       "      <td>0</td>\n",
       "    </tr>\n",
       "    <tr>\n",
       "      <th>541</th>\n",
       "      <td>542</td>\n",
       "      <td>GJ 9827 c</td>\n",
       "      <td>GJ 9827</td>\n",
       "      <td>c</td>\n",
       "      <td>NaN</td>\n",
       "      <td>HIP 115752 c</td>\n",
       "      <td>TIC 301289516 c</td>\n",
       "      <td>1</td>\n",
       "      <td>1</td>\n",
       "      <td>3</td>\n",
       "      <td>...</td>\n",
       "      <td>NaN</td>\n",
       "      <td>NaN</td>\n",
       "      <td>2019-08-23</td>\n",
       "      <td>2019-04</td>\n",
       "      <td>2019-08-23</td>\n",
       "      <td>2</td>\n",
       "      <td>0</td>\n",
       "      <td>0</td>\n",
       "      <td>0</td>\n",
       "      <td>0</td>\n",
       "    </tr>\n",
       "    <tr>\n",
       "      <th>545</th>\n",
       "      <td>546</td>\n",
       "      <td>GJ 9827 d</td>\n",
       "      <td>GJ 9827</td>\n",
       "      <td>d</td>\n",
       "      <td>NaN</td>\n",
       "      <td>HIP 115752 d</td>\n",
       "      <td>TIC 301289516 d</td>\n",
       "      <td>1</td>\n",
       "      <td>1</td>\n",
       "      <td>3</td>\n",
       "      <td>...</td>\n",
       "      <td>NaN</td>\n",
       "      <td>NaN</td>\n",
       "      <td>2019-08-23</td>\n",
       "      <td>2019-04</td>\n",
       "      <td>2019-08-23</td>\n",
       "      <td>2</td>\n",
       "      <td>0</td>\n",
       "      <td>0</td>\n",
       "      <td>0</td>\n",
       "      <td>0</td>\n",
       "    </tr>\n",
       "    <tr>\n",
       "      <th>2580</th>\n",
       "      <td>2581</td>\n",
       "      <td>K2-141 b</td>\n",
       "      <td>K2-141</td>\n",
       "      <td>b</td>\n",
       "      <td>NaN</td>\n",
       "      <td>NaN</td>\n",
       "      <td>TIC 301235044 b</td>\n",
       "      <td>0</td>\n",
       "      <td>1</td>\n",
       "      <td>2</td>\n",
       "      <td>...</td>\n",
       "      <td>NaN</td>\n",
       "      <td>NaN</td>\n",
       "      <td>2019-08-23</td>\n",
       "      <td>2019-08</td>\n",
       "      <td>2019-08-23</td>\n",
       "      <td>0</td>\n",
       "      <td>0</td>\n",
       "      <td>0</td>\n",
       "      <td>0</td>\n",
       "      <td>0</td>\n",
       "    </tr>\n",
       "    <tr>\n",
       "      <th>2582</th>\n",
       "      <td>2583</td>\n",
       "      <td>K2-141 c</td>\n",
       "      <td>K2-141</td>\n",
       "      <td>c</td>\n",
       "      <td>NaN</td>\n",
       "      <td>NaN</td>\n",
       "      <td>TIC 301235044 c</td>\n",
       "      <td>1</td>\n",
       "      <td>1</td>\n",
       "      <td>2</td>\n",
       "      <td>...</td>\n",
       "      <td>NaN</td>\n",
       "      <td>NaN</td>\n",
       "      <td>2018-01-16</td>\n",
       "      <td>2018-03</td>\n",
       "      <td>2018-01-16</td>\n",
       "      <td>1</td>\n",
       "      <td>0</td>\n",
       "      <td>0</td>\n",
       "      <td>0</td>\n",
       "      <td>0</td>\n",
       "    </tr>\n",
       "    <tr>\n",
       "      <th>3091</th>\n",
       "      <td>3092</td>\n",
       "      <td>K2-229 b</td>\n",
       "      <td>K2-229</td>\n",
       "      <td>b</td>\n",
       "      <td>NaN</td>\n",
       "      <td>NaN</td>\n",
       "      <td>TIC 98720809 b</td>\n",
       "      <td>0</td>\n",
       "      <td>1</td>\n",
       "      <td>2</td>\n",
       "      <td>...</td>\n",
       "      <td>NaN</td>\n",
       "      <td>NaN</td>\n",
       "      <td>2019-08-23</td>\n",
       "      <td>2019-08</td>\n",
       "      <td>2019-08-23</td>\n",
       "      <td>0</td>\n",
       "      <td>0</td>\n",
       "      <td>0</td>\n",
       "      <td>0</td>\n",
       "      <td>0</td>\n",
       "    </tr>\n",
       "    <tr>\n",
       "      <th>3095</th>\n",
       "      <td>3096</td>\n",
       "      <td>K2-229 c</td>\n",
       "      <td>K2-229</td>\n",
       "      <td>c</td>\n",
       "      <td>NaN</td>\n",
       "      <td>NaN</td>\n",
       "      <td>TIC 98720809 c</td>\n",
       "      <td>0</td>\n",
       "      <td>1</td>\n",
       "      <td>2</td>\n",
       "      <td>...</td>\n",
       "      <td>NaN</td>\n",
       "      <td>NaN</td>\n",
       "      <td>2018-07-12</td>\n",
       "      <td>2018-03</td>\n",
       "      <td>2018-07-12</td>\n",
       "      <td>0</td>\n",
       "      <td>0</td>\n",
       "      <td>0</td>\n",
       "      <td>0</td>\n",
       "      <td>0</td>\n",
       "    </tr>\n",
       "    <tr>\n",
       "      <th>3108</th>\n",
       "      <td>3109</td>\n",
       "      <td>K2-233 b</td>\n",
       "      <td>K2-233</td>\n",
       "      <td>b</td>\n",
       "      <td>NaN</td>\n",
       "      <td>NaN</td>\n",
       "      <td>TIC 428820090 b</td>\n",
       "      <td>1</td>\n",
       "      <td>1</td>\n",
       "      <td>3</td>\n",
       "      <td>...</td>\n",
       "      <td>NaN</td>\n",
       "      <td>NaN</td>\n",
       "      <td>2018-04-25</td>\n",
       "      <td>2018-03</td>\n",
       "      <td>2018-04-25</td>\n",
       "      <td>1</td>\n",
       "      <td>0</td>\n",
       "      <td>0</td>\n",
       "      <td>0</td>\n",
       "      <td>0</td>\n",
       "    </tr>\n",
       "    <tr>\n",
       "      <th>3109</th>\n",
       "      <td>3110</td>\n",
       "      <td>K2-233 c</td>\n",
       "      <td>K2-233</td>\n",
       "      <td>c</td>\n",
       "      <td>NaN</td>\n",
       "      <td>NaN</td>\n",
       "      <td>TIC 428820090 c</td>\n",
       "      <td>1</td>\n",
       "      <td>1</td>\n",
       "      <td>3</td>\n",
       "      <td>...</td>\n",
       "      <td>NaN</td>\n",
       "      <td>NaN</td>\n",
       "      <td>2018-04-25</td>\n",
       "      <td>2018-03</td>\n",
       "      <td>2018-04-25</td>\n",
       "      <td>1</td>\n",
       "      <td>0</td>\n",
       "      <td>0</td>\n",
       "      <td>0</td>\n",
       "      <td>0</td>\n",
       "    </tr>\n",
       "    <tr>\n",
       "      <th>3110</th>\n",
       "      <td>3111</td>\n",
       "      <td>K2-233 d</td>\n",
       "      <td>K2-233</td>\n",
       "      <td>d</td>\n",
       "      <td>NaN</td>\n",
       "      <td>NaN</td>\n",
       "      <td>TIC 428820090 d</td>\n",
       "      <td>1</td>\n",
       "      <td>1</td>\n",
       "      <td>3</td>\n",
       "      <td>...</td>\n",
       "      <td>NaN</td>\n",
       "      <td>NaN</td>\n",
       "      <td>2018-04-25</td>\n",
       "      <td>2018-03</td>\n",
       "      <td>2018-04-25</td>\n",
       "      <td>1</td>\n",
       "      <td>0</td>\n",
       "      <td>0</td>\n",
       "      <td>0</td>\n",
       "      <td>0</td>\n",
       "    </tr>\n",
       "    <tr>\n",
       "      <th>4185</th>\n",
       "      <td>4186</td>\n",
       "      <td>Kepler-10 b</td>\n",
       "      <td>Kepler-10</td>\n",
       "      <td>b</td>\n",
       "      <td>NaN</td>\n",
       "      <td>NaN</td>\n",
       "      <td>TIC 377780790 b</td>\n",
       "      <td>0</td>\n",
       "      <td>1</td>\n",
       "      <td>2</td>\n",
       "      <td>...</td>\n",
       "      <td>NaN</td>\n",
       "      <td>NaN</td>\n",
       "      <td>2015-08-26</td>\n",
       "      <td>2014-02</td>\n",
       "      <td>2015-08-26</td>\n",
       "      <td>2</td>\n",
       "      <td>0</td>\n",
       "      <td>4</td>\n",
       "      <td>0</td>\n",
       "      <td>0</td>\n",
       "    </tr>\n",
       "    <tr>\n",
       "      <th>4217</th>\n",
       "      <td>4218</td>\n",
       "      <td>Kepler-10 c</td>\n",
       "      <td>Kepler-10</td>\n",
       "      <td>c</td>\n",
       "      <td>NaN</td>\n",
       "      <td>NaN</td>\n",
       "      <td>TIC 377780790 c</td>\n",
       "      <td>0</td>\n",
       "      <td>1</td>\n",
       "      <td>2</td>\n",
       "      <td>...</td>\n",
       "      <td>NaN</td>\n",
       "      <td>NaN</td>\n",
       "      <td>2020-02-10</td>\n",
       "      <td>2015-08</td>\n",
       "      <td>2020-02-10</td>\n",
       "      <td>2</td>\n",
       "      <td>0</td>\n",
       "      <td>4</td>\n",
       "      <td>3</td>\n",
       "      <td>0</td>\n",
       "    </tr>\n",
       "    <tr>\n",
       "      <th>4222</th>\n",
       "      <td>4223</td>\n",
       "      <td>Kepler-100 b</td>\n",
       "      <td>Kepler-100</td>\n",
       "      <td>b</td>\n",
       "      <td>NaN</td>\n",
       "      <td>NaN</td>\n",
       "      <td>TIC 159654016 b</td>\n",
       "      <td>0</td>\n",
       "      <td>1</td>\n",
       "      <td>3</td>\n",
       "      <td>...</td>\n",
       "      <td>NaN</td>\n",
       "      <td>NaN</td>\n",
       "      <td>2015-05-21</td>\n",
       "      <td>2015-08</td>\n",
       "      <td>2015-05-21</td>\n",
       "      <td>1</td>\n",
       "      <td>0</td>\n",
       "      <td>3</td>\n",
       "      <td>0</td>\n",
       "      <td>0</td>\n",
       "    </tr>\n",
       "    <tr>\n",
       "      <th>4232</th>\n",
       "      <td>4233</td>\n",
       "      <td>Kepler-100 c</td>\n",
       "      <td>Kepler-100</td>\n",
       "      <td>c</td>\n",
       "      <td>NaN</td>\n",
       "      <td>NaN</td>\n",
       "      <td>TIC 159654016 c</td>\n",
       "      <td>0</td>\n",
       "      <td>1</td>\n",
       "      <td>3</td>\n",
       "      <td>...</td>\n",
       "      <td>NaN</td>\n",
       "      <td>NaN</td>\n",
       "      <td>2015-05-21</td>\n",
       "      <td>2015-08</td>\n",
       "      <td>2015-05-21</td>\n",
       "      <td>1</td>\n",
       "      <td>0</td>\n",
       "      <td>3</td>\n",
       "      <td>0</td>\n",
       "      <td>0</td>\n",
       "    </tr>\n",
       "    <tr>\n",
       "      <th>4247</th>\n",
       "      <td>4248</td>\n",
       "      <td>Kepler-100 d</td>\n",
       "      <td>Kepler-100</td>\n",
       "      <td>d</td>\n",
       "      <td>NaN</td>\n",
       "      <td>NaN</td>\n",
       "      <td>TIC 159654016 d</td>\n",
       "      <td>0</td>\n",
       "      <td>1</td>\n",
       "      <td>3</td>\n",
       "      <td>...</td>\n",
       "      <td>NaN</td>\n",
       "      <td>NaN</td>\n",
       "      <td>2014-11-21</td>\n",
       "      <td>2014-12</td>\n",
       "      <td>2014-11-21</td>\n",
       "      <td>1</td>\n",
       "      <td>0</td>\n",
       "      <td>3</td>\n",
       "      <td>0</td>\n",
       "      <td>0</td>\n",
       "    </tr>\n",
       "    <tr>\n",
       "      <th>4455</th>\n",
       "      <td>4456</td>\n",
       "      <td>Kepler-102 b</td>\n",
       "      <td>Kepler-102</td>\n",
       "      <td>b</td>\n",
       "      <td>NaN</td>\n",
       "      <td>NaN</td>\n",
       "      <td>TIC 123357864 b</td>\n",
       "      <td>0</td>\n",
       "      <td>1</td>\n",
       "      <td>5</td>\n",
       "      <td>...</td>\n",
       "      <td>NaN</td>\n",
       "      <td>NaN</td>\n",
       "      <td>2016-05-06</td>\n",
       "      <td>2016-05</td>\n",
       "      <td>2016-05-06</td>\n",
       "      <td>1</td>\n",
       "      <td>0</td>\n",
       "      <td>0</td>\n",
       "      <td>0</td>\n",
       "      <td>0</td>\n",
       "    </tr>\n",
       "    <tr>\n",
       "      <th>4472</th>\n",
       "      <td>4473</td>\n",
       "      <td>Kepler-102 c</td>\n",
       "      <td>Kepler-102</td>\n",
       "      <td>c</td>\n",
       "      <td>NaN</td>\n",
       "      <td>NaN</td>\n",
       "      <td>TIC 123357864 c</td>\n",
       "      <td>0</td>\n",
       "      <td>1</td>\n",
       "      <td>5</td>\n",
       "      <td>...</td>\n",
       "      <td>NaN</td>\n",
       "      <td>NaN</td>\n",
       "      <td>2015-08-25</td>\n",
       "      <td>2015-09</td>\n",
       "      <td>2015-08-25</td>\n",
       "      <td>1</td>\n",
       "      <td>0</td>\n",
       "      <td>0</td>\n",
       "      <td>0</td>\n",
       "      <td>0</td>\n",
       "    </tr>\n",
       "    <tr>\n",
       "      <th>4485</th>\n",
       "      <td>4486</td>\n",
       "      <td>Kepler-102 d</td>\n",
       "      <td>Kepler-102</td>\n",
       "      <td>d</td>\n",
       "      <td>NaN</td>\n",
       "      <td>NaN</td>\n",
       "      <td>TIC 123357864 d</td>\n",
       "      <td>0</td>\n",
       "      <td>1</td>\n",
       "      <td>5</td>\n",
       "      <td>...</td>\n",
       "      <td>NaN</td>\n",
       "      <td>NaN</td>\n",
       "      <td>2016-05-06</td>\n",
       "      <td>2016-05</td>\n",
       "      <td>2016-05-06</td>\n",
       "      <td>1</td>\n",
       "      <td>0</td>\n",
       "      <td>0</td>\n",
       "      <td>3</td>\n",
       "      <td>0</td>\n",
       "    </tr>\n",
       "    <tr>\n",
       "      <th>4486</th>\n",
       "      <td>4487</td>\n",
       "      <td>Kepler-102 e</td>\n",
       "      <td>Kepler-102</td>\n",
       "      <td>e</td>\n",
       "      <td>NaN</td>\n",
       "      <td>NaN</td>\n",
       "      <td>TIC 123357864 e</td>\n",
       "      <td>1</td>\n",
       "      <td>1</td>\n",
       "      <td>5</td>\n",
       "      <td>...</td>\n",
       "      <td>NaN</td>\n",
       "      <td>NaN</td>\n",
       "      <td>2014-05-14</td>\n",
       "      <td>2014-02</td>\n",
       "      <td>2014-05-14</td>\n",
       "      <td>1</td>\n",
       "      <td>0</td>\n",
       "      <td>0</td>\n",
       "      <td>2</td>\n",
       "      <td>0</td>\n",
       "    </tr>\n",
       "    <tr>\n",
       "      <th>4499</th>\n",
       "      <td>4500</td>\n",
       "      <td>Kepler-102 f</td>\n",
       "      <td>Kepler-102</td>\n",
       "      <td>f</td>\n",
       "      <td>NaN</td>\n",
       "      <td>NaN</td>\n",
       "      <td>TIC 123357864 f</td>\n",
       "      <td>1</td>\n",
       "      <td>1</td>\n",
       "      <td>5</td>\n",
       "      <td>...</td>\n",
       "      <td>NaN</td>\n",
       "      <td>NaN</td>\n",
       "      <td>2016-10-12</td>\n",
       "      <td>2014-02</td>\n",
       "      <td>2016-10-12</td>\n",
       "      <td>1</td>\n",
       "      <td>0</td>\n",
       "      <td>0</td>\n",
       "      <td>0</td>\n",
       "      <td>0</td>\n",
       "    </tr>\n",
       "    <tr>\n",
       "      <th>4805</th>\n",
       "      <td>4806</td>\n",
       "      <td>Kepler-1047 c</td>\n",
       "      <td>Kepler-1047</td>\n",
       "      <td>c</td>\n",
       "      <td>NaN</td>\n",
       "      <td>NaN</td>\n",
       "      <td>TIC 299029323 c</td>\n",
       "      <td>0</td>\n",
       "      <td>1</td>\n",
       "      <td>2</td>\n",
       "      <td>...</td>\n",
       "      <td>NaN</td>\n",
       "      <td>NaN</td>\n",
       "      <td>2018-09-04</td>\n",
       "      <td>2018-05</td>\n",
       "      <td>2018-09-04</td>\n",
       "      <td>1</td>\n",
       "      <td>0</td>\n",
       "      <td>0</td>\n",
       "      <td>0</td>\n",
       "      <td>0</td>\n",
       "    </tr>\n",
       "    <tr>\n",
       "      <th>4798</th>\n",
       "      <td>4799</td>\n",
       "      <td>Kepler-1047 b</td>\n",
       "      <td>Kepler-1047</td>\n",
       "      <td>b</td>\n",
       "      <td>NaN</td>\n",
       "      <td>NaN</td>\n",
       "      <td>TIC 299029323 b</td>\n",
       "      <td>0</td>\n",
       "      <td>1</td>\n",
       "      <td>2</td>\n",
       "      <td>...</td>\n",
       "      <td>NaN</td>\n",
       "      <td>NaN</td>\n",
       "      <td>2018-09-04</td>\n",
       "      <td>2018-05</td>\n",
       "      <td>2018-09-04</td>\n",
       "      <td>1</td>\n",
       "      <td>0</td>\n",
       "      <td>0</td>\n",
       "      <td>0</td>\n",
       "      <td>0</td>\n",
       "    </tr>\n",
       "    <tr>\n",
       "      <th>5076</th>\n",
       "      <td>5077</td>\n",
       "      <td>Kepler-107 b</td>\n",
       "      <td>Kepler-107</td>\n",
       "      <td>b</td>\n",
       "      <td>NaN</td>\n",
       "      <td>NaN</td>\n",
       "      <td>TIC 27988327 b</td>\n",
       "      <td>1</td>\n",
       "      <td>1</td>\n",
       "      <td>4</td>\n",
       "      <td>...</td>\n",
       "      <td>NaN</td>\n",
       "      <td>NaN</td>\n",
       "      <td>2019-07-08</td>\n",
       "      <td>2019-02</td>\n",
       "      <td>2019-07-08</td>\n",
       "      <td>1</td>\n",
       "      <td>0</td>\n",
       "      <td>0</td>\n",
       "      <td>0</td>\n",
       "      <td>0</td>\n",
       "    </tr>\n",
       "    <tr>\n",
       "      <th>5089</th>\n",
       "      <td>5090</td>\n",
       "      <td>Kepler-107 c</td>\n",
       "      <td>Kepler-107</td>\n",
       "      <td>c</td>\n",
       "      <td>NaN</td>\n",
       "      <td>NaN</td>\n",
       "      <td>TIC 27988327 c</td>\n",
       "      <td>1</td>\n",
       "      <td>1</td>\n",
       "      <td>4</td>\n",
       "      <td>...</td>\n",
       "      <td>NaN</td>\n",
       "      <td>NaN</td>\n",
       "      <td>2019-07-08</td>\n",
       "      <td>2019-02</td>\n",
       "      <td>2019-07-08</td>\n",
       "      <td>1</td>\n",
       "      <td>0</td>\n",
       "      <td>0</td>\n",
       "      <td>0</td>\n",
       "      <td>0</td>\n",
       "    </tr>\n",
       "    <tr>\n",
       "      <th>5110</th>\n",
       "      <td>5111</td>\n",
       "      <td>Kepler-107 d</td>\n",
       "      <td>Kepler-107</td>\n",
       "      <td>d</td>\n",
       "      <td>NaN</td>\n",
       "      <td>NaN</td>\n",
       "      <td>TIC 27988327 d</td>\n",
       "      <td>0</td>\n",
       "      <td>1</td>\n",
       "      <td>4</td>\n",
       "      <td>...</td>\n",
       "      <td>NaN</td>\n",
       "      <td>NaN</td>\n",
       "      <td>2015-08-25</td>\n",
       "      <td>2015-09</td>\n",
       "      <td>2015-08-25</td>\n",
       "      <td>1</td>\n",
       "      <td>0</td>\n",
       "      <td>0</td>\n",
       "      <td>0</td>\n",
       "      <td>0</td>\n",
       "    </tr>\n",
       "    <tr>\n",
       "      <th>5113</th>\n",
       "      <td>5114</td>\n",
       "      <td>Kepler-107 e</td>\n",
       "      <td>Kepler-107</td>\n",
       "      <td>e</td>\n",
       "      <td>NaN</td>\n",
       "      <td>NaN</td>\n",
       "      <td>TIC 27988327 e</td>\n",
       "      <td>1</td>\n",
       "      <td>1</td>\n",
       "      <td>4</td>\n",
       "      <td>...</td>\n",
       "      <td>NaN</td>\n",
       "      <td>NaN</td>\n",
       "      <td>2019-07-08</td>\n",
       "      <td>2019-02</td>\n",
       "      <td>2019-07-08</td>\n",
       "      <td>1</td>\n",
       "      <td>0</td>\n",
       "      <td>0</td>\n",
       "      <td>0</td>\n",
       "      <td>0</td>\n",
       "    </tr>\n",
       "    <tr>\n",
       "      <th>5951</th>\n",
       "      <td>5952</td>\n",
       "      <td>Kepler-114 b</td>\n",
       "      <td>Kepler-114</td>\n",
       "      <td>b</td>\n",
       "      <td>NaN</td>\n",
       "      <td>NaN</td>\n",
       "      <td>TIC 27011135 b</td>\n",
       "      <td>0</td>\n",
       "      <td>1</td>\n",
       "      <td>3</td>\n",
       "      <td>...</td>\n",
       "      <td>NaN</td>\n",
       "      <td>NaN</td>\n",
       "      <td>2016-05-06</td>\n",
       "      <td>2016-05</td>\n",
       "      <td>2016-05-06</td>\n",
       "      <td>1</td>\n",
       "      <td>0</td>\n",
       "      <td>0</td>\n",
       "      <td>0</td>\n",
       "      <td>0</td>\n",
       "    </tr>\n",
       "    <tr>\n",
       "      <th>5968</th>\n",
       "      <td>5969</td>\n",
       "      <td>Kepler-114 c</td>\n",
       "      <td>Kepler-114</td>\n",
       "      <td>c</td>\n",
       "      <td>NaN</td>\n",
       "      <td>NaN</td>\n",
       "      <td>TIC 27011135 c</td>\n",
       "      <td>0</td>\n",
       "      <td>1</td>\n",
       "      <td>3</td>\n",
       "      <td>...</td>\n",
       "      <td>NaN</td>\n",
       "      <td>NaN</td>\n",
       "      <td>2016-05-06</td>\n",
       "      <td>2016-05</td>\n",
       "      <td>2016-05-06</td>\n",
       "      <td>1</td>\n",
       "      <td>0</td>\n",
       "      <td>0</td>\n",
       "      <td>0</td>\n",
       "      <td>0</td>\n",
       "    </tr>\n",
       "    <tr>\n",
       "      <th>5976</th>\n",
       "      <td>5977</td>\n",
       "      <td>Kepler-114 d</td>\n",
       "      <td>Kepler-114</td>\n",
       "      <td>d</td>\n",
       "      <td>NaN</td>\n",
       "      <td>NaN</td>\n",
       "      <td>TIC 27011135 d</td>\n",
       "      <td>0</td>\n",
       "      <td>1</td>\n",
       "      <td>3</td>\n",
       "      <td>...</td>\n",
       "      <td>NaN</td>\n",
       "      <td>NaN</td>\n",
       "      <td>2016-05-06</td>\n",
       "      <td>2016-05</td>\n",
       "      <td>2016-05-06</td>\n",
       "      <td>1</td>\n",
       "      <td>0</td>\n",
       "      <td>0</td>\n",
       "      <td>0</td>\n",
       "      <td>0</td>\n",
       "    </tr>\n",
       "    <tr>\n",
       "      <th>6391</th>\n",
       "      <td>6392</td>\n",
       "      <td>Kepler-118 b</td>\n",
       "      <td>Kepler-118</td>\n",
       "      <td>b</td>\n",
       "      <td>NaN</td>\n",
       "      <td>NaN</td>\n",
       "      <td>TIC 171884427 b</td>\n",
       "      <td>0</td>\n",
       "      <td>1</td>\n",
       "      <td>2</td>\n",
       "      <td>...</td>\n",
       "      <td>NaN</td>\n",
       "      <td>NaN</td>\n",
       "      <td>2017-05-08</td>\n",
       "      <td>2017-08</td>\n",
       "      <td>2017-05-08</td>\n",
       "      <td>1</td>\n",
       "      <td>0</td>\n",
       "      <td>0</td>\n",
       "      <td>0</td>\n",
       "      <td>0</td>\n",
       "    </tr>\n",
       "    <tr>\n",
       "      <th>...</th>\n",
       "      <td>...</td>\n",
       "      <td>...</td>\n",
       "      <td>...</td>\n",
       "      <td>...</td>\n",
       "      <td>...</td>\n",
       "      <td>...</td>\n",
       "      <td>...</td>\n",
       "      <td>...</td>\n",
       "      <td>...</td>\n",
       "      <td>...</td>\n",
       "      <td>...</td>\n",
       "      <td>...</td>\n",
       "      <td>...</td>\n",
       "      <td>...</td>\n",
       "      <td>...</td>\n",
       "      <td>...</td>\n",
       "      <td>...</td>\n",
       "      <td>...</td>\n",
       "      <td>...</td>\n",
       "      <td>...</td>\n",
       "      <td>...</td>\n",
       "    </tr>\n",
       "    <tr>\n",
       "      <th>21144</th>\n",
       "      <td>21145</td>\n",
       "      <td>Kepler-65 c</td>\n",
       "      <td>Kepler-65</td>\n",
       "      <td>c</td>\n",
       "      <td>NaN</td>\n",
       "      <td>NaN</td>\n",
       "      <td>TIC 121731834 c</td>\n",
       "      <td>0</td>\n",
       "      <td>1</td>\n",
       "      <td>4</td>\n",
       "      <td>...</td>\n",
       "      <td>NaN</td>\n",
       "      <td>NaN</td>\n",
       "      <td>2015-05-21</td>\n",
       "      <td>2015-08</td>\n",
       "      <td>2015-05-21</td>\n",
       "      <td>1</td>\n",
       "      <td>0</td>\n",
       "      <td>0</td>\n",
       "      <td>0</td>\n",
       "      <td>0</td>\n",
       "    </tr>\n",
       "    <tr>\n",
       "      <th>21154</th>\n",
       "      <td>21155</td>\n",
       "      <td>Kepler-65 d</td>\n",
       "      <td>Kepler-65</td>\n",
       "      <td>d</td>\n",
       "      <td>NaN</td>\n",
       "      <td>NaN</td>\n",
       "      <td>TIC 121731834 d</td>\n",
       "      <td>0</td>\n",
       "      <td>1</td>\n",
       "      <td>4</td>\n",
       "      <td>...</td>\n",
       "      <td>NaN</td>\n",
       "      <td>NaN</td>\n",
       "      <td>2014-11-18</td>\n",
       "      <td>2014-12</td>\n",
       "      <td>2014-11-18</td>\n",
       "      <td>1</td>\n",
       "      <td>0</td>\n",
       "      <td>0</td>\n",
       "      <td>0</td>\n",
       "      <td>0</td>\n",
       "    </tr>\n",
       "    <tr>\n",
       "      <th>21469</th>\n",
       "      <td>21470</td>\n",
       "      <td>Kepler-68 b</td>\n",
       "      <td>Kepler-68</td>\n",
       "      <td>b</td>\n",
       "      <td>NaN</td>\n",
       "      <td>NaN</td>\n",
       "      <td>TIC 417676622 b</td>\n",
       "      <td>0</td>\n",
       "      <td>2</td>\n",
       "      <td>3</td>\n",
       "      <td>...</td>\n",
       "      <td>NaN</td>\n",
       "      <td>NaN</td>\n",
       "      <td>2019-06-07</td>\n",
       "      <td>2014-02</td>\n",
       "      <td>2019-06-07</td>\n",
       "      <td>2</td>\n",
       "      <td>0</td>\n",
       "      <td>9</td>\n",
       "      <td>3</td>\n",
       "      <td>0</td>\n",
       "    </tr>\n",
       "    <tr>\n",
       "      <th>21482</th>\n",
       "      <td>21483</td>\n",
       "      <td>Kepler-68 c</td>\n",
       "      <td>Kepler-68</td>\n",
       "      <td>c</td>\n",
       "      <td>NaN</td>\n",
       "      <td>NaN</td>\n",
       "      <td>TIC 417676622 c</td>\n",
       "      <td>0</td>\n",
       "      <td>2</td>\n",
       "      <td>3</td>\n",
       "      <td>...</td>\n",
       "      <td>NaN</td>\n",
       "      <td>NaN</td>\n",
       "      <td>2014-11-18</td>\n",
       "      <td>2014-12</td>\n",
       "      <td>2014-11-18</td>\n",
       "      <td>2</td>\n",
       "      <td>0</td>\n",
       "      <td>9</td>\n",
       "      <td>0</td>\n",
       "      <td>0</td>\n",
       "    </tr>\n",
       "    <tr>\n",
       "      <th>22014</th>\n",
       "      <td>22015</td>\n",
       "      <td>Kepler-732 c</td>\n",
       "      <td>Kepler-732</td>\n",
       "      <td>c</td>\n",
       "      <td>NaN</td>\n",
       "      <td>NaN</td>\n",
       "      <td>TIC 164555597 c</td>\n",
       "      <td>0</td>\n",
       "      <td>1</td>\n",
       "      <td>2</td>\n",
       "      <td>...</td>\n",
       "      <td>NaN</td>\n",
       "      <td>NaN</td>\n",
       "      <td>2018-09-04</td>\n",
       "      <td>2018-05</td>\n",
       "      <td>2018-09-04</td>\n",
       "      <td>1</td>\n",
       "      <td>0</td>\n",
       "      <td>0</td>\n",
       "      <td>0</td>\n",
       "      <td>0</td>\n",
       "    </tr>\n",
       "    <tr>\n",
       "      <th>22007</th>\n",
       "      <td>22008</td>\n",
       "      <td>Kepler-732 b</td>\n",
       "      <td>Kepler-732</td>\n",
       "      <td>b</td>\n",
       "      <td>NaN</td>\n",
       "      <td>NaN</td>\n",
       "      <td>TIC 164555597 b</td>\n",
       "      <td>0</td>\n",
       "      <td>1</td>\n",
       "      <td>2</td>\n",
       "      <td>...</td>\n",
       "      <td>NaN</td>\n",
       "      <td>NaN</td>\n",
       "      <td>2018-09-04</td>\n",
       "      <td>2018-05</td>\n",
       "      <td>2018-09-04</td>\n",
       "      <td>1</td>\n",
       "      <td>0</td>\n",
       "      <td>0</td>\n",
       "      <td>0</td>\n",
       "      <td>0</td>\n",
       "    </tr>\n",
       "    <tr>\n",
       "      <th>22247</th>\n",
       "      <td>22248</td>\n",
       "      <td>Kepler-755 b</td>\n",
       "      <td>Kepler-755</td>\n",
       "      <td>b</td>\n",
       "      <td>NaN</td>\n",
       "      <td>NaN</td>\n",
       "      <td>TIC 239227652 b</td>\n",
       "      <td>1</td>\n",
       "      <td>2</td>\n",
       "      <td>2</td>\n",
       "      <td>...</td>\n",
       "      <td>NaN</td>\n",
       "      <td>NaN</td>\n",
       "      <td>2016-05-06</td>\n",
       "      <td>2016-05</td>\n",
       "      <td>2016-05-06</td>\n",
       "      <td>2</td>\n",
       "      <td>0</td>\n",
       "      <td>0</td>\n",
       "      <td>0</td>\n",
       "      <td>0</td>\n",
       "    </tr>\n",
       "    <tr>\n",
       "      <th>22259</th>\n",
       "      <td>22260</td>\n",
       "      <td>Kepler-755 c</td>\n",
       "      <td>Kepler-755</td>\n",
       "      <td>c</td>\n",
       "      <td>NaN</td>\n",
       "      <td>NaN</td>\n",
       "      <td>TIC 239227652 c</td>\n",
       "      <td>1</td>\n",
       "      <td>2</td>\n",
       "      <td>2</td>\n",
       "      <td>...</td>\n",
       "      <td>NaN</td>\n",
       "      <td>NaN</td>\n",
       "      <td>2016-05-06</td>\n",
       "      <td>2016-05</td>\n",
       "      <td>2016-05-06</td>\n",
       "      <td>2</td>\n",
       "      <td>0</td>\n",
       "      <td>0</td>\n",
       "      <td>0</td>\n",
       "      <td>0</td>\n",
       "    </tr>\n",
       "    <tr>\n",
       "      <th>22826</th>\n",
       "      <td>22827</td>\n",
       "      <td>Kepler-80 f</td>\n",
       "      <td>Kepler-80</td>\n",
       "      <td>f</td>\n",
       "      <td>NaN</td>\n",
       "      <td>NaN</td>\n",
       "      <td>TIC 184296619 f</td>\n",
       "      <td>0</td>\n",
       "      <td>1</td>\n",
       "      <td>6</td>\n",
       "      <td>...</td>\n",
       "      <td>NaN</td>\n",
       "      <td>NaN</td>\n",
       "      <td>2013-10-28</td>\n",
       "      <td>2014-01</td>\n",
       "      <td>2013-10-28</td>\n",
       "      <td>1</td>\n",
       "      <td>0</td>\n",
       "      <td>0</td>\n",
       "      <td>0</td>\n",
       "      <td>0</td>\n",
       "    </tr>\n",
       "    <tr>\n",
       "      <th>22810</th>\n",
       "      <td>22811</td>\n",
       "      <td>Kepler-80 d</td>\n",
       "      <td>Kepler-80</td>\n",
       "      <td>d</td>\n",
       "      <td>NaN</td>\n",
       "      <td>NaN</td>\n",
       "      <td>TIC 184296619 d</td>\n",
       "      <td>0</td>\n",
       "      <td>1</td>\n",
       "      <td>6</td>\n",
       "      <td>...</td>\n",
       "      <td>NaN</td>\n",
       "      <td>NaN</td>\n",
       "      <td>2017-05-08</td>\n",
       "      <td>2017-08</td>\n",
       "      <td>2017-05-08</td>\n",
       "      <td>1</td>\n",
       "      <td>0</td>\n",
       "      <td>0</td>\n",
       "      <td>0</td>\n",
       "      <td>0</td>\n",
       "    </tr>\n",
       "    <tr>\n",
       "      <th>22823</th>\n",
       "      <td>22824</td>\n",
       "      <td>Kepler-80 e</td>\n",
       "      <td>Kepler-80</td>\n",
       "      <td>e</td>\n",
       "      <td>NaN</td>\n",
       "      <td>NaN</td>\n",
       "      <td>TIC 184296619 e</td>\n",
       "      <td>1</td>\n",
       "      <td>1</td>\n",
       "      <td>6</td>\n",
       "      <td>...</td>\n",
       "      <td>NaN</td>\n",
       "      <td>NaN</td>\n",
       "      <td>2016-08-04</td>\n",
       "      <td>2016-10</td>\n",
       "      <td>2016-08-04</td>\n",
       "      <td>1</td>\n",
       "      <td>0</td>\n",
       "      <td>0</td>\n",
       "      <td>0</td>\n",
       "      <td>0</td>\n",
       "    </tr>\n",
       "    <tr>\n",
       "      <th>22786</th>\n",
       "      <td>22787</td>\n",
       "      <td>Kepler-80 b</td>\n",
       "      <td>Kepler-80</td>\n",
       "      <td>b</td>\n",
       "      <td>NaN</td>\n",
       "      <td>NaN</td>\n",
       "      <td>TIC 184296619 b</td>\n",
       "      <td>0</td>\n",
       "      <td>1</td>\n",
       "      <td>6</td>\n",
       "      <td>...</td>\n",
       "      <td>NaN</td>\n",
       "      <td>NaN</td>\n",
       "      <td>2016-08-04</td>\n",
       "      <td>2016-05</td>\n",
       "      <td>2016-08-04</td>\n",
       "      <td>1</td>\n",
       "      <td>0</td>\n",
       "      <td>0</td>\n",
       "      <td>0</td>\n",
       "      <td>0</td>\n",
       "    </tr>\n",
       "    <tr>\n",
       "      <th>22798</th>\n",
       "      <td>22799</td>\n",
       "      <td>Kepler-80 c</td>\n",
       "      <td>Kepler-80</td>\n",
       "      <td>c</td>\n",
       "      <td>NaN</td>\n",
       "      <td>NaN</td>\n",
       "      <td>TIC 184296619 c</td>\n",
       "      <td>0</td>\n",
       "      <td>1</td>\n",
       "      <td>6</td>\n",
       "      <td>...</td>\n",
       "      <td>NaN</td>\n",
       "      <td>NaN</td>\n",
       "      <td>2016-08-04</td>\n",
       "      <td>2016-05</td>\n",
       "      <td>2016-08-04</td>\n",
       "      <td>1</td>\n",
       "      <td>0</td>\n",
       "      <td>0</td>\n",
       "      <td>0</td>\n",
       "      <td>0</td>\n",
       "    </tr>\n",
       "    <tr>\n",
       "      <th>22833</th>\n",
       "      <td>22834</td>\n",
       "      <td>Kepler-80 g</td>\n",
       "      <td>Kepler-80</td>\n",
       "      <td>g</td>\n",
       "      <td>NaN</td>\n",
       "      <td>NaN</td>\n",
       "      <td>TIC 184296619 g</td>\n",
       "      <td>1</td>\n",
       "      <td>1</td>\n",
       "      <td>6</td>\n",
       "      <td>...</td>\n",
       "      <td>NaN</td>\n",
       "      <td>NaN</td>\n",
       "      <td>2017-12-12</td>\n",
       "      <td>2018-02</td>\n",
       "      <td>2017-12-12</td>\n",
       "      <td>0</td>\n",
       "      <td>0</td>\n",
       "      <td>0</td>\n",
       "      <td>0</td>\n",
       "      <td>0</td>\n",
       "    </tr>\n",
       "    <tr>\n",
       "      <th>22942</th>\n",
       "      <td>22943</td>\n",
       "      <td>Kepler-81 b</td>\n",
       "      <td>Kepler-81</td>\n",
       "      <td>b</td>\n",
       "      <td>NaN</td>\n",
       "      <td>NaN</td>\n",
       "      <td>TIC 270611154 b</td>\n",
       "      <td>0</td>\n",
       "      <td>1</td>\n",
       "      <td>3</td>\n",
       "      <td>...</td>\n",
       "      <td>NaN</td>\n",
       "      <td>NaN</td>\n",
       "      <td>2016-05-06</td>\n",
       "      <td>2016-05</td>\n",
       "      <td>2016-05-06</td>\n",
       "      <td>1</td>\n",
       "      <td>0</td>\n",
       "      <td>0</td>\n",
       "      <td>0</td>\n",
       "      <td>0</td>\n",
       "    </tr>\n",
       "    <tr>\n",
       "      <th>22953</th>\n",
       "      <td>22954</td>\n",
       "      <td>Kepler-81 c</td>\n",
       "      <td>Kepler-81</td>\n",
       "      <td>c</td>\n",
       "      <td>NaN</td>\n",
       "      <td>NaN</td>\n",
       "      <td>TIC 270611154 c</td>\n",
       "      <td>0</td>\n",
       "      <td>1</td>\n",
       "      <td>3</td>\n",
       "      <td>...</td>\n",
       "      <td>NaN</td>\n",
       "      <td>NaN</td>\n",
       "      <td>2016-05-06</td>\n",
       "      <td>2016-05</td>\n",
       "      <td>2016-05-06</td>\n",
       "      <td>1</td>\n",
       "      <td>0</td>\n",
       "      <td>0</td>\n",
       "      <td>0</td>\n",
       "      <td>0</td>\n",
       "    </tr>\n",
       "    <tr>\n",
       "      <th>22963</th>\n",
       "      <td>22964</td>\n",
       "      <td>Kepler-81 d</td>\n",
       "      <td>Kepler-81</td>\n",
       "      <td>d</td>\n",
       "      <td>NaN</td>\n",
       "      <td>NaN</td>\n",
       "      <td>TIC 270611154 d</td>\n",
       "      <td>0</td>\n",
       "      <td>1</td>\n",
       "      <td>3</td>\n",
       "      <td>...</td>\n",
       "      <td>NaN</td>\n",
       "      <td>NaN</td>\n",
       "      <td>2017-05-08</td>\n",
       "      <td>2017-08</td>\n",
       "      <td>2017-05-08</td>\n",
       "      <td>1</td>\n",
       "      <td>0</td>\n",
       "      <td>0</td>\n",
       "      <td>0</td>\n",
       "      <td>0</td>\n",
       "    </tr>\n",
       "    <tr>\n",
       "      <th>24293</th>\n",
       "      <td>24294</td>\n",
       "      <td>Kepler-93 b</td>\n",
       "      <td>Kepler-93</td>\n",
       "      <td>b</td>\n",
       "      <td>NaN</td>\n",
       "      <td>NaN</td>\n",
       "      <td>TIC 137151335 b</td>\n",
       "      <td>0</td>\n",
       "      <td>1</td>\n",
       "      <td>2</td>\n",
       "      <td>...</td>\n",
       "      <td>NaN</td>\n",
       "      <td>NaN</td>\n",
       "      <td>2018-04-25</td>\n",
       "      <td>2014-07</td>\n",
       "      <td>2018-04-25</td>\n",
       "      <td>1</td>\n",
       "      <td>0</td>\n",
       "      <td>4</td>\n",
       "      <td>3</td>\n",
       "      <td>0</td>\n",
       "    </tr>\n",
       "    <tr>\n",
       "      <th>24716</th>\n",
       "      <td>24717</td>\n",
       "      <td>Kepler-969 c</td>\n",
       "      <td>Kepler-969</td>\n",
       "      <td>c</td>\n",
       "      <td>NaN</td>\n",
       "      <td>NaN</td>\n",
       "      <td>TIC 158785055 c</td>\n",
       "      <td>1</td>\n",
       "      <td>1</td>\n",
       "      <td>2</td>\n",
       "      <td>...</td>\n",
       "      <td>NaN</td>\n",
       "      <td>NaN</td>\n",
       "      <td>2016-05-06</td>\n",
       "      <td>2016-05</td>\n",
       "      <td>2016-05-06</td>\n",
       "      <td>1</td>\n",
       "      <td>0</td>\n",
       "      <td>0</td>\n",
       "      <td>0</td>\n",
       "      <td>0</td>\n",
       "    </tr>\n",
       "    <tr>\n",
       "      <th>24702</th>\n",
       "      <td>24703</td>\n",
       "      <td>Kepler-969 b</td>\n",
       "      <td>Kepler-969</td>\n",
       "      <td>b</td>\n",
       "      <td>NaN</td>\n",
       "      <td>NaN</td>\n",
       "      <td>TIC 158785055 b</td>\n",
       "      <td>1</td>\n",
       "      <td>1</td>\n",
       "      <td>2</td>\n",
       "      <td>...</td>\n",
       "      <td>NaN</td>\n",
       "      <td>NaN</td>\n",
       "      <td>2016-05-06</td>\n",
       "      <td>2016-05</td>\n",
       "      <td>2016-05-06</td>\n",
       "      <td>1</td>\n",
       "      <td>0</td>\n",
       "      <td>0</td>\n",
       "      <td>0</td>\n",
       "      <td>0</td>\n",
       "    </tr>\n",
       "    <tr>\n",
       "      <th>24719</th>\n",
       "      <td>24720</td>\n",
       "      <td>Kepler-97 b</td>\n",
       "      <td>Kepler-97</td>\n",
       "      <td>b</td>\n",
       "      <td>NaN</td>\n",
       "      <td>NaN</td>\n",
       "      <td>TIC 399951991 b</td>\n",
       "      <td>0</td>\n",
       "      <td>1</td>\n",
       "      <td>2</td>\n",
       "      <td>...</td>\n",
       "      <td>NaN</td>\n",
       "      <td>NaN</td>\n",
       "      <td>2018-09-04</td>\n",
       "      <td>2018-05</td>\n",
       "      <td>2018-09-04</td>\n",
       "      <td>1</td>\n",
       "      <td>0</td>\n",
       "      <td>0</td>\n",
       "      <td>0</td>\n",
       "      <td>0</td>\n",
       "    </tr>\n",
       "    <tr>\n",
       "      <th>25025</th>\n",
       "      <td>25026</td>\n",
       "      <td>LHS 1140 c</td>\n",
       "      <td>LHS 1140</td>\n",
       "      <td>c</td>\n",
       "      <td>NaN</td>\n",
       "      <td>NaN</td>\n",
       "      <td>TIC 92226327 c</td>\n",
       "      <td>1</td>\n",
       "      <td>1</td>\n",
       "      <td>2</td>\n",
       "      <td>...</td>\n",
       "      <td>NaN</td>\n",
       "      <td>NaN</td>\n",
       "      <td>2018-12-03</td>\n",
       "      <td>2019-01</td>\n",
       "      <td>2018-12-03</td>\n",
       "      <td>0</td>\n",
       "      <td>0</td>\n",
       "      <td>0</td>\n",
       "      <td>0</td>\n",
       "      <td>0</td>\n",
       "    </tr>\n",
       "    <tr>\n",
       "      <th>25023</th>\n",
       "      <td>25024</td>\n",
       "      <td>LHS 1140 b</td>\n",
       "      <td>LHS 1140</td>\n",
       "      <td>b</td>\n",
       "      <td>NaN</td>\n",
       "      <td>NaN</td>\n",
       "      <td>TIC 92226327 b</td>\n",
       "      <td>1</td>\n",
       "      <td>1</td>\n",
       "      <td>2</td>\n",
       "      <td>...</td>\n",
       "      <td>NaN</td>\n",
       "      <td>NaN</td>\n",
       "      <td>2018-12-03</td>\n",
       "      <td>2019-01</td>\n",
       "      <td>2018-12-03</td>\n",
       "      <td>0</td>\n",
       "      <td>0</td>\n",
       "      <td>0</td>\n",
       "      <td>0</td>\n",
       "      <td>0</td>\n",
       "    </tr>\n",
       "    <tr>\n",
       "      <th>25466</th>\n",
       "      <td>25467</td>\n",
       "      <td>TRAPPIST-1 b</td>\n",
       "      <td>TRAPPIST-1</td>\n",
       "      <td>b</td>\n",
       "      <td>NaN</td>\n",
       "      <td>NaN</td>\n",
       "      <td>TIC 278892590 b</td>\n",
       "      <td>1</td>\n",
       "      <td>1</td>\n",
       "      <td>7</td>\n",
       "      <td>...</td>\n",
       "      <td>NaN</td>\n",
       "      <td>NaN</td>\n",
       "      <td>2017-02-17</td>\n",
       "      <td>2017-02</td>\n",
       "      <td>2017-02-17</td>\n",
       "      <td>1</td>\n",
       "      <td>0</td>\n",
       "      <td>0</td>\n",
       "      <td>0</td>\n",
       "      <td>0</td>\n",
       "    </tr>\n",
       "    <tr>\n",
       "      <th>25469</th>\n",
       "      <td>25470</td>\n",
       "      <td>TRAPPIST-1 c</td>\n",
       "      <td>TRAPPIST-1</td>\n",
       "      <td>c</td>\n",
       "      <td>NaN</td>\n",
       "      <td>NaN</td>\n",
       "      <td>TIC 278892590 c</td>\n",
       "      <td>1</td>\n",
       "      <td>1</td>\n",
       "      <td>7</td>\n",
       "      <td>...</td>\n",
       "      <td>NaN</td>\n",
       "      <td>NaN</td>\n",
       "      <td>2017-02-17</td>\n",
       "      <td>2017-02</td>\n",
       "      <td>2017-02-17</td>\n",
       "      <td>1</td>\n",
       "      <td>0</td>\n",
       "      <td>0</td>\n",
       "      <td>0</td>\n",
       "      <td>0</td>\n",
       "    </tr>\n",
       "    <tr>\n",
       "      <th>25470</th>\n",
       "      <td>25471</td>\n",
       "      <td>TRAPPIST-1 d</td>\n",
       "      <td>TRAPPIST-1</td>\n",
       "      <td>d</td>\n",
       "      <td>NaN</td>\n",
       "      <td>NaN</td>\n",
       "      <td>TIC 278892590 d</td>\n",
       "      <td>1</td>\n",
       "      <td>1</td>\n",
       "      <td>7</td>\n",
       "      <td>...</td>\n",
       "      <td>NaN</td>\n",
       "      <td>NaN</td>\n",
       "      <td>2017-02-17</td>\n",
       "      <td>2017-02</td>\n",
       "      <td>2017-02-17</td>\n",
       "      <td>3</td>\n",
       "      <td>0</td>\n",
       "      <td>0</td>\n",
       "      <td>0</td>\n",
       "      <td>0</td>\n",
       "    </tr>\n",
       "    <tr>\n",
       "      <th>25471</th>\n",
       "      <td>25472</td>\n",
       "      <td>TRAPPIST-1 e</td>\n",
       "      <td>TRAPPIST-1</td>\n",
       "      <td>e</td>\n",
       "      <td>NaN</td>\n",
       "      <td>NaN</td>\n",
       "      <td>TIC 278892590 e</td>\n",
       "      <td>1</td>\n",
       "      <td>1</td>\n",
       "      <td>7</td>\n",
       "      <td>...</td>\n",
       "      <td>NaN</td>\n",
       "      <td>NaN</td>\n",
       "      <td>2017-02-17</td>\n",
       "      <td>2017-02</td>\n",
       "      <td>2017-02-17</td>\n",
       "      <td>1</td>\n",
       "      <td>0</td>\n",
       "      <td>0</td>\n",
       "      <td>0</td>\n",
       "      <td>0</td>\n",
       "    </tr>\n",
       "    <tr>\n",
       "      <th>25472</th>\n",
       "      <td>25473</td>\n",
       "      <td>TRAPPIST-1 f</td>\n",
       "      <td>TRAPPIST-1</td>\n",
       "      <td>f</td>\n",
       "      <td>NaN</td>\n",
       "      <td>NaN</td>\n",
       "      <td>TIC 278892590 f</td>\n",
       "      <td>1</td>\n",
       "      <td>1</td>\n",
       "      <td>7</td>\n",
       "      <td>...</td>\n",
       "      <td>NaN</td>\n",
       "      <td>NaN</td>\n",
       "      <td>2017-02-17</td>\n",
       "      <td>2017-02</td>\n",
       "      <td>2017-02-17</td>\n",
       "      <td>1</td>\n",
       "      <td>0</td>\n",
       "      <td>0</td>\n",
       "      <td>0</td>\n",
       "      <td>0</td>\n",
       "    </tr>\n",
       "    <tr>\n",
       "      <th>25473</th>\n",
       "      <td>25474</td>\n",
       "      <td>TRAPPIST-1 g</td>\n",
       "      <td>TRAPPIST-1</td>\n",
       "      <td>g</td>\n",
       "      <td>NaN</td>\n",
       "      <td>NaN</td>\n",
       "      <td>TIC 278892590 g</td>\n",
       "      <td>1</td>\n",
       "      <td>1</td>\n",
       "      <td>7</td>\n",
       "      <td>...</td>\n",
       "      <td>NaN</td>\n",
       "      <td>NaN</td>\n",
       "      <td>2017-02-17</td>\n",
       "      <td>2017-02</td>\n",
       "      <td>2017-02-17</td>\n",
       "      <td>1</td>\n",
       "      <td>0</td>\n",
       "      <td>0</td>\n",
       "      <td>13</td>\n",
       "      <td>0</td>\n",
       "    </tr>\n",
       "    <tr>\n",
       "      <th>25475</th>\n",
       "      <td>25476</td>\n",
       "      <td>TRAPPIST-1 h</td>\n",
       "      <td>TRAPPIST-1</td>\n",
       "      <td>h</td>\n",
       "      <td>NaN</td>\n",
       "      <td>NaN</td>\n",
       "      <td>TIC 278892590 h</td>\n",
       "      <td>1</td>\n",
       "      <td>1</td>\n",
       "      <td>7</td>\n",
       "      <td>...</td>\n",
       "      <td>NaN</td>\n",
       "      <td>NaN</td>\n",
       "      <td>2017-06-13</td>\n",
       "      <td>2017-06</td>\n",
       "      <td>2017-06-13</td>\n",
       "      <td>1</td>\n",
       "      <td>0</td>\n",
       "      <td>0</td>\n",
       "      <td>0</td>\n",
       "      <td>0</td>\n",
       "    </tr>\n",
       "  </tbody>\n",
       "</table>\n",
       "<p>243 rows × 296 columns</p>\n",
       "</div>"
      ],
      "text/plain": [
       "       rowid        pl_name     hostname pl_letter  hd_name      hip_name  \\\n",
       "537      538      GJ 9827 b      GJ 9827         b      NaN  HIP 115752 b   \n",
       "541      542      GJ 9827 c      GJ 9827         c      NaN  HIP 115752 c   \n",
       "545      546      GJ 9827 d      GJ 9827         d      NaN  HIP 115752 d   \n",
       "2580    2581       K2-141 b       K2-141         b      NaN           NaN   \n",
       "2582    2583       K2-141 c       K2-141         c      NaN           NaN   \n",
       "3091    3092       K2-229 b       K2-229         b      NaN           NaN   \n",
       "3095    3096       K2-229 c       K2-229         c      NaN           NaN   \n",
       "3108    3109       K2-233 b       K2-233         b      NaN           NaN   \n",
       "3109    3110       K2-233 c       K2-233         c      NaN           NaN   \n",
       "3110    3111       K2-233 d       K2-233         d      NaN           NaN   \n",
       "4185    4186    Kepler-10 b    Kepler-10         b      NaN           NaN   \n",
       "4217    4218    Kepler-10 c    Kepler-10         c      NaN           NaN   \n",
       "4222    4223   Kepler-100 b   Kepler-100         b      NaN           NaN   \n",
       "4232    4233   Kepler-100 c   Kepler-100         c      NaN           NaN   \n",
       "4247    4248   Kepler-100 d   Kepler-100         d      NaN           NaN   \n",
       "4455    4456   Kepler-102 b   Kepler-102         b      NaN           NaN   \n",
       "4472    4473   Kepler-102 c   Kepler-102         c      NaN           NaN   \n",
       "4485    4486   Kepler-102 d   Kepler-102         d      NaN           NaN   \n",
       "4486    4487   Kepler-102 e   Kepler-102         e      NaN           NaN   \n",
       "4499    4500   Kepler-102 f   Kepler-102         f      NaN           NaN   \n",
       "4805    4806  Kepler-1047 c  Kepler-1047         c      NaN           NaN   \n",
       "4798    4799  Kepler-1047 b  Kepler-1047         b      NaN           NaN   \n",
       "5076    5077   Kepler-107 b   Kepler-107         b      NaN           NaN   \n",
       "5089    5090   Kepler-107 c   Kepler-107         c      NaN           NaN   \n",
       "5110    5111   Kepler-107 d   Kepler-107         d      NaN           NaN   \n",
       "5113    5114   Kepler-107 e   Kepler-107         e      NaN           NaN   \n",
       "5951    5952   Kepler-114 b   Kepler-114         b      NaN           NaN   \n",
       "5968    5969   Kepler-114 c   Kepler-114         c      NaN           NaN   \n",
       "5976    5977   Kepler-114 d   Kepler-114         d      NaN           NaN   \n",
       "6391    6392   Kepler-118 b   Kepler-118         b      NaN           NaN   \n",
       "...      ...            ...          ...       ...      ...           ...   \n",
       "21144  21145    Kepler-65 c    Kepler-65         c      NaN           NaN   \n",
       "21154  21155    Kepler-65 d    Kepler-65         d      NaN           NaN   \n",
       "21469  21470    Kepler-68 b    Kepler-68         b      NaN           NaN   \n",
       "21482  21483    Kepler-68 c    Kepler-68         c      NaN           NaN   \n",
       "22014  22015   Kepler-732 c   Kepler-732         c      NaN           NaN   \n",
       "22007  22008   Kepler-732 b   Kepler-732         b      NaN           NaN   \n",
       "22247  22248   Kepler-755 b   Kepler-755         b      NaN           NaN   \n",
       "22259  22260   Kepler-755 c   Kepler-755         c      NaN           NaN   \n",
       "22826  22827    Kepler-80 f    Kepler-80         f      NaN           NaN   \n",
       "22810  22811    Kepler-80 d    Kepler-80         d      NaN           NaN   \n",
       "22823  22824    Kepler-80 e    Kepler-80         e      NaN           NaN   \n",
       "22786  22787    Kepler-80 b    Kepler-80         b      NaN           NaN   \n",
       "22798  22799    Kepler-80 c    Kepler-80         c      NaN           NaN   \n",
       "22833  22834    Kepler-80 g    Kepler-80         g      NaN           NaN   \n",
       "22942  22943    Kepler-81 b    Kepler-81         b      NaN           NaN   \n",
       "22953  22954    Kepler-81 c    Kepler-81         c      NaN           NaN   \n",
       "22963  22964    Kepler-81 d    Kepler-81         d      NaN           NaN   \n",
       "24293  24294    Kepler-93 b    Kepler-93         b      NaN           NaN   \n",
       "24716  24717   Kepler-969 c   Kepler-969         c      NaN           NaN   \n",
       "24702  24703   Kepler-969 b   Kepler-969         b      NaN           NaN   \n",
       "24719  24720    Kepler-97 b    Kepler-97         b      NaN           NaN   \n",
       "25025  25026     LHS 1140 c     LHS 1140         c      NaN           NaN   \n",
       "25023  25024     LHS 1140 b     LHS 1140         b      NaN           NaN   \n",
       "25466  25467   TRAPPIST-1 b   TRAPPIST-1         b      NaN           NaN   \n",
       "25469  25470   TRAPPIST-1 c   TRAPPIST-1         c      NaN           NaN   \n",
       "25470  25471   TRAPPIST-1 d   TRAPPIST-1         d      NaN           NaN   \n",
       "25471  25472   TRAPPIST-1 e   TRAPPIST-1         e      NaN           NaN   \n",
       "25472  25473   TRAPPIST-1 f   TRAPPIST-1         f      NaN           NaN   \n",
       "25473  25474   TRAPPIST-1 g   TRAPPIST-1         g      NaN           NaN   \n",
       "25475  25476   TRAPPIST-1 h   TRAPPIST-1         h      NaN           NaN   \n",
       "\n",
       "                tic_id default_flag sy_snum sy_pnum   ...    sy_kepmagerr1  \\\n",
       "537    TIC 301289516 b            1       1       3   ...              NaN   \n",
       "541    TIC 301289516 c            1       1       3   ...              NaN   \n",
       "545    TIC 301289516 d            1       1       3   ...              NaN   \n",
       "2580   TIC 301235044 b            0       1       2   ...              NaN   \n",
       "2582   TIC 301235044 c            1       1       2   ...              NaN   \n",
       "3091    TIC 98720809 b            0       1       2   ...              NaN   \n",
       "3095    TIC 98720809 c            0       1       2   ...              NaN   \n",
       "3108   TIC 428820090 b            1       1       3   ...              NaN   \n",
       "3109   TIC 428820090 c            1       1       3   ...              NaN   \n",
       "3110   TIC 428820090 d            1       1       3   ...              NaN   \n",
       "4185   TIC 377780790 b            0       1       2   ...              NaN   \n",
       "4217   TIC 377780790 c            0       1       2   ...              NaN   \n",
       "4222   TIC 159654016 b            0       1       3   ...              NaN   \n",
       "4232   TIC 159654016 c            0       1       3   ...              NaN   \n",
       "4247   TIC 159654016 d            0       1       3   ...              NaN   \n",
       "4455   TIC 123357864 b            0       1       5   ...              NaN   \n",
       "4472   TIC 123357864 c            0       1       5   ...              NaN   \n",
       "4485   TIC 123357864 d            0       1       5   ...              NaN   \n",
       "4486   TIC 123357864 e            1       1       5   ...              NaN   \n",
       "4499   TIC 123357864 f            1       1       5   ...              NaN   \n",
       "4805   TIC 299029323 c            0       1       2   ...              NaN   \n",
       "4798   TIC 299029323 b            0       1       2   ...              NaN   \n",
       "5076    TIC 27988327 b            1       1       4   ...              NaN   \n",
       "5089    TIC 27988327 c            1       1       4   ...              NaN   \n",
       "5110    TIC 27988327 d            0       1       4   ...              NaN   \n",
       "5113    TIC 27988327 e            1       1       4   ...              NaN   \n",
       "5951    TIC 27011135 b            0       1       3   ...              NaN   \n",
       "5968    TIC 27011135 c            0       1       3   ...              NaN   \n",
       "5976    TIC 27011135 d            0       1       3   ...              NaN   \n",
       "6391   TIC 171884427 b            0       1       2   ...              NaN   \n",
       "...                ...          ...     ...     ...   ...              ...   \n",
       "21144  TIC 121731834 c            0       1       4   ...              NaN   \n",
       "21154  TIC 121731834 d            0       1       4   ...              NaN   \n",
       "21469  TIC 417676622 b            0       2       3   ...              NaN   \n",
       "21482  TIC 417676622 c            0       2       3   ...              NaN   \n",
       "22014  TIC 164555597 c            0       1       2   ...              NaN   \n",
       "22007  TIC 164555597 b            0       1       2   ...              NaN   \n",
       "22247  TIC 239227652 b            1       2       2   ...              NaN   \n",
       "22259  TIC 239227652 c            1       2       2   ...              NaN   \n",
       "22826  TIC 184296619 f            0       1       6   ...              NaN   \n",
       "22810  TIC 184296619 d            0       1       6   ...              NaN   \n",
       "22823  TIC 184296619 e            1       1       6   ...              NaN   \n",
       "22786  TIC 184296619 b            0       1       6   ...              NaN   \n",
       "22798  TIC 184296619 c            0       1       6   ...              NaN   \n",
       "22833  TIC 184296619 g            1       1       6   ...              NaN   \n",
       "22942  TIC 270611154 b            0       1       3   ...              NaN   \n",
       "22953  TIC 270611154 c            0       1       3   ...              NaN   \n",
       "22963  TIC 270611154 d            0       1       3   ...              NaN   \n",
       "24293  TIC 137151335 b            0       1       2   ...              NaN   \n",
       "24716  TIC 158785055 c            1       1       2   ...              NaN   \n",
       "24702  TIC 158785055 b            1       1       2   ...              NaN   \n",
       "24719  TIC 399951991 b            0       1       2   ...              NaN   \n",
       "25025   TIC 92226327 c            1       1       2   ...              NaN   \n",
       "25023   TIC 92226327 b            1       1       2   ...              NaN   \n",
       "25466  TIC 278892590 b            1       1       7   ...              NaN   \n",
       "25469  TIC 278892590 c            1       1       7   ...              NaN   \n",
       "25470  TIC 278892590 d            1       1       7   ...              NaN   \n",
       "25471  TIC 278892590 e            1       1       7   ...              NaN   \n",
       "25472  TIC 278892590 f            1       1       7   ...              NaN   \n",
       "25473  TIC 278892590 g            1       1       7   ...              NaN   \n",
       "25475  TIC 278892590 h            1       1       7   ...              NaN   \n",
       "\n",
       "      sy_kepmagerr2   rowupdate pl_pubdate releasedate pl_nnotes st_nphot  \\\n",
       "537             NaN  2019-08-23    2019-04  2019-08-23         2        0   \n",
       "541             NaN  2019-08-23    2019-04  2019-08-23         2        0   \n",
       "545             NaN  2019-08-23    2019-04  2019-08-23         2        0   \n",
       "2580            NaN  2019-08-23    2019-08  2019-08-23         0        0   \n",
       "2582            NaN  2018-01-16    2018-03  2018-01-16         1        0   \n",
       "3091            NaN  2019-08-23    2019-08  2019-08-23         0        0   \n",
       "3095            NaN  2018-07-12    2018-03  2018-07-12         0        0   \n",
       "3108            NaN  2018-04-25    2018-03  2018-04-25         1        0   \n",
       "3109            NaN  2018-04-25    2018-03  2018-04-25         1        0   \n",
       "3110            NaN  2018-04-25    2018-03  2018-04-25         1        0   \n",
       "4185            NaN  2015-08-26    2014-02  2015-08-26         2        0   \n",
       "4217            NaN  2020-02-10    2015-08  2020-02-10         2        0   \n",
       "4222            NaN  2015-05-21    2015-08  2015-05-21         1        0   \n",
       "4232            NaN  2015-05-21    2015-08  2015-05-21         1        0   \n",
       "4247            NaN  2014-11-21    2014-12  2014-11-21         1        0   \n",
       "4455            NaN  2016-05-06    2016-05  2016-05-06         1        0   \n",
       "4472            NaN  2015-08-25    2015-09  2015-08-25         1        0   \n",
       "4485            NaN  2016-05-06    2016-05  2016-05-06         1        0   \n",
       "4486            NaN  2014-05-14    2014-02  2014-05-14         1        0   \n",
       "4499            NaN  2016-10-12    2014-02  2016-10-12         1        0   \n",
       "4805            NaN  2018-09-04    2018-05  2018-09-04         1        0   \n",
       "4798            NaN  2018-09-04    2018-05  2018-09-04         1        0   \n",
       "5076            NaN  2019-07-08    2019-02  2019-07-08         1        0   \n",
       "5089            NaN  2019-07-08    2019-02  2019-07-08         1        0   \n",
       "5110            NaN  2015-08-25    2015-09  2015-08-25         1        0   \n",
       "5113            NaN  2019-07-08    2019-02  2019-07-08         1        0   \n",
       "5951            NaN  2016-05-06    2016-05  2016-05-06         1        0   \n",
       "5968            NaN  2016-05-06    2016-05  2016-05-06         1        0   \n",
       "5976            NaN  2016-05-06    2016-05  2016-05-06         1        0   \n",
       "6391            NaN  2017-05-08    2017-08  2017-05-08         1        0   \n",
       "...             ...         ...        ...         ...       ...      ...   \n",
       "21144           NaN  2015-05-21    2015-08  2015-05-21         1        0   \n",
       "21154           NaN  2014-11-18    2014-12  2014-11-18         1        0   \n",
       "21469           NaN  2019-06-07    2014-02  2019-06-07         2        0   \n",
       "21482           NaN  2014-11-18    2014-12  2014-11-18         2        0   \n",
       "22014           NaN  2018-09-04    2018-05  2018-09-04         1        0   \n",
       "22007           NaN  2018-09-04    2018-05  2018-09-04         1        0   \n",
       "22247           NaN  2016-05-06    2016-05  2016-05-06         2        0   \n",
       "22259           NaN  2016-05-06    2016-05  2016-05-06         2        0   \n",
       "22826           NaN  2013-10-28    2014-01  2013-10-28         1        0   \n",
       "22810           NaN  2017-05-08    2017-08  2017-05-08         1        0   \n",
       "22823           NaN  2016-08-04    2016-10  2016-08-04         1        0   \n",
       "22786           NaN  2016-08-04    2016-05  2016-08-04         1        0   \n",
       "22798           NaN  2016-08-04    2016-05  2016-08-04         1        0   \n",
       "22833           NaN  2017-12-12    2018-02  2017-12-12         0        0   \n",
       "22942           NaN  2016-05-06    2016-05  2016-05-06         1        0   \n",
       "22953           NaN  2016-05-06    2016-05  2016-05-06         1        0   \n",
       "22963           NaN  2017-05-08    2017-08  2017-05-08         1        0   \n",
       "24293           NaN  2018-04-25    2014-07  2018-04-25         1        0   \n",
       "24716           NaN  2016-05-06    2016-05  2016-05-06         1        0   \n",
       "24702           NaN  2016-05-06    2016-05  2016-05-06         1        0   \n",
       "24719           NaN  2018-09-04    2018-05  2018-09-04         1        0   \n",
       "25025           NaN  2018-12-03    2019-01  2018-12-03         0        0   \n",
       "25023           NaN  2018-12-03    2019-01  2018-12-03         0        0   \n",
       "25466           NaN  2017-02-17    2017-02  2017-02-17         1        0   \n",
       "25469           NaN  2017-02-17    2017-02  2017-02-17         1        0   \n",
       "25470           NaN  2017-02-17    2017-02  2017-02-17         3        0   \n",
       "25471           NaN  2017-02-17    2017-02  2017-02-17         1        0   \n",
       "25472           NaN  2017-02-17    2017-02  2017-02-17         1        0   \n",
       "25473           NaN  2017-02-17    2017-02  2017-02-17         1        0   \n",
       "25475           NaN  2017-06-13    2017-06  2017-06-13         1        0   \n",
       "\n",
       "      st_nrvc st_ntranspec st_nspec  \n",
       "537         0            0        0  \n",
       "541         0            0        0  \n",
       "545         0            0        0  \n",
       "2580        0            0        0  \n",
       "2582        0            0        0  \n",
       "3091        0            0        0  \n",
       "3095        0            0        0  \n",
       "3108        0            0        0  \n",
       "3109        0            0        0  \n",
       "3110        0            0        0  \n",
       "4185        4            0        0  \n",
       "4217        4            3        0  \n",
       "4222        3            0        0  \n",
       "4232        3            0        0  \n",
       "4247        3            0        0  \n",
       "4455        0            0        0  \n",
       "4472        0            0        0  \n",
       "4485        0            3        0  \n",
       "4486        0            2        0  \n",
       "4499        0            0        0  \n",
       "4805        0            0        0  \n",
       "4798        0            0        0  \n",
       "5076        0            0        0  \n",
       "5089        0            0        0  \n",
       "5110        0            0        0  \n",
       "5113        0            0        0  \n",
       "5951        0            0        0  \n",
       "5968        0            0        0  \n",
       "5976        0            0        0  \n",
       "6391        0            0        0  \n",
       "...       ...          ...      ...  \n",
       "21144       0            0        0  \n",
       "21154       0            0        0  \n",
       "21469       9            3        0  \n",
       "21482       9            0        0  \n",
       "22014       0            0        0  \n",
       "22007       0            0        0  \n",
       "22247       0            0        0  \n",
       "22259       0            0        0  \n",
       "22826       0            0        0  \n",
       "22810       0            0        0  \n",
       "22823       0            0        0  \n",
       "22786       0            0        0  \n",
       "22798       0            0        0  \n",
       "22833       0            0        0  \n",
       "22942       0            0        0  \n",
       "22953       0            0        0  \n",
       "22963       0            0        0  \n",
       "24293       4            3        0  \n",
       "24716       0            0        0  \n",
       "24702       0            0        0  \n",
       "24719       0            0        0  \n",
       "25025       0            0        0  \n",
       "25023       0            0        0  \n",
       "25466       0            0        0  \n",
       "25469       0            0        0  \n",
       "25470       0            0        0  \n",
       "25471       0            0        0  \n",
       "25472       0            0        0  \n",
       "25473       0           13        0  \n",
       "25475       0            0        0  \n",
       "\n",
       "[243 rows x 296 columns]"
      ]
     },
     "execution_count": 7,
     "metadata": {},
     "output_type": "execute_result"
    }
   ],
   "source": [
    "golddf"
   ]
  },
  {
   "cell_type": "code",
   "execution_count": 8,
   "metadata": {},
   "outputs": [
    {
     "data": {
      "text/plain": [
       "(243, 296)"
      ]
     },
     "execution_count": 8,
     "metadata": {},
     "output_type": "execute_result"
    }
   ],
   "source": [
    "golddf.shape"
   ]
  },
  {
   "cell_type": "code",
   "execution_count": 9,
   "metadata": {},
   "outputs": [],
   "source": [
    "adj = pd.DataFrame(columns = [\"R\", \"Rnext\", \"R_err1\", \"R_err2\"])\n",
    "for ID in golddf['hostname'].unique():\n",
    "    s = golddf[golddf['hostname'] == ID]\n",
    "    for i in range(s.shape[0]-1):\n",
    "        if ~np.isnan(s.iloc[i]['pl_rade']) and ~np.isnan(s.iloc[i+1]['pl_rade']): # both have measured radii\n",
    "            if s.iloc[i]['pl_rade'] < 16 and s.iloc[i+1]['pl_rade'] < 16: # Smaller than 16  Earth radii\n",
    "                    adj = adj.append(pd.Series({'R':s.iloc[i]['pl_rade'], 'Rnext':s.iloc[i+1]['pl_rade'], 'R_err1':s.iloc[i]['pl_radeerr1'], 'R_err2':s.iloc[i]['pl_radeerr2']}), ignore_index=True)"
   ]
  },
  {
   "cell_type": "code",
   "execution_count": 10,
   "metadata": {},
   "outputs": [
    {
     "data": {
      "text/plain": [
       "Text(0.3, 6, 'Pearson R = 0.21')"
      ]
     },
     "execution_count": 10,
     "metadata": {},
     "output_type": "execute_result"
    },
    {
     "name": "stderr",
     "output_type": "stream",
     "text": [
      "findfont: Font family ['serif'] not found. Falling back to DejaVu Sans.\n",
      "findfont: Font family ['serif'] not found. Falling back to DejaVu Sans.\n"
     ]
    },
    {
     "data": {
      "image/png": "[encoded data removed]",
      "text/plain": [
       "<Figure size 576x576 with 1 Axes>"
      ]
     },
     "metadata": {
      "needs_background": "light"
     },
     "output_type": "display_data"
    }
   ],
   "source": [
    "from numpy import random\n",
    "from scipy.stats import pearsonr\n",
    "fig, ax = plt.subplots(figsize=(8,8))\n",
    "ax.plot(adj['R'], adj['Rnext'], '.')\n",
    "ax.set_xlim([0.25,16])\n",
    "ax.set_ylim([0.25,16])\n",
    "ax.set_xscale('log')\n",
    "ax.set_yscale('log')\n",
    "ax.set_aspect('equal')\n",
    "ax.set_xlabel('R_i')\n",
    "ax.set_ylabel('R_i+1')\n",
    "ax.plot(np.linspace(0.25,16,10), np.linspace(0.25,16,10), '--')\n",
    "ax.text(0.3, 6, 'Pearson R = {0:.2f}'.format(pearsonr(adj['R'], adj['Rnext'])[0]), fontsize=24)"
   ]
  },
  {
   "cell_type": "code",
   "execution_count": 92,
   "metadata": {},
   "outputs": [],
   "source": [
    "trappist = pd.DataFrame(columns = df.columns)\n",
    "\n",
    "system = df[df['hostname'] == 'TRAPPIST-1'].sort_values('pl_orbper')\n",
    "for name in system['pl_name'].unique():\n",
    "    copies = system[system['pl_name']==name]\n",
    "    try:\n",
    "        trappist=trappist.append(copies[copies['pl_radeerr1'] == copies['pl_radeerr1'].min()].iloc[0])\n",
    "    except:\n",
    "        pass # errors are NaN"
   ]
  },
  {
   "cell_type": "code",
   "execution_count": 96,
   "metadata": {},
   "outputs": [],
   "source": [
    "adj = pd.DataFrame(columns = [\"R\", \"Rnext\", \"R_err1\", \"R_err2\"])\n",
    "for ID in trappist['hostname'].unique():\n",
    "    s = trappist[trappist['hostname'] == ID]\n",
    "    for i in range(s.shape[0]-1):\n",
    "        if ~np.isnan(s.iloc[i]['pl_rade']) and ~np.isnan(s.iloc[i+1]['pl_rade']): # both have measured radii\n",
    "            if s.iloc[i]['pl_rade'] < 16 and s.iloc[i+1]['pl_rade'] < 16: # Smaller than 16  Earth radii\n",
    "                    adj = adj.append(pd.Series({'R':s.iloc[i]['pl_rade'], 'Rnext':s.iloc[i+1]['pl_rade'], 'R_err1':s.iloc[i]['pl_radeerr1'], 'R_err2':s.iloc[i]['pl_radeerr2']}), ignore_index=True)"
   ]
  },
  {
   "cell_type": "code",
   "execution_count": 97,
   "metadata": {},
   "outputs": [
    {
     "data": {
      "text/plain": [
       "Text(0.3, 6, 'Pearson R = -0.18')"
      ]
     },
     "execution_count": 97,
     "metadata": {},
     "output_type": "execute_result"
    },
    {
     "data": {
      "image/png": "[encoded data removed]",
      "text/plain": [
       "<Figure size 576x576 with 1 Axes>"
      ]
     },
     "metadata": {
      "needs_background": "light"
     },
     "output_type": "display_data"
    }
   ],
   "source": [
    "from numpy import random\n",
    "from scipy.stats import pearsonr\n",
    "fig, ax = plt.subplots(figsize=(8,8))\n",
    "ax.plot(adj['R'], adj['Rnext'], '.')\n",
    "ax.set_xlim([0.25,16])\n",
    "ax.set_ylim([0.25,16])\n",
    "ax.set_xscale('log')\n",
    "ax.set_yscale('log')\n",
    "ax.set_aspect('equal')\n",
    "ax.set_xlabel('R_i')\n",
    "ax.set_ylabel('R_i+1')\n",
    "ax.plot(np.linspace(0.25,16,10), np.linspace(0.25,16,10), '--')\n",
    "ax.text(0.3, 6, 'Pearson R = {0:.2f}'.format(pearsonr(adj['R'], adj['Rnext'])[0]), fontsize=24)"
   ]
  },
  {
   "cell_type": "code",
   "execution_count": null,
   "metadata": {},
   "outputs": [],
   "source": []
  }
 ],
 "metadata": {
  "kernelspec": {
   "display_name": "Python 3",
   "language": "python",
   "name": "python3"
  },
  "language_info": {
   "codemirror_mode": {
    "name": "ipython",
    "version": 3
   },
   "file_extension": ".py",
   "mimetype": "text/x-python",
   "name": "python",
   "nbconvert_exporter": "python",
   "pygments_lexer": "ipython3",
   "version": "3.7.1"
  }
 },
 "nbformat": 4,
 "nbformat_minor": 2
}
